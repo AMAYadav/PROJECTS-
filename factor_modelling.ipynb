{
  "nbformat": 4,
  "nbformat_minor": 0,
  "metadata": {
    "colab": {
      "name": "factor_modelling.ipynb",
      "provenance": [],
      "collapsed_sections": [],
      "authorship_tag": "ABX9TyMqca8aoAnIjbg5LqOzG/qw",
      "include_colab_link": true
    },
    "kernelspec": {
      "display_name": "Python 3",
      "name": "python3"
    },
    "language_info": {
      "name": "python"
    }
  },
  "cells": [
    {
      "cell_type": "markdown",
      "metadata": {
        "id": "view-in-github",
        "colab_type": "text"
      },
      "source": [
        "<a href=\"https://colab.research.google.com/github/AMAYadav/PROJECTS-/blob/main/factor_modelling.ipynb\" target=\"_parent\"><img src=\"https://colab.research.google.com/assets/colab-badge.svg\" alt=\"Open In Colab\"/></a>"
      ]
    },
    {
      "cell_type": "code",
      "metadata": {
        "id": "obnYeIjQRhxk"
      },
      "source": [
        "import pandas as pd\n",
        "import numpy as np\n",
        "import matplotlib.pyplot as plt\n",
        "%matplotlib inline"
      ],
      "execution_count": 1,
      "outputs": []
    },
    {
      "cell_type": "code",
      "metadata": {
        "colab": {
          "base_uri": "https://localhost:8080/"
        },
        "id": "1whS2_DMR4pV",
        "outputId": "bb670b46-a611-4cf6-c038-4be33af5214c"
      },
      "source": [
        "!pip install yfinance\n",
        "import yfinance as yf"
      ],
      "execution_count": 2,
      "outputs": [
        {
          "output_type": "stream",
          "name": "stdout",
          "text": [
            "Collecting yfinance\n",
            "  Downloading yfinance-0.1.67-py2.py3-none-any.whl (25 kB)\n",
            "Requirement already satisfied: multitasking>=0.0.7 in /usr/local/lib/python3.7/dist-packages (from yfinance) (0.0.10)\n",
            "Requirement already satisfied: numpy>=1.15 in /usr/local/lib/python3.7/dist-packages (from yfinance) (1.19.5)\n",
            "Requirement already satisfied: pandas>=0.24 in /usr/local/lib/python3.7/dist-packages (from yfinance) (1.1.5)\n",
            "Collecting lxml>=4.5.1\n",
            "  Downloading lxml-4.6.4-cp37-cp37m-manylinux_2_17_x86_64.manylinux2014_x86_64.manylinux_2_24_x86_64.whl (6.3 MB)\n",
            "\u001b[K     |████████████████████████████████| 6.3 MB 29.6 MB/s \n",
            "\u001b[?25hRequirement already satisfied: requests>=2.20 in /usr/local/lib/python3.7/dist-packages (from yfinance) (2.23.0)\n",
            "Requirement already satisfied: pytz>=2017.2 in /usr/local/lib/python3.7/dist-packages (from pandas>=0.24->yfinance) (2018.9)\n",
            "Requirement already satisfied: python-dateutil>=2.7.3 in /usr/local/lib/python3.7/dist-packages (from pandas>=0.24->yfinance) (2.8.2)\n",
            "Requirement already satisfied: six>=1.5 in /usr/local/lib/python3.7/dist-packages (from python-dateutil>=2.7.3->pandas>=0.24->yfinance) (1.15.0)\n",
            "Requirement already satisfied: chardet<4,>=3.0.2 in /usr/local/lib/python3.7/dist-packages (from requests>=2.20->yfinance) (3.0.4)\n",
            "Requirement already satisfied: idna<3,>=2.5 in /usr/local/lib/python3.7/dist-packages (from requests>=2.20->yfinance) (2.10)\n",
            "Requirement already satisfied: certifi>=2017.4.17 in /usr/local/lib/python3.7/dist-packages (from requests>=2.20->yfinance) (2021.10.8)\n",
            "Requirement already satisfied: urllib3!=1.25.0,!=1.25.1,<1.26,>=1.21.1 in /usr/local/lib/python3.7/dist-packages (from requests>=2.20->yfinance) (1.24.3)\n",
            "Installing collected packages: lxml, yfinance\n",
            "  Attempting uninstall: lxml\n",
            "    Found existing installation: lxml 4.2.6\n",
            "    Uninstalling lxml-4.2.6:\n",
            "      Successfully uninstalled lxml-4.2.6\n",
            "Successfully installed lxml-4.6.4 yfinance-0.1.67\n"
          ]
        }
      ]
    },
    {
      "cell_type": "code",
      "metadata": {
        "id": "1NRHhHByR4vZ"
      },
      "source": [
        ""
      ],
      "execution_count": null,
      "outputs": []
    },
    {
      "cell_type": "code",
      "metadata": {
        "id": "mFBNZLqXbntT"
      },
      "source": [
        ""
      ],
      "execution_count": null,
      "outputs": []
    },
    {
      "cell_type": "markdown",
      "metadata": {
        "id": "f0sXilwsbk8o"
      },
      "source": [
        "Factor Modelling - To explain the Excess Returns of a portfolio or Assets using factors\n",
        " "
      ]
    },
    {
      "cell_type": "code",
      "metadata": {
        "id": "yYCdPOb2R4yq"
      },
      "source": [
        "asset='BAJAJ-AUTO.NS';start='2018-04-01';end= '2021-10-31'"
      ],
      "execution_count": 15,
      "outputs": []
    },
    {
      "cell_type": "code",
      "metadata": {
        "colab": {
          "base_uri": "https://localhost:8080/",
          "height": 508
        },
        "id": "S_g3qCEQR41s",
        "outputId": "b09543b5-e2fd-4259-81f8-d7d3383399f6"
      },
      "source": [
        "stock= yf.download(tickers='BAJAJ-AUTO.NS',start=start,end=end,rounding=True,auto_adjust=False)[['Adj Close','Volume']]\n",
        "stock.plot(subplots=True,figsize=(20,8),kind='line')\n",
        "plt.legend(loc='upper left')"
      ],
      "execution_count": 16,
      "outputs": [
        {
          "output_type": "stream",
          "name": "stdout",
          "text": [
            "\r[*********************100%***********************]  1 of 1 completed\n"
          ]
        },
        {
          "output_type": "execute_result",
          "data": {
            "text/plain": [
              "<matplotlib.legend.Legend at 0x7f6faebd4890>"
            ]
          },
          "metadata": {},
          "execution_count": 16
        },
        {
          "output_type": "display_data",
          "data": {
            "image/png": "[encoded data removed]",
            "text/plain": [
              "<Figure size 1440x576 with 2 Axes>"
            ]
          },
          "metadata": {
            "needs_background": "light"
          }
        }
      ]
    },
    {
      "cell_type": "code",
      "metadata": {
        "colab": {
          "base_uri": "https://localhost:8080/",
          "height": 238
        },
        "id": "pgB3Wd1vhHVR",
        "outputId": "07326d33-3c71-47e2-9e27-8df941fe08b7"
      },
      "source": [
        "del stock['Volume']\n",
        "stock.head()"
      ],
      "execution_count": 24,
      "outputs": [
        {
          "output_type": "execute_result",
          "data": {
            "text/html": [
              "<div>\n",
              "<style scoped>\n",
              "    .dataframe tbody tr th:only-of-type {\n",
              "        vertical-align: middle;\n",
              "    }\n",
              "\n",
              "    .dataframe tbody tr th {\n",
              "        vertical-align: top;\n",
              "    }\n",
              "\n",
              "    .dataframe thead th {\n",
              "        text-align: right;\n",
              "    }\n",
              "</style>\n",
              "<table border=\"1\" class=\"dataframe\">\n",
              "  <thead>\n",
              "    <tr style=\"text-align: right;\">\n",
              "      <th></th>\n",
              "      <th>Adj Close</th>\n",
              "    </tr>\n",
              "    <tr>\n",
              "      <th>Date</th>\n",
              "      <th></th>\n",
              "    </tr>\n",
              "  </thead>\n",
              "  <tbody>\n",
              "    <tr>\n",
              "      <th>2018-04-02</th>\n",
              "      <td>2490.29</td>\n",
              "    </tr>\n",
              "    <tr>\n",
              "      <th>2018-04-03</th>\n",
              "      <td>2475.27</td>\n",
              "    </tr>\n",
              "    <tr>\n",
              "      <th>2018-04-04</th>\n",
              "      <td>2452.22</td>\n",
              "    </tr>\n",
              "    <tr>\n",
              "      <th>2018-04-05</th>\n",
              "      <td>2489.58</td>\n",
              "    </tr>\n",
              "    <tr>\n",
              "      <th>2018-04-06</th>\n",
              "      <td>2470.30</td>\n",
              "    </tr>\n",
              "  </tbody>\n",
              "</table>\n",
              "</div>"
            ],
            "text/plain": [
              "            Adj Close\n",
              "Date                 \n",
              "2018-04-02    2490.29\n",
              "2018-04-03    2475.27\n",
              "2018-04-04    2452.22\n",
              "2018-04-05    2489.58\n",
              "2018-04-06    2470.30"
            ]
          },
          "metadata": {},
          "execution_count": 24
        }
      ]
    },
    {
      "cell_type": "code",
      "metadata": {
        "id": "cif0mdMhjyUN"
      },
      "source": [
        "y = stock['Adj Close'].resample('M') \\\n",
        " .last() \\\n",
        " .pct_change() \\\n",
        " .dropna()\n",
        "\n"
      ],
      "execution_count": 25,
      "outputs": []
    },
    {
      "cell_type": "code",
      "metadata": {
        "id": "AjaBe2DuhO62"
      },
      "source": [
        "y.index= y.index.strftime('%Y-%m')"
      ],
      "execution_count": 26,
      "outputs": []
    },
    {
      "cell_type": "code",
      "metadata": {
        "colab": {
          "base_uri": "https://localhost:8080/"
        },
        "id": "ovlfNanGl4Rv",
        "outputId": "825b368c-caeb-49f6-a94b-c4d7c2f1dc3e"
      },
      "source": [
        "y.name='returns'\n",
        "y.head()"
      ],
      "execution_count": 27,
      "outputs": [
        {
          "output_type": "execute_result",
          "data": {
            "text/plain": [
              "Date\n",
              "2018-05   -0.068516\n",
              "2018-06    0.021814\n",
              "2018-07   -0.019482\n",
              "2018-08    0.016591\n",
              "2018-09   -0.020910\n",
              "Name: returns, dtype: float64"
            ]
          },
          "metadata": {},
          "execution_count": 27
        }
      ]
    },
    {
      "cell_type": "code",
      "metadata": {
        "colab": {
          "base_uri": "https://localhost:8080/",
          "height": 206
        },
        "id": "uxmqteMUR452",
        "outputId": "900ab73f-aa7a-4e44-c029-f15fb70a47ff"
      },
      "source": [
        "url=['https://faculty.iima.ac.in/~iffm/Indian-Fama-French-Momentum/']\n",
        "\n",
        "file=pd.read_csv('/content/20191231_FourFactors_and_Market_Returns_Monthly.csv')\n",
        "file.tail()"
      ],
      "execution_count": 46,
      "outputs": [
        {
          "output_type": "execute_result",
          "data": {
            "text/html": [
              "<div>\n",
              "<style scoped>\n",
              "    .dataframe tbody tr th:only-of-type {\n",
              "        vertical-align: middle;\n",
              "    }\n",
              "\n",
              "    .dataframe tbody tr th {\n",
              "        vertical-align: top;\n",
              "    }\n",
              "\n",
              "    .dataframe thead th {\n",
              "        text-align: right;\n",
              "    }\n",
              "</style>\n",
              "<table border=\"1\" class=\"dataframe\">\n",
              "  <thead>\n",
              "    <tr style=\"text-align: right;\">\n",
              "      <th></th>\n",
              "      <th>Month</th>\n",
              "      <th>SMB %</th>\n",
              "      <th>HML %</th>\n",
              "      <th>WML %</th>\n",
              "      <th>Rm %</th>\n",
              "      <th>Rf %</th>\n",
              "      <th>Rm-Rf %</th>\n",
              "    </tr>\n",
              "  </thead>\n",
              "  <tbody>\n",
              "    <tr>\n",
              "      <th>310</th>\n",
              "      <td>201908</td>\n",
              "      <td>0.534308</td>\n",
              "      <td>-4.763220</td>\n",
              "      <td>8.678124</td>\n",
              "      <td>-0.285534</td>\n",
              "      <td>0.429547</td>\n",
              "      <td>-0.712210</td>\n",
              "    </tr>\n",
              "    <tr>\n",
              "      <th>311</th>\n",
              "      <td>201909</td>\n",
              "      <td>3.571848</td>\n",
              "      <td>-7.878491</td>\n",
              "      <td>4.201514</td>\n",
              "      <td>4.291048</td>\n",
              "      <td>0.396424</td>\n",
              "      <td>3.880013</td>\n",
              "    </tr>\n",
              "    <tr>\n",
              "      <th>312</th>\n",
              "      <td>201910</td>\n",
              "      <td>-4.433875</td>\n",
              "      <td>-3.866972</td>\n",
              "      <td>-5.963407</td>\n",
              "      <td>4.692373</td>\n",
              "      <td>0.404875</td>\n",
              "      <td>4.271045</td>\n",
              "    </tr>\n",
              "    <tr>\n",
              "      <th>313</th>\n",
              "      <td>201911</td>\n",
              "      <td>-2.334562</td>\n",
              "      <td>0.012786</td>\n",
              "      <td>-7.226742</td>\n",
              "      <td>0.255699</td>\n",
              "      <td>0.393417</td>\n",
              "      <td>-0.137210</td>\n",
              "    </tr>\n",
              "    <tr>\n",
              "      <th>314</th>\n",
              "      <td>201912</td>\n",
              "      <td>-1.031962</td>\n",
              "      <td>-4.163211</td>\n",
              "      <td>5.059692</td>\n",
              "      <td>0.225183</td>\n",
              "      <td>0.409071</td>\n",
              "      <td>-0.183171</td>\n",
              "    </tr>\n",
              "  </tbody>\n",
              "</table>\n",
              "</div>"
            ],
            "text/plain": [
              "      Month     SMB %     HML %     WML %      Rm %      Rf %   Rm-Rf %\n",
              "310  201908  0.534308 -4.763220  8.678124 -0.285534  0.429547 -0.712210\n",
              "311  201909  3.571848 -7.878491  4.201514  4.291048  0.396424  3.880013\n",
              "312  201910 -4.433875 -3.866972 -5.963407  4.692373  0.404875  4.271045\n",
              "313  201911 -2.334562  0.012786 -7.226742  0.255699  0.393417 -0.137210\n",
              "314  201912 -1.031962 -4.163211  5.059692  0.225183  0.409071 -0.183171"
            ]
          },
          "metadata": {},
          "execution_count": 46
        }
      ]
    },
    {
      "cell_type": "code",
      "metadata": {
        "id": "r1TiC_0QciSQ",
        "colab": {
          "base_uri": "https://localhost:8080/",
          "height": 206
        },
        "outputId": "8aa23af4-2de4-4015-c66b-2fd7ceec9705"
      },
      "source": [
        "file.head()"
      ],
      "execution_count": 47,
      "outputs": [
        {
          "output_type": "execute_result",
          "data": {
            "text/html": [
              "<div>\n",
              "<style scoped>\n",
              "    .dataframe tbody tr th:only-of-type {\n",
              "        vertical-align: middle;\n",
              "    }\n",
              "\n",
              "    .dataframe tbody tr th {\n",
              "        vertical-align: top;\n",
              "    }\n",
              "\n",
              "    .dataframe thead th {\n",
              "        text-align: right;\n",
              "    }\n",
              "</style>\n",
              "<table border=\"1\" class=\"dataframe\">\n",
              "  <thead>\n",
              "    <tr style=\"text-align: right;\">\n",
              "      <th></th>\n",
              "      <th>Month</th>\n",
              "      <th>SMB %</th>\n",
              "      <th>HML %</th>\n",
              "      <th>WML %</th>\n",
              "      <th>Rm %</th>\n",
              "      <th>Rf %</th>\n",
              "      <th>Rm-Rf %</th>\n",
              "    </tr>\n",
              "  </thead>\n",
              "  <tbody>\n",
              "    <tr>\n",
              "      <th>0</th>\n",
              "      <td>199310</td>\n",
              "      <td>1.743275</td>\n",
              "      <td>2.336015</td>\n",
              "      <td>5.472541</td>\n",
              "      <td>-1.431621</td>\n",
              "      <td>0.539989</td>\n",
              "      <td>-1.961665</td>\n",
              "    </tr>\n",
              "    <tr>\n",
              "      <th>1</th>\n",
              "      <td>199311</td>\n",
              "      <td>-9.550885</td>\n",
              "      <td>-0.495425</td>\n",
              "      <td>13.678909</td>\n",
              "      <td>17.356034</td>\n",
              "      <td>0.542141</td>\n",
              "      <td>16.728924</td>\n",
              "    </tr>\n",
              "    <tr>\n",
              "      <th>2</th>\n",
              "      <td>199312</td>\n",
              "      <td>-3.223633</td>\n",
              "      <td>8.570654</td>\n",
              "      <td>0.178863</td>\n",
              "      <td>10.726437</td>\n",
              "      <td>0.325955</td>\n",
              "      <td>10.370179</td>\n",
              "    </tr>\n",
              "    <tr>\n",
              "      <th>3</th>\n",
              "      <td>199401</td>\n",
              "      <td>5.183124</td>\n",
              "      <td>-6.113533</td>\n",
              "      <td>-3.875920</td>\n",
              "      <td>20.376547</td>\n",
              "      <td>0.599581</td>\n",
              "      <td>19.665489</td>\n",
              "    </tr>\n",
              "    <tr>\n",
              "      <th>4</th>\n",
              "      <td>199402</td>\n",
              "      <td>0.825280</td>\n",
              "      <td>-3.145383</td>\n",
              "      <td>10.144933</td>\n",
              "      <td>4.356845</td>\n",
              "      <td>0.650502</td>\n",
              "      <td>3.683473</td>\n",
              "    </tr>\n",
              "  </tbody>\n",
              "</table>\n",
              "</div>"
            ],
            "text/plain": [
              "    Month     SMB %     HML %      WML %       Rm %      Rf %    Rm-Rf %\n",
              "0  199310  1.743275  2.336015   5.472541  -1.431621  0.539989  -1.961665\n",
              "1  199311 -9.550885 -0.495425  13.678909  17.356034  0.542141  16.728924\n",
              "2  199312 -3.223633  8.570654   0.178863  10.726437  0.325955  10.370179\n",
              "3  199401  5.183124 -6.113533  -3.875920  20.376547  0.599581  19.665489\n",
              "4  199402  0.825280 -3.145383  10.144933   4.356845  0.650502   3.683473"
            ]
          },
          "metadata": {},
          "execution_count": 47
        }
      ]
    },
    {
      "cell_type": "code",
      "metadata": {
        "id": "hMyvgC_pR4_P"
      },
      "source": [
        "type(file.Month)\n",
        "\n",
        "file.Month = pd.to_datetime(file.Month,format='%Y%m')\n",
        "# file.set_index('Date',inplace=True)"
      ],
      "execution_count": 48,
      "outputs": []
    },
    {
      "cell_type": "code",
      "metadata": {
        "colab": {
          "base_uri": "https://localhost:8080/",
          "height": 206
        },
        "id": "7ZjW9dn6nRdC",
        "outputId": "d6626773-64cd-4cde-b6f3-6e0093420812"
      },
      "source": [
        "file.tail()"
      ],
      "execution_count": 49,
      "outputs": [
        {
          "output_type": "execute_result",
          "data": {
            "text/html": [
              "<div>\n",
              "<style scoped>\n",
              "    .dataframe tbody tr th:only-of-type {\n",
              "        vertical-align: middle;\n",
              "    }\n",
              "\n",
              "    .dataframe tbody tr th {\n",
              "        vertical-align: top;\n",
              "    }\n",
              "\n",
              "    .dataframe thead th {\n",
              "        text-align: right;\n",
              "    }\n",
              "</style>\n",
              "<table border=\"1\" class=\"dataframe\">\n",
              "  <thead>\n",
              "    <tr style=\"text-align: right;\">\n",
              "      <th></th>\n",
              "      <th>Month</th>\n",
              "      <th>SMB %</th>\n",
              "      <th>HML %</th>\n",
              "      <th>WML %</th>\n",
              "      <th>Rm %</th>\n",
              "      <th>Rf %</th>\n",
              "      <th>Rm-Rf %</th>\n",
              "    </tr>\n",
              "  </thead>\n",
              "  <tbody>\n",
              "    <tr>\n",
              "      <th>310</th>\n",
              "      <td>2019-08-01</td>\n",
              "      <td>0.534308</td>\n",
              "      <td>-4.763220</td>\n",
              "      <td>8.678124</td>\n",
              "      <td>-0.285534</td>\n",
              "      <td>0.429547</td>\n",
              "      <td>-0.712210</td>\n",
              "    </tr>\n",
              "    <tr>\n",
              "      <th>311</th>\n",
              "      <td>2019-09-01</td>\n",
              "      <td>3.571848</td>\n",
              "      <td>-7.878491</td>\n",
              "      <td>4.201514</td>\n",
              "      <td>4.291048</td>\n",
              "      <td>0.396424</td>\n",
              "      <td>3.880013</td>\n",
              "    </tr>\n",
              "    <tr>\n",
              "      <th>312</th>\n",
              "      <td>2019-10-01</td>\n",
              "      <td>-4.433875</td>\n",
              "      <td>-3.866972</td>\n",
              "      <td>-5.963407</td>\n",
              "      <td>4.692373</td>\n",
              "      <td>0.404875</td>\n",
              "      <td>4.271045</td>\n",
              "    </tr>\n",
              "    <tr>\n",
              "      <th>313</th>\n",
              "      <td>2019-11-01</td>\n",
              "      <td>-2.334562</td>\n",
              "      <td>0.012786</td>\n",
              "      <td>-7.226742</td>\n",
              "      <td>0.255699</td>\n",
              "      <td>0.393417</td>\n",
              "      <td>-0.137210</td>\n",
              "    </tr>\n",
              "    <tr>\n",
              "      <th>314</th>\n",
              "      <td>2019-12-01</td>\n",
              "      <td>-1.031962</td>\n",
              "      <td>-4.163211</td>\n",
              "      <td>5.059692</td>\n",
              "      <td>0.225183</td>\n",
              "      <td>0.409071</td>\n",
              "      <td>-0.183171</td>\n",
              "    </tr>\n",
              "  </tbody>\n",
              "</table>\n",
              "</div>"
            ],
            "text/plain": [
              "         Month     SMB %     HML %     WML %      Rm %      Rf %   Rm-Rf %\n",
              "310 2019-08-01  0.534308 -4.763220  8.678124 -0.285534  0.429547 -0.712210\n",
              "311 2019-09-01  3.571848 -7.878491  4.201514  4.291048  0.396424  3.880013\n",
              "312 2019-10-01 -4.433875 -3.866972 -5.963407  4.692373  0.404875  4.271045\n",
              "313 2019-11-01 -2.334562  0.012786 -7.226742  0.255699  0.393417 -0.137210\n",
              "314 2019-12-01 -1.031962 -4.163211  5.059692  0.225183  0.409071 -0.183171"
            ]
          },
          "metadata": {},
          "execution_count": 49
        }
      ]
    },
    {
      "cell_type": "code",
      "metadata": {
        "id": "ch85WLcnb8D2",
        "colab": {
          "base_uri": "https://localhost:8080/"
        },
        "outputId": "fac06c41-d239-4a43-baa5-202c44555dee"
      },
      "source": [
        "file_1=file.Month.loc['start':'end']\n",
        "len(file_1)"
      ],
      "execution_count": 42,
      "outputs": [
        {
          "output_type": "execute_result",
          "data": {
            "text/plain": [
              "0"
            ]
          },
          "metadata": {},
          "execution_count": 42
        }
      ]
    },
    {
      "cell_type": "code",
      "metadata": {
        "colab": {
          "base_uri": "https://localhost:8080/",
          "height": 206
        },
        "id": "-IbArQLJozRd",
        "outputId": "b9bddf13-8323-4bd2-8b43-1e129743a0b1"
      },
      "source": [
        "file[['Month']].head()"
      ],
      "execution_count": 51,
      "outputs": [
        {
          "output_type": "execute_result",
          "data": {
            "text/html": [
              "<div>\n",
              "<style scoped>\n",
              "    .dataframe tbody tr th:only-of-type {\n",
              "        vertical-align: middle;\n",
              "    }\n",
              "\n",
              "    .dataframe tbody tr th {\n",
              "        vertical-align: top;\n",
              "    }\n",
              "\n",
              "    .dataframe thead th {\n",
              "        text-align: right;\n",
              "    }\n",
              "</style>\n",
              "<table border=\"1\" class=\"dataframe\">\n",
              "  <thead>\n",
              "    <tr style=\"text-align: right;\">\n",
              "      <th></th>\n",
              "      <th>Month</th>\n",
              "    </tr>\n",
              "  </thead>\n",
              "  <tbody>\n",
              "    <tr>\n",
              "      <th>0</th>\n",
              "      <td>1993-10-01</td>\n",
              "    </tr>\n",
              "    <tr>\n",
              "      <th>1</th>\n",
              "      <td>1993-11-01</td>\n",
              "    </tr>\n",
              "    <tr>\n",
              "      <th>2</th>\n",
              "      <td>1993-12-01</td>\n",
              "    </tr>\n",
              "    <tr>\n",
              "      <th>3</th>\n",
              "      <td>1994-01-01</td>\n",
              "    </tr>\n",
              "    <tr>\n",
              "      <th>4</th>\n",
              "      <td>1994-02-01</td>\n",
              "    </tr>\n",
              "  </tbody>\n",
              "</table>\n",
              "</div>"
            ],
            "text/plain": [
              "       Month\n",
              "0 1993-10-01\n",
              "1 1993-11-01\n",
              "2 1993-12-01\n",
              "3 1994-01-01\n",
              "4 1994-02-01"
            ]
          },
          "metadata": {},
          "execution_count": 51
        }
      ]
    },
    {
      "cell_type": "code",
      "metadata": {
        "colab": {
          "base_uri": "https://localhost:8080/"
        },
        "id": "Rcbdt4y3GExw",
        "outputId": "709bc199-c4b7-4381-ad72-1887f8d4e1be"
      },
      "source": [
        "file.columns"
      ],
      "execution_count": 56,
      "outputs": [
        {
          "output_type": "execute_result",
          "data": {
            "text/plain": [
              "Index(['Month', 'SMB %', 'HML %', 'WML %', 'Rm %', 'Rf %', 'Rm-Rf %'], dtype='object')"
            ]
          },
          "metadata": {},
          "execution_count": 56
        }
      ]
    },
    {
      "cell_type": "code",
      "metadata": {
        "id": "VybuL1-9uCwi"
      },
      "source": [
        "file.set_index('Month',inplace=True)"
      ],
      "execution_count": 57,
      "outputs": []
    },
    {
      "cell_type": "code",
      "metadata": {
        "colab": {
          "base_uri": "https://localhost:8080/"
        },
        "id": "us9gpsoyduHo",
        "outputId": "0dcd6a44-d4b6-44fe-cb44-fa1643feeed7"
      },
      "source": [
        "file.columns\n"
      ],
      "execution_count": 58,
      "outputs": [
        {
          "output_type": "execute_result",
          "data": {
            "text/plain": [
              "Index(['SMB %', 'HML %', 'WML %', 'Rm %', 'Rf %', 'Rm-Rf %'], dtype='object')"
            ]
          },
          "metadata": {},
          "execution_count": 58
        }
      ]
    },
    {
      "cell_type": "code",
      "metadata": {
        "id": "aUw_LJDMduKl"
      },
      "source": [
        ""
      ],
      "execution_count": null,
      "outputs": []
    },
    {
      "cell_type": "code",
      "metadata": {
        "id": "ba2_jrLLgRBh"
      },
      "source": [
        ""
      ],
      "execution_count": null,
      "outputs": []
    }
  ]
}