{
  "nbformat": 4,
  "nbformat_minor": 0,
  "metadata": {
    "colab": {
      "name": "factor_modelling.ipynb",
      "provenance": [],
      "collapsed_sections": [],
      "authorship_tag": "ABX9TyNQ+hLxfay+iviCOnBxkGgv",
      "include_colab_link": true
    },
    "kernelspec": {
      "display_name": "Python 3",
      "name": "python3"
    },
    "language_info": {
      "name": "python"
    }
  },
  "cells": [
    {
      "cell_type": "markdown",
      "metadata": {
        "id": "view-in-github",
        "colab_type": "text"
      },
      "source": [
        "<a href=\"https://colab.research.google.com/github/AMAYadav/PROJECTS-/blob/main/factor_modelling.ipynb\" target=\"_parent\"><img src=\"https://colab.research.google.com/assets/colab-badge.svg\" alt=\"Open In Colab\"/></a>"
      ]
    },
    {
      "cell_type": "code",
      "metadata": {
        "id": "obnYeIjQRhxk"
      },
      "source": [
        "import pandas as pd\n",
        "import numpy as np\n",
        "import matplotlib.pyplot as plt\n",
        "%matplotlib inline"
      ],
      "execution_count": 1,
      "outputs": []
    },
    {
      "cell_type": "code",
      "metadata": {
        "colab": {
          "base_uri": "https://localhost:8080/"
        },
        "id": "1whS2_DMR4pV",
        "outputId": "f25ce88e-f7f0-4b22-83b4-a567b3bd6f07"
      },
      "source": [
        "!pip install yfinance\n",
        "import yfinance as yf"
      ],
      "execution_count": 2,
      "outputs": [
        {
          "output_type": "stream",
          "name": "stdout",
          "text": [
            "Collecting yfinance\n",
            "  Downloading yfinance-0.1.67-py2.py3-none-any.whl (25 kB)\n",
            "Collecting lxml>=4.5.1\n",
            "  Downloading lxml-4.6.4-cp37-cp37m-manylinux_2_17_x86_64.manylinux2014_x86_64.manylinux_2_24_x86_64.whl (6.3 MB)\n",
            "\u001b[K     |████████████████████████████████| 6.3 MB 13.6 MB/s \n",
            "\u001b[?25hRequirement already satisfied: numpy>=1.15 in /usr/local/lib/python3.7/dist-packages (from yfinance) (1.19.5)\n",
            "Requirement already satisfied: requests>=2.20 in /usr/local/lib/python3.7/dist-packages (from yfinance) (2.23.0)\n",
            "Requirement already satisfied: pandas>=0.24 in /usr/local/lib/python3.7/dist-packages (from yfinance) (1.1.5)\n",
            "Requirement already satisfied: multitasking>=0.0.7 in /usr/local/lib/python3.7/dist-packages (from yfinance) (0.0.10)\n",
            "Requirement already satisfied: pytz>=2017.2 in /usr/local/lib/python3.7/dist-packages (from pandas>=0.24->yfinance) (2018.9)\n",
            "Requirement already satisfied: python-dateutil>=2.7.3 in /usr/local/lib/python3.7/dist-packages (from pandas>=0.24->yfinance) (2.8.2)\n",
            "Requirement already satisfied: six>=1.5 in /usr/local/lib/python3.7/dist-packages (from python-dateutil>=2.7.3->pandas>=0.24->yfinance) (1.15.0)\n",
            "Requirement already satisfied: certifi>=2017.4.17 in /usr/local/lib/python3.7/dist-packages (from requests>=2.20->yfinance) (2021.10.8)\n",
            "Requirement already satisfied: chardet<4,>=3.0.2 in /usr/local/lib/python3.7/dist-packages (from requests>=2.20->yfinance) (3.0.4)\n",
            "Requirement already satisfied: idna<3,>=2.5 in /usr/local/lib/python3.7/dist-packages (from requests>=2.20->yfinance) (2.10)\n",
            "Requirement already satisfied: urllib3!=1.25.0,!=1.25.1,<1.26,>=1.21.1 in /usr/local/lib/python3.7/dist-packages (from requests>=2.20->yfinance) (1.24.3)\n",
            "Installing collected packages: lxml, yfinance\n",
            "  Attempting uninstall: lxml\n",
            "    Found existing installation: lxml 4.2.6\n",
            "    Uninstalling lxml-4.2.6:\n",
            "      Successfully uninstalled lxml-4.2.6\n",
            "Successfully installed lxml-4.6.4 yfinance-0.1.67\n"
          ]
        }
      ]
    },
    {
      "cell_type": "code",
      "metadata": {
        "id": "1NRHhHByR4vZ"
      },
      "source": [
        ""
      ],
      "execution_count": null,
      "outputs": []
    },
    {
      "cell_type": "code",
      "metadata": {
        "id": "mFBNZLqXbntT"
      },
      "source": [
        ""
      ],
      "execution_count": null,
      "outputs": []
    },
    {
      "cell_type": "markdown",
      "metadata": {
        "id": "f0sXilwsbk8o"
      },
      "source": [
        "Factor Modelling - To explain the Excess Returns of a portfolio or Assets using factors\n",
        " "
      ]
    },
    {
      "cell_type": "code",
      "metadata": {
        "id": "yYCdPOb2R4yq"
      },
      "source": [
        "asset='BAJAJ-AUTO.NS';start='2018-04-01';end= '2021-10-31'"
      ],
      "execution_count": 3,
      "outputs": []
    },
    {
      "cell_type": "code",
      "metadata": {
        "colab": {
          "base_uri": "https://localhost:8080/",
          "height": 508
        },
        "id": "S_g3qCEQR41s",
        "outputId": "4d6d03f9-b86a-4f36-b786-91b5efa1d43d"
      },
      "source": [
        "stock= yf.download(tickers='BAJAJ-AUTO.NS',start=start,end=end,rounding=True,auto_adjust=False)[['Adj Close','Volume']]\n",
        "stock.plot(subplots=True,figsize=(20,8),kind='line')\n",
        "plt.legend(loc='upper left')"
      ],
      "execution_count": 4,
      "outputs": [
        {
          "output_type": "stream",
          "name": "stdout",
          "text": [
            "\r[*********************100%***********************]  1 of 1 completed\n"
          ]
        },
        {
          "output_type": "execute_result",
          "data": {
            "text/plain": [
              "<matplotlib.legend.Legend at 0x7fc9fa20f090>"
            ]
          },
          "metadata": {},
          "execution_count": 4
        },
        {
          "output_type": "display_data",
          "data": {
            "image/png": "[encoded data removed]",
            "text/plain": [
              "<Figure size 1440x576 with 2 Axes>"
            ]
          },
          "metadata": {
            "needs_background": "light"
          }
        }
      ]
    },
    {
      "cell_type": "code",
      "metadata": {
        "colab": {
          "base_uri": "https://localhost:8080/",
          "height": 238
        },
        "id": "pgB3Wd1vhHVR",
        "outputId": "7ec6ca71-72f5-4d39-bf29-fc9c454b2d13"
      },
      "source": [
        "del stock['Volume']\n",
        "stock.head()"
      ],
      "execution_count": 5,
      "outputs": [
        {
          "output_type": "execute_result",
          "data": {
            "text/html": [
              "<div>\n",
              "<style scoped>\n",
              "    .dataframe tbody tr th:only-of-type {\n",
              "        vertical-align: middle;\n",
              "    }\n",
              "\n",
              "    .dataframe tbody tr th {\n",
              "        vertical-align: top;\n",
              "    }\n",
              "\n",
              "    .dataframe thead th {\n",
              "        text-align: right;\n",
              "    }\n",
              "</style>\n",
              "<table border=\"1\" class=\"dataframe\">\n",
              "  <thead>\n",
              "    <tr style=\"text-align: right;\">\n",
              "      <th></th>\n",
              "      <th>Adj Close</th>\n",
              "    </tr>\n",
              "    <tr>\n",
              "      <th>Date</th>\n",
              "      <th></th>\n",
              "    </tr>\n",
              "  </thead>\n",
              "  <tbody>\n",
              "    <tr>\n",
              "      <th>2018-04-02</th>\n",
              "      <td>2490.29</td>\n",
              "    </tr>\n",
              "    <tr>\n",
              "      <th>2018-04-03</th>\n",
              "      <td>2475.27</td>\n",
              "    </tr>\n",
              "    <tr>\n",
              "      <th>2018-04-04</th>\n",
              "      <td>2452.22</td>\n",
              "    </tr>\n",
              "    <tr>\n",
              "      <th>2018-04-05</th>\n",
              "      <td>2489.58</td>\n",
              "    </tr>\n",
              "    <tr>\n",
              "      <th>2018-04-06</th>\n",
              "      <td>2470.30</td>\n",
              "    </tr>\n",
              "  </tbody>\n",
              "</table>\n",
              "</div>"
            ],
            "text/plain": [
              "            Adj Close\n",
              "Date                 \n",
              "2018-04-02    2490.29\n",
              "2018-04-03    2475.27\n",
              "2018-04-04    2452.22\n",
              "2018-04-05    2489.58\n",
              "2018-04-06    2470.30"
            ]
          },
          "metadata": {},
          "execution_count": 5
        }
      ]
    },
    {
      "cell_type": "code",
      "metadata": {
        "id": "cif0mdMhjyUN"
      },
      "source": [
        "y = stock['Adj Close'].resample('M') \\\n",
        " .last() \\\n",
        " .pct_change() \\\n",
        " .dropna()"
      ],
      "execution_count": 6,
      "outputs": []
    },
    {
      "cell_type": "code",
      "metadata": {
        "id": "AjaBe2DuhO62"
      },
      "source": [
        "y.index= y.index.strftime('%Y-%m-%d')"
      ],
      "execution_count": 13,
      "outputs": []
    },
    {
      "cell_type": "code",
      "metadata": {
        "colab": {
          "base_uri": "https://localhost:8080/"
        },
        "id": "ovlfNanGl4Rv",
        "outputId": "a64bc445-0047-4110-c4a0-40b9b63f3ee5"
      },
      "source": [
        "y.name='returns'\n",
        "y.head()"
      ],
      "execution_count": 14,
      "outputs": [
        {
          "output_type": "execute_result",
          "data": {
            "text/plain": [
              "Date\n",
              "2018-05-31   -0.068516\n",
              "2018-06-30    0.021814\n",
              "2018-07-31   -0.019482\n",
              "2018-08-31    0.016591\n",
              "2018-09-30   -0.020910\n",
              "Name: returns, dtype: float64"
            ]
          },
          "metadata": {},
          "execution_count": 14
        }
      ]
    },
    {
      "cell_type": "code",
      "metadata": {
        "colab": {
          "base_uri": "https://localhost:8080/",
          "height": 206
        },
        "id": "uxmqteMUR452",
        "outputId": "5aae1195-c3f5-4bd4-8f15-8d0a3bc6df92"
      },
      "source": [
        "file=pd.read_csv('/content/20191231_FourFactors_and_Market_Returns_Daily.csv')\n",
        "file.tail()"
      ],
      "execution_count": 54,
      "outputs": [
        {
          "output_type": "execute_result",
          "data": {
            "text/html": [
              "<div>\n",
              "<style scoped>\n",
              "    .dataframe tbody tr th:only-of-type {\n",
              "        vertical-align: middle;\n",
              "    }\n",
              "\n",
              "    .dataframe tbody tr th {\n",
              "        vertical-align: top;\n",
              "    }\n",
              "\n",
              "    .dataframe thead th {\n",
              "        text-align: right;\n",
              "    }\n",
              "</style>\n",
              "<table border=\"1\" class=\"dataframe\">\n",
              "  <thead>\n",
              "    <tr style=\"text-align: right;\">\n",
              "      <th></th>\n",
              "      <th>Date</th>\n",
              "      <th>SMB %</th>\n",
              "      <th>HML %</th>\n",
              "      <th>WML %</th>\n",
              "      <th>Rm %</th>\n",
              "      <th>Rf %</th>\n",
              "      <th>Rm-Rf %</th>\n",
              "    </tr>\n",
              "  </thead>\n",
              "  <tbody>\n",
              "    <tr>\n",
              "      <th>6448</th>\n",
              "      <td>20191224</td>\n",
              "      <td>0.128780</td>\n",
              "      <td>-0.377013</td>\n",
              "      <td>-0.125645</td>\n",
              "      <td>-0.252654</td>\n",
              "      <td>0.019556</td>\n",
              "      <td>-0.272210</td>\n",
              "    </tr>\n",
              "    <tr>\n",
              "      <th>6449</th>\n",
              "      <td>20191226</td>\n",
              "      <td>1.066614</td>\n",
              "      <td>0.701855</td>\n",
              "      <td>0.021118</td>\n",
              "      <td>-0.338004</td>\n",
              "      <td>0.019632</td>\n",
              "      <td>-0.357636</td>\n",
              "    </tr>\n",
              "    <tr>\n",
              "      <th>6450</th>\n",
              "      <td>20191227</td>\n",
              "      <td>-0.256306</td>\n",
              "      <td>0.154563</td>\n",
              "      <td>0.230773</td>\n",
              "      <td>0.832854</td>\n",
              "      <td>0.019632</td>\n",
              "      <td>0.813222</td>\n",
              "    </tr>\n",
              "    <tr>\n",
              "      <th>6451</th>\n",
              "      <td>20191230</td>\n",
              "      <td>0.511752</td>\n",
              "      <td>-0.172321</td>\n",
              "      <td>-0.368719</td>\n",
              "      <td>0.157974</td>\n",
              "      <td>0.019632</td>\n",
              "      <td>0.138341</td>\n",
              "    </tr>\n",
              "    <tr>\n",
              "      <th>6452</th>\n",
              "      <td>20191231</td>\n",
              "      <td>0.946886</td>\n",
              "      <td>1.009567</td>\n",
              "      <td>-0.541485</td>\n",
              "      <td>-0.408609</td>\n",
              "      <td>0.019632</td>\n",
              "      <td>-0.428241</td>\n",
              "    </tr>\n",
              "  </tbody>\n",
              "</table>\n",
              "</div>"
            ],
            "text/plain": [
              "          Date     SMB %     HML %     WML %      Rm %      Rf %   Rm-Rf %\n",
              "6448  20191224  0.128780 -0.377013 -0.125645 -0.252654  0.019556 -0.272210\n",
              "6449  20191226  1.066614  0.701855  0.021118 -0.338004  0.019632 -0.357636\n",
              "6450  20191227 -0.256306  0.154563  0.230773  0.832854  0.019632  0.813222\n",
              "6451  20191230  0.511752 -0.172321 -0.368719  0.157974  0.019632  0.138341\n",
              "6452  20191231  0.946886  1.009567 -0.541485 -0.408609  0.019632 -0.428241"
            ]
          },
          "metadata": {},
          "execution_count": 54
        }
      ]
    },
    {
      "cell_type": "code",
      "metadata": {
        "id": "r1TiC_0QciSQ"
      },
      "source": [
        ""
      ],
      "execution_count": 35,
      "outputs": []
    },
    {
      "cell_type": "code",
      "metadata": {
        "id": "hMyvgC_pR4_P",
        "colab": {
          "base_uri": "https://localhost:8080/"
        },
        "outputId": "0049cc10-412d-4f6e-83f3-5b98d02dc82f"
      },
      "source": [
        "type(file.Date)\n",
        "\n",
        "file.Date = pd.to_datetime(file.Date,format='%Y%m%d')\n",
        "# file.set_index(file.Date)\n",
        "file.Date.tail()"
      ],
      "execution_count": 55,
      "outputs": [
        {
          "output_type": "execute_result",
          "data": {
            "text/plain": [
              "6448   2019-12-24\n",
              "6449   2019-12-26\n",
              "6450   2019-12-27\n",
              "6451   2019-12-30\n",
              "6452   2019-12-31\n",
              "Name: Date, dtype: datetime64[ns]"
            ]
          },
          "metadata": {},
          "execution_count": 55
        }
      ]
    },
    {
      "cell_type": "code",
      "metadata": {
        "colab": {
          "base_uri": "https://localhost:8080/"
        },
        "id": "ch85WLcnb8D2",
        "outputId": "6138808a-8693-49c0-e249-7f906024cd5f"
      },
      "source": [
        "file.columns"
      ],
      "execution_count": 56,
      "outputs": [
        {
          "output_type": "execute_result",
          "data": {
            "text/plain": [
              "Index(['Date', 'SMB %', 'HML %', 'WML %', 'Rm %', 'Rf %', 'Rm-Rf %'], dtype='object')"
            ]
          },
          "metadata": {},
          "execution_count": 56
        }
      ]
    },
    {
      "cell_type": "code",
      "metadata": {
        "id": "VybuL1-9uCwi"
      },
      "source": [
        "file[[(file.Date>'start')&(file.Date>'end')]]"
      ],
      "execution_count": null,
      "outputs": []
    },
    {
      "cell_type": "code",
      "metadata": {
        "colab": {
          "base_uri": "https://localhost:8080/",
          "height": 49
        },
        "id": "us9gpsoyduHo",
        "outputId": "22fcab8c-0e6d-4232-82fb-2e4ac2c8f24c"
      },
      "source": [
        "a=file.loc[(file.Date == 'start') & (file.Date == 'end'),:]\n",
        "a"
      ],
      "execution_count": 52,
      "outputs": [
        {
          "output_type": "execute_result",
          "data": {
            "text/html": [
              "<div>\n",
              "<style scoped>\n",
              "    .dataframe tbody tr th:only-of-type {\n",
              "        vertical-align: middle;\n",
              "    }\n",
              "\n",
              "    .dataframe tbody tr th {\n",
              "        vertical-align: top;\n",
              "    }\n",
              "\n",
              "    .dataframe thead th {\n",
              "        text-align: right;\n",
              "    }\n",
              "</style>\n",
              "<table border=\"1\" class=\"dataframe\">\n",
              "  <thead>\n",
              "    <tr style=\"text-align: right;\">\n",
              "      <th></th>\n",
              "      <th>Date</th>\n",
              "      <th>SMB %</th>\n",
              "      <th>HML %</th>\n",
              "      <th>WML %</th>\n",
              "      <th>Rm %</th>\n",
              "      <th>Rf %</th>\n",
              "      <th>Rm-Rf %</th>\n",
              "    </tr>\n",
              "  </thead>\n",
              "  <tbody>\n",
              "  </tbody>\n",
              "</table>\n",
              "</div>"
            ],
            "text/plain": [
              "Empty DataFrame\n",
              "Columns: [Date, SMB %, HML %, WML %, Rm %, Rf %, Rm-Rf %]\n",
              "Index: []"
            ]
          },
          "metadata": {},
          "execution_count": 52
        }
      ]
    },
    {
      "cell_type": "code",
      "metadata": {
        "colab": {
          "base_uri": "https://localhost:8080/",
          "height": 130
        },
        "id": "aUw_LJDMduKl",
        "outputId": "b0759a3b-53c4-40de-8d2a-31b8dc7cbd43"
      },
      "source": [
        "file.Date[['2018-04-01':'2021-10-31',:]]\n",
        "\n"
      ],
      "execution_count": 63,
      "outputs": [
        {
          "output_type": "error",
          "ename": "SyntaxError",
          "evalue": "ignored",
          "traceback": [
            "\u001b[0;36m  File \u001b[0;32m\"<ipython-input-63-debd08b58eb4>\"\u001b[0;36m, line \u001b[0;32m1\u001b[0m\n\u001b[0;31m    file.Date[['2018-04-01':'2021-10-31',:]]\u001b[0m\n\u001b[0m                           ^\u001b[0m\n\u001b[0;31mSyntaxError\u001b[0m\u001b[0;31m:\u001b[0m invalid syntax\n"
          ]
        }
      ]
    },
    {
      "cell_type": "code",
      "metadata": {
        "colab": {
          "base_uri": "https://localhost:8080/",
          "height": 424
        },
        "id": "ba2_jrLLgRBh",
        "outputId": "5e81285f-868c-47ac-9939-77dd661764ac"
      },
      "source": [
        "file"
      ],
      "execution_count": 64,
      "outputs": [
        {
          "output_type": "execute_result",
          "data": {
            "text/html": [
              "<div>\n",
              "<style scoped>\n",
              "    .dataframe tbody tr th:only-of-type {\n",
              "        vertical-align: middle;\n",
              "    }\n",
              "\n",
              "    .dataframe tbody tr th {\n",
              "        vertical-align: top;\n",
              "    }\n",
              "\n",
              "    .dataframe thead th {\n",
              "        text-align: right;\n",
              "    }\n",
              "</style>\n",
              "<table border=\"1\" class=\"dataframe\">\n",
              "  <thead>\n",
              "    <tr style=\"text-align: right;\">\n",
              "      <th></th>\n",
              "      <th>Date</th>\n",
              "      <th>SMB %</th>\n",
              "      <th>HML %</th>\n",
              "      <th>WML %</th>\n",
              "      <th>Rm %</th>\n",
              "      <th>Rf %</th>\n",
              "      <th>Rm-Rf %</th>\n",
              "    </tr>\n",
              "  </thead>\n",
              "  <tbody>\n",
              "    <tr>\n",
              "      <th>0</th>\n",
              "      <td>1993-10-01</td>\n",
              "      <td>1.955335</td>\n",
              "      <td>0.621472</td>\n",
              "      <td>-0.138499</td>\n",
              "      <td>-0.651551</td>\n",
              "      <td>0.032158</td>\n",
              "      <td>-0.683708</td>\n",
              "    </tr>\n",
              "    <tr>\n",
              "      <th>1</th>\n",
              "      <td>1993-10-04</td>\n",
              "      <td>0.132747</td>\n",
              "      <td>-0.073547</td>\n",
              "      <td>0.950330</td>\n",
              "      <td>-0.943486</td>\n",
              "      <td>0.032158</td>\n",
              "      <td>-0.975644</td>\n",
              "    </tr>\n",
              "    <tr>\n",
              "      <th>2</th>\n",
              "      <td>1993-10-05</td>\n",
              "      <td>-0.299830</td>\n",
              "      <td>0.624285</td>\n",
              "      <td>-0.752456</td>\n",
              "      <td>-0.174840</td>\n",
              "      <td>0.032158</td>\n",
              "      <td>-0.206998</td>\n",
              "    </tr>\n",
              "    <tr>\n",
              "      <th>3</th>\n",
              "      <td>1993-10-06</td>\n",
              "      <td>-0.326007</td>\n",
              "      <td>-1.111785</td>\n",
              "      <td>-0.061290</td>\n",
              "      <td>-0.336029</td>\n",
              "      <td>0.032158</td>\n",
              "      <td>-0.368187</td>\n",
              "    </tr>\n",
              "    <tr>\n",
              "      <th>4</th>\n",
              "      <td>1993-10-07</td>\n",
              "      <td>-0.622899</td>\n",
              "      <td>0.396012</td>\n",
              "      <td>0.765609</td>\n",
              "      <td>0.316560</td>\n",
              "      <td>0.032158</td>\n",
              "      <td>0.284402</td>\n",
              "    </tr>\n",
              "    <tr>\n",
              "      <th>...</th>\n",
              "      <td>...</td>\n",
              "      <td>...</td>\n",
              "      <td>...</td>\n",
              "      <td>...</td>\n",
              "      <td>...</td>\n",
              "      <td>...</td>\n",
              "      <td>...</td>\n",
              "    </tr>\n",
              "    <tr>\n",
              "      <th>6448</th>\n",
              "      <td>2019-12-24</td>\n",
              "      <td>0.128780</td>\n",
              "      <td>-0.377013</td>\n",
              "      <td>-0.125645</td>\n",
              "      <td>-0.252654</td>\n",
              "      <td>0.019556</td>\n",
              "      <td>-0.272210</td>\n",
              "    </tr>\n",
              "    <tr>\n",
              "      <th>6449</th>\n",
              "      <td>2019-12-26</td>\n",
              "      <td>1.066614</td>\n",
              "      <td>0.701855</td>\n",
              "      <td>0.021118</td>\n",
              "      <td>-0.338004</td>\n",
              "      <td>0.019632</td>\n",
              "      <td>-0.357636</td>\n",
              "    </tr>\n",
              "    <tr>\n",
              "      <th>6450</th>\n",
              "      <td>2019-12-27</td>\n",
              "      <td>-0.256306</td>\n",
              "      <td>0.154563</td>\n",
              "      <td>0.230773</td>\n",
              "      <td>0.832854</td>\n",
              "      <td>0.019632</td>\n",
              "      <td>0.813222</td>\n",
              "    </tr>\n",
              "    <tr>\n",
              "      <th>6451</th>\n",
              "      <td>2019-12-30</td>\n",
              "      <td>0.511752</td>\n",
              "      <td>-0.172321</td>\n",
              "      <td>-0.368719</td>\n",
              "      <td>0.157974</td>\n",
              "      <td>0.019632</td>\n",
              "      <td>0.138341</td>\n",
              "    </tr>\n",
              "    <tr>\n",
              "      <th>6452</th>\n",
              "      <td>2019-12-31</td>\n",
              "      <td>0.946886</td>\n",
              "      <td>1.009567</td>\n",
              "      <td>-0.541485</td>\n",
              "      <td>-0.408609</td>\n",
              "      <td>0.019632</td>\n",
              "      <td>-0.428241</td>\n",
              "    </tr>\n",
              "  </tbody>\n",
              "</table>\n",
              "<p>6453 rows × 7 columns</p>\n",
              "</div>"
            ],
            "text/plain": [
              "           Date     SMB %     HML %     WML %      Rm %      Rf %   Rm-Rf %\n",
              "0    1993-10-01  1.955335  0.621472 -0.138499 -0.651551  0.032158 -0.683708\n",
              "1    1993-10-04  0.132747 -0.073547  0.950330 -0.943486  0.032158 -0.975644\n",
              "2    1993-10-05 -0.299830  0.624285 -0.752456 -0.174840  0.032158 -0.206998\n",
              "3    1993-10-06 -0.326007 -1.111785 -0.061290 -0.336029  0.032158 -0.368187\n",
              "4    1993-10-07 -0.622899  0.396012  0.765609  0.316560  0.032158  0.284402\n",
              "...         ...       ...       ...       ...       ...       ...       ...\n",
              "6448 2019-12-24  0.128780 -0.377013 -0.125645 -0.252654  0.019556 -0.272210\n",
              "6449 2019-12-26  1.066614  0.701855  0.021118 -0.338004  0.019632 -0.357636\n",
              "6450 2019-12-27 -0.256306  0.154563  0.230773  0.832854  0.019632  0.813222\n",
              "6451 2019-12-30  0.511752 -0.172321 -0.368719  0.157974  0.019632  0.138341\n",
              "6452 2019-12-31  0.946886  1.009567 -0.541485 -0.408609  0.019632 -0.428241\n",
              "\n",
              "[6453 rows x 7 columns]"
            ]
          },
          "metadata": {},
          "execution_count": 64
        }
      ]
    }
  ]
}