{
 "cells": [
  {
   "cell_type": "code",
   "execution_count": 1,
   "id": "c02cd9cc",
   "metadata": {},
   "outputs": [],
   "source": [
    "import matplotlib.pyplot as plt\n",
    "import yfinance as yf\n",
    "import numpy as np\n",
    "import pandas as pd"
   ]
  },
  {
   "cell_type": "code",
   "execution_count": 5,
   "id": "6ddff9f8",
   "metadata": {},
   "outputs": [
    {
     "data": {
      "text/html": [
       "<div>\n",
       "<style scoped>\n",
       "    .dataframe tbody tr th:only-of-type {\n",
       "        vertical-align: middle;\n",
       "    }\n",
       "\n",
       "    .dataframe tbody tr th {\n",
       "        vertical-align: top;\n",
       "    }\n",
       "\n",
       "    .dataframe thead th {\n",
       "        text-align: right;\n",
       "    }\n",
       "</style>\n",
       "<table border=\"1\" class=\"dataframe\">\n",
       "  <thead>\n",
       "    <tr style=\"text-align: right;\">\n",
       "      <th></th>\n",
       "      <th>AAPL</th>\n",
       "      <th>GOOG</th>\n",
       "      <th>MSFT</th>\n",
       "      <th>TSLA</th>\n",
       "    </tr>\n",
       "    <tr>\n",
       "      <th>Date</th>\n",
       "      <th></th>\n",
       "      <th></th>\n",
       "      <th></th>\n",
       "      <th></th>\n",
       "    </tr>\n",
       "  </thead>\n",
       "  <tbody>\n",
       "    <tr>\n",
       "      <th>2022-06-17</th>\n",
       "      <td>130.779099</td>\n",
       "      <td>107.865501</td>\n",
       "      <td>245.279083</td>\n",
       "      <td>216.759995</td>\n",
       "    </tr>\n",
       "    <tr>\n",
       "      <th>2022-06-21</th>\n",
       "      <td>135.063492</td>\n",
       "      <td>112.014999</td>\n",
       "      <td>251.310791</td>\n",
       "      <td>237.036667</td>\n",
       "    </tr>\n",
       "    <tr>\n",
       "      <th>2022-06-22</th>\n",
       "      <td>134.546616</td>\n",
       "      <td>112.033997</td>\n",
       "      <td>250.706619</td>\n",
       "      <td>236.086670</td>\n",
       "    </tr>\n",
       "    <tr>\n",
       "      <th>2022-06-23</th>\n",
       "      <td>137.449265</td>\n",
       "      <td>112.684502</td>\n",
       "      <td>256.381775</td>\n",
       "      <td>235.070007</td>\n",
       "    </tr>\n",
       "    <tr>\n",
       "      <th>2022-06-24</th>\n",
       "      <td>140.819153</td>\n",
       "      <td>118.538002</td>\n",
       "      <td>265.137115</td>\n",
       "      <td>245.706665</td>\n",
       "    </tr>\n",
       "  </tbody>\n",
       "</table>\n",
       "</div>"
      ],
      "text/plain": [
       "                  AAPL        GOOG        MSFT        TSLA\n",
       "Date                                                      \n",
       "2022-06-17  130.779099  107.865501  245.279083  216.759995\n",
       "2022-06-21  135.063492  112.014999  251.310791  237.036667\n",
       "2022-06-22  134.546616  112.033997  250.706619  236.086670\n",
       "2022-06-23  137.449265  112.684502  256.381775  235.070007\n",
       "2022-06-24  140.819153  118.538002  265.137115  245.706665"
      ]
     },
     "execution_count": 5,
     "metadata": {},
     "output_type": "execute_result"
    }
   ],
   "source": [
    "# Donwload closing price data for Apple, Tesla, Google, MicroSoft\n",
    "\n",
    "prices = yf.download(['AAPL','TSLA','GOOG','MSFT'], progress = False, period = '1y', interval = '1d')['Adj Close']\n",
    "prices.head()"
   ]
  },
  {
   "cell_type": "code",
   "execution_count": 10,
   "id": "2c4344bf",
   "metadata": {},
   "outputs": [
    {
     "data": {
      "text/html": [
       "<div>\n",
       "<style scoped>\n",
       "    .dataframe tbody tr th:only-of-type {\n",
       "        vertical-align: middle;\n",
       "    }\n",
       "\n",
       "    .dataframe tbody tr th {\n",
       "        vertical-align: top;\n",
       "    }\n",
       "\n",
       "    .dataframe thead th {\n",
       "        text-align: right;\n",
       "    }\n",
       "</style>\n",
       "<table border=\"1\" class=\"dataframe\">\n",
       "  <thead>\n",
       "    <tr style=\"text-align: right;\">\n",
       "      <th></th>\n",
       "      <th>AAPL</th>\n",
       "      <th>GOOG</th>\n",
       "      <th>MSFT</th>\n",
       "      <th>TSLA</th>\n",
       "    </tr>\n",
       "  </thead>\n",
       "  <tbody>\n",
       "    <tr>\n",
       "      <th>0</th>\n",
       "      <td>100</td>\n",
       "      <td>0</td>\n",
       "      <td>0</td>\n",
       "      <td>0</td>\n",
       "    </tr>\n",
       "    <tr>\n",
       "      <th>1</th>\n",
       "      <td>0</td>\n",
       "      <td>-20</td>\n",
       "      <td>0</td>\n",
       "      <td>0</td>\n",
       "    </tr>\n",
       "    <tr>\n",
       "      <th>2</th>\n",
       "      <td>0</td>\n",
       "      <td>0</td>\n",
       "      <td>120</td>\n",
       "      <td>0</td>\n",
       "    </tr>\n",
       "    <tr>\n",
       "      <th>3</th>\n",
       "      <td>0</td>\n",
       "      <td>0</td>\n",
       "      <td>0</td>\n",
       "      <td>-50</td>\n",
       "    </tr>\n",
       "  </tbody>\n",
       "</table>\n",
       "</div>"
      ],
      "text/plain": [
       "   AAPL  GOOG  MSFT  TSLA\n",
       "0   100     0     0     0\n",
       "1     0   -20     0     0\n",
       "2     0     0   120     0\n",
       "3     0     0     0   -50"
      ]
     },
     "execution_count": 10,
     "metadata": {},
     "output_type": "execute_result"
    }
   ],
   "source": [
    "# Fetch the holdings data\n",
    "holdings = pd.read_csv('Position.csv')\n",
    "holdings"
   ]
  },
  {
   "cell_type": "code",
   "execution_count": 11,
   "id": "381ad929",
   "metadata": {},
   "outputs": [
    {
     "data": {
      "text/html": [
       "<div>\n",
       "<style scoped>\n",
       "    .dataframe tbody tr th:only-of-type {\n",
       "        vertical-align: middle;\n",
       "    }\n",
       "\n",
       "    .dataframe tbody tr th {\n",
       "        vertical-align: top;\n",
       "    }\n",
       "\n",
       "    .dataframe thead th {\n",
       "        text-align: right;\n",
       "    }\n",
       "</style>\n",
       "<table border=\"1\" class=\"dataframe\">\n",
       "  <thead>\n",
       "    <tr style=\"text-align: right;\">\n",
       "      <th></th>\n",
       "      <th>AAPL</th>\n",
       "      <th>GOOG</th>\n",
       "      <th>MSFT</th>\n",
       "      <th>TSLA</th>\n",
       "    </tr>\n",
       "  </thead>\n",
       "  <tbody>\n",
       "    <tr>\n",
       "      <th>0</th>\n",
       "      <td>18491.999817</td>\n",
       "      <td>0.000000</td>\n",
       "      <td>0.000000</td>\n",
       "      <td>0.000000</td>\n",
       "    </tr>\n",
       "    <tr>\n",
       "      <th>1</th>\n",
       "      <td>0.000000</td>\n",
       "      <td>-2481.199951</td>\n",
       "      <td>0.000000</td>\n",
       "      <td>0.000000</td>\n",
       "    </tr>\n",
       "    <tr>\n",
       "      <th>2</th>\n",
       "      <td>0.000000</td>\n",
       "      <td>0.000000</td>\n",
       "      <td>41079.598389</td>\n",
       "      <td>0.000000</td>\n",
       "    </tr>\n",
       "    <tr>\n",
       "      <th>3</th>\n",
       "      <td>0.000000</td>\n",
       "      <td>0.000000</td>\n",
       "      <td>0.000000</td>\n",
       "      <td>-13027.000427</td>\n",
       "    </tr>\n",
       "  </tbody>\n",
       "</table>\n",
       "</div>"
      ],
      "text/plain": [
       "           AAPL         GOOG          MSFT          TSLA\n",
       "0  18491.999817     0.000000      0.000000      0.000000\n",
       "1      0.000000 -2481.199951      0.000000      0.000000\n",
       "2      0.000000     0.000000  41079.598389      0.000000\n",
       "3      0.000000     0.000000      0.000000 -13027.000427"
      ]
     },
     "execution_count": 11,
     "metadata": {},
     "output_type": "execute_result"
    }
   ],
   "source": [
    "# Calculate the dollar sensitivities ( holdings * spot price)\n",
    "dollar_sensitivities = holdings*(prices.iloc[-1,:])\n",
    "dollar_sensitivities"
   ]
  },
  {
   "cell_type": "code",
   "execution_count": 12,
   "id": "8457dffa",
   "metadata": {},
   "outputs": [],
   "source": [
    "from riskcap import VaR, ES"
   ]
  },
  {
   "cell_type": "code",
   "execution_count": 13,
   "id": "c59f6723",
   "metadata": {},
   "outputs": [],
   "source": [
    "model = VaR(dollar_sensitivities, prices, horizon = 1, methodology='historical', confidence=0.95 )"
   ]
  },
  {
   "cell_type": "code",
   "execution_count": 14,
   "id": "fc1f40e9",
   "metadata": {},
   "outputs": [],
   "source": [
    "model.fit()"
   ]
  },
  {
   "cell_type": "code",
   "execution_count": 15,
   "id": "5bed3362",
   "metadata": {},
   "outputs": [
    {
     "data": {
      "text/plain": [
       "1330.1528047389977"
      ]
     },
     "execution_count": 15,
     "metadata": {},
     "output_type": "execute_result"
    }
   ],
   "source": [
    "model.VaR"
   ]
  },
  {
   "cell_type": "code",
   "execution_count": 16,
   "id": "b3c6c34c",
   "metadata": {},
   "outputs": [],
   "source": [
    "model = VaR(dollar_sensitivities, prices, horizon = 1, methodology='parametric', confidence=0.99 )"
   ]
  },
  {
   "cell_type": "code",
   "execution_count": 17,
   "id": "14dd44c0",
   "metadata": {},
   "outputs": [],
   "source": [
    "model.fit()"
   ]
  },
  {
   "cell_type": "code",
   "execution_count": 18,
   "id": "226a5978",
   "metadata": {
    "scrolled": true
   },
   "outputs": [
    {
     "data": {
      "text/plain": [
       "2241.1724981140696"
      ]
     },
     "execution_count": 18,
     "metadata": {},
     "output_type": "execute_result"
    }
   ],
   "source": [
    "model.VaR"
   ]
  },
  {
   "cell_type": "code",
   "execution_count": 19,
   "id": "73895ba9",
   "metadata": {},
   "outputs": [],
   "source": [
    "model = ES(dollar_sensitivities, prices, horizon = 1, methodology='historical', confidence=0.95 )"
   ]
  },
  {
   "cell_type": "code",
   "execution_count": 20,
   "id": "4aa656cd",
   "metadata": {},
   "outputs": [],
   "source": [
    "model.fit()"
   ]
  },
  {
   "cell_type": "code",
   "execution_count": 21,
   "id": "f5e50e40",
   "metadata": {},
   "outputs": [
    {
     "data": {
      "text/plain": [
       "1885.1687097649108"
      ]
     },
     "execution_count": 21,
     "metadata": {},
     "output_type": "execute_result"
    }
   ],
   "source": [
    "model.ES"
   ]
  },
  {
   "cell_type": "code",
   "execution_count": 22,
   "id": "5097c196",
   "metadata": {},
   "outputs": [],
   "source": [
    "model = ES(dollar_sensitivities, prices, horizon = 1, methodology='parametric', confidence=0.975 )"
   ]
  },
  {
   "cell_type": "code",
   "execution_count": 23,
   "id": "6d8128af",
   "metadata": {},
   "outputs": [],
   "source": [
    "model.fit()"
   ]
  },
  {
   "cell_type": "code",
   "execution_count": 24,
   "id": "d17aec0c",
   "metadata": {},
   "outputs": [
    {
     "data": {
      "text/plain": [
       "2252.2080134108555"
      ]
     },
     "execution_count": 24,
     "metadata": {},
     "output_type": "execute_result"
    }
   ],
   "source": [
    "model.ES"
   ]
  }
 ],
 "metadata": {
  "kernelspec": {
   "display_name": "Python 3 (ipykernel)",
   "language": "python",
   "name": "python3"
  },
  "language_info": {
   "codemirror_mode": {
    "name": "ipython",
    "version": 3
   },
   "file_extension": ".py",
   "mimetype": "text/x-python",
   "name": "python",
   "nbconvert_exporter": "python",
   "pygments_lexer": "ipython3",
   "version": "3.11.5"
  }
 },
 "nbformat": 4,
 "nbformat_minor": 5
}
