{
 "cells": [
  {
   "cell_type": "code",
   "execution_count": 1,
   "id": "912638ad",
   "metadata": {},
   "outputs": [],
   "source": [
    "import numpy as np\n",
    "import pandas as pd"
   ]
  },
  {
   "cell_type": "code",
   "execution_count": 2,
   "id": "a4c05032",
   "metadata": {},
   "outputs": [],
   "source": [
    "from riskcap import Validation"
   ]
  },
  {
   "cell_type": "code",
   "execution_count": 7,
   "id": "6c3f52c0",
   "metadata": {},
   "outputs": [
    {
     "data": {
      "text/html": [
       "<div>\n",
       "<style scoped>\n",
       "    .dataframe tbody tr th:only-of-type {\n",
       "        vertical-align: middle;\n",
       "    }\n",
       "\n",
       "    .dataframe tbody tr th {\n",
       "        vertical-align: top;\n",
       "    }\n",
       "\n",
       "    .dataframe thead th {\n",
       "        text-align: right;\n",
       "    }\n",
       "</style>\n",
       "<table border=\"1\" class=\"dataframe\">\n",
       "  <thead>\n",
       "    <tr style=\"text-align: right;\">\n",
       "      <th></th>\n",
       "      <th>APL</th>\n",
       "      <th>HPL</th>\n",
       "      <th>RTPL</th>\n",
       "      <th>VaR</th>\n",
       "    </tr>\n",
       "    <tr>\n",
       "      <th>Date</th>\n",
       "      <th></th>\n",
       "      <th></th>\n",
       "      <th></th>\n",
       "      <th></th>\n",
       "    </tr>\n",
       "  </thead>\n",
       "  <tbody>\n",
       "    <tr>\n",
       "      <th>7-Feb-20</th>\n",
       "      <td>-45.05</td>\n",
       "      <td>-45.156212</td>\n",
       "      <td>-47.306185</td>\n",
       "      <td>146.179305</td>\n",
       "    </tr>\n",
       "    <tr>\n",
       "      <th>10-Feb-20</th>\n",
       "      <td>72.05</td>\n",
       "      <td>72.497837</td>\n",
       "      <td>52.639041</td>\n",
       "      <td>142.781824</td>\n",
       "    </tr>\n",
       "    <tr>\n",
       "      <th>11-Feb-20</th>\n",
       "      <td>51.55</td>\n",
       "      <td>51.157862</td>\n",
       "      <td>65.473693</td>\n",
       "      <td>152.921769</td>\n",
       "    </tr>\n",
       "    <tr>\n",
       "      <th>12-Feb-20</th>\n",
       "      <td>-32.10</td>\n",
       "      <td>-32.061265</td>\n",
       "      <td>-19.325282</td>\n",
       "      <td>155.713285</td>\n",
       "    </tr>\n",
       "    <tr>\n",
       "      <th>13-Feb-20</th>\n",
       "      <td>-31.25</td>\n",
       "      <td>-31.614443</td>\n",
       "      <td>-44.362787</td>\n",
       "      <td>151.324387</td>\n",
       "    </tr>\n",
       "  </tbody>\n",
       "</table>\n",
       "</div>"
      ],
      "text/plain": [
       "             APL        HPL       RTPL         VaR\n",
       "Date                                              \n",
       "7-Feb-20  -45.05 -45.156212 -47.306185  146.179305\n",
       "10-Feb-20  72.05  72.497837  52.639041  142.781824\n",
       "11-Feb-20  51.55  51.157862  65.473693  152.921769\n",
       "12-Feb-20 -32.10 -32.061265 -19.325282  155.713285\n",
       "13-Feb-20 -31.25 -31.614443 -44.362787  151.324387"
      ]
     },
     "execution_count": 7,
     "metadata": {},
     "output_type": "execute_result"
    }
   ],
   "source": [
    "data = pd.read_csv('PnL.csv', index_col = 'Date')\n",
    "data.head()"
   ]
  },
  {
   "cell_type": "code",
   "execution_count": 8,
   "id": "4f31bed3",
   "metadata": {},
   "outputs": [],
   "source": [
    "test = Validation(data)"
   ]
  },
  {
   "cell_type": "code",
   "execution_count": 9,
   "id": "1e6549da",
   "metadata": {},
   "outputs": [],
   "source": [
    "test.fit()"
   ]
  },
  {
   "cell_type": "code",
   "execution_count": 10,
   "id": "d20f569a",
   "metadata": {},
   "outputs": [
    {
     "name": "stdout",
     "output_type": "stream",
     "text": [
      "Backtesting results:\n"
     ]
    },
    {
     "data": {
      "text/html": [
       "<div>\n",
       "<style scoped>\n",
       "    .dataframe tbody tr th:only-of-type {\n",
       "        vertical-align: middle;\n",
       "    }\n",
       "\n",
       "    .dataframe tbody tr th {\n",
       "        vertical-align: top;\n",
       "    }\n",
       "\n",
       "    .dataframe thead th {\n",
       "        text-align: right;\n",
       "    }\n",
       "</style>\n",
       "<table border=\"1\" class=\"dataframe\">\n",
       "  <thead>\n",
       "    <tr style=\"text-align: right;\">\n",
       "      <th></th>\n",
       "      <th>(Exceedances #)APL</th>\n",
       "      <th>(Exceedances #)HPL</th>\n",
       "      <th>(Exceedances #)Max</th>\n",
       "      <th>Zone</th>\n",
       "      <th>Multiplier</th>\n",
       "    </tr>\n",
       "  </thead>\n",
       "  <tbody>\n",
       "    <tr>\n",
       "      <th>0</th>\n",
       "      <td>3</td>\n",
       "      <td>4</td>\n",
       "      <td>4</td>\n",
       "      <td>Green</td>\n",
       "      <td>1.5</td>\n",
       "    </tr>\n",
       "  </tbody>\n",
       "</table>\n",
       "</div>"
      ],
      "text/plain": [
       "   (Exceedances #)APL  (Exceedances #)HPL  (Exceedances #)Max   Zone  \\\n",
       "0                   3                   4                   4  Green   \n",
       "\n",
       "   Multiplier  \n",
       "0         1.5  "
      ]
     },
     "metadata": {},
     "output_type": "display_data"
    },
    {
     "name": "stdout",
     "output_type": "stream",
     "text": [
      "PLAT results:\n"
     ]
    },
    {
     "data": {
      "text/html": [
       "<div>\n",
       "<style scoped>\n",
       "    .dataframe tbody tr th:only-of-type {\n",
       "        vertical-align: middle;\n",
       "    }\n",
       "\n",
       "    .dataframe tbody tr th {\n",
       "        vertical-align: top;\n",
       "    }\n",
       "\n",
       "    .dataframe thead th {\n",
       "        text-align: right;\n",
       "    }\n",
       "</style>\n",
       "<table border=\"1\" class=\"dataframe\">\n",
       "  <thead>\n",
       "    <tr style=\"text-align: right;\">\n",
       "      <th></th>\n",
       "      <th>spearman correl</th>\n",
       "      <th>KS</th>\n",
       "      <th>Zone</th>\n",
       "    </tr>\n",
       "  </thead>\n",
       "  <tbody>\n",
       "    <tr>\n",
       "      <th>0</th>\n",
       "      <td>0.929587</td>\n",
       "      <td>0.08</td>\n",
       "      <td>Green</td>\n",
       "    </tr>\n",
       "  </tbody>\n",
       "</table>\n",
       "</div>"
      ],
      "text/plain": [
       "   spearman correl    KS   Zone\n",
       "0         0.929587  0.08  Green"
      ]
     },
     "metadata": {},
     "output_type": "display_data"
    }
   ],
   "source": [
    "test.summary()"
   ]
  }
 ],
 "metadata": {
  "kernelspec": {
   "display_name": "Python 3 (ipykernel)",
   "language": "python",
   "name": "python3"
  },
  "language_info": {
   "codemirror_mode": {
    "name": "ipython",
    "version": 3
   },
   "file_extension": ".py",
   "mimetype": "text/x-python",
   "name": "python",
   "nbconvert_exporter": "python",
   "pygments_lexer": "ipython3",
   "version": "3.11.5"
  }
 },
 "nbformat": 4,
 "nbformat_minor": 5
}
