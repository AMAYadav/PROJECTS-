{
  "nbformat": 4,
  "nbformat_minor": 0,
  "metadata": {
    "colab": {
      "provenance": [],
      "authorship_tag": "ABX9TyMybOVSuCZVU2k3tkY+dqKK",
      "include_colab_link": true
    },
    "kernelspec": {
      "name": "python3",
      "display_name": "Python 3"
    },
    "language_info": {
      "name": "python"
    }
  },
  "cells": [
    {
      "cell_type": "markdown",
      "metadata": {
        "id": "view-in-github",
        "colab_type": "text"
      },
      "source": [
        "<a href=\"https://colab.research.google.com/github/AMAYadav/PROJECTS-/blob/main/webscraping_naukri_site.ipynb\" target=\"_parent\"><img src=\"https://colab.research.google.com/assets/colab-badge.svg\" alt=\"Open In Colab\"/></a>"
      ]
    },
    {
      "cell_type": "code",
      "source": [
        "from bs4 import BeautifulSoup\n",
        "import requests\n",
        "import pandas as pd\n",
        "import warnings\n",
        "warnings.filterwarnings(\"ignore\")"
      ],
      "metadata": {
        "id": "MedtbvQmUE_m"
      },
      "execution_count": 93,
      "outputs": []
    },
    {
      "cell_type": "code",
      "source": [
        "import requests\n",
        "\n",
        "headers = {\n",
        "    'authority': 'www.naukri.com',\n",
        "    'accept': 'application/json',\n",
        "    'accept-language': 'en-US,en;q=0.9',\n",
        "    'appid': '109',\n",
        "    'clientid': 'd3skt0p',\n",
        "    'content-type': 'application/json',\n",
        "    'cookie': '_t_s=direct; _t_ds=289d71e41701767559-834289d71e4-0289d71e4; _t_us=656EE987; test=naukri.com; _t_us=656EE987; _t_s=direct; _t_r=1030^%^2F^%^2F; persona=default; _t_ds=289d71e41701767559-834289d71e4-0289d71e4; bm_sz=4D378FE801706E844BDAF43C244EBD0E~YAAQvwVaaHl31w6MAQAAljpAORaLohUqpydew49Q9V7aSirKzu8pWAXnUz8OfQRGA8Zh2ILdzzc2955QdV9R19aY66Dgxeatttv4Enhj4yiQBz7La7x3ekjgqWnoZplz+9ELt2AsUVJJrKX3oK5AWLayq49/iDed5kzMswIBzCzE1isfz3zGA5H53IEd3gKCLEf8r2q2sMciER3auPcaDTRSBW8mYLh6g7JbXeVFX7Y1C+LYOqNOmErlcCVwVLqoFjtHnjkt27b3VqleGMs6HgH+NFGTdLn7rjnORqBJ75OSHRk=~3223604~3225156; ak_bmsc=93CB0CA833053F25F1D03539D60B1F64~000000000000000000000000000000~YAAQvwVaaPR31w6MAQAATUhAORaR+idG1Q0AIbHsubxv4lGMZHGpZEbzk2O1C//8rg+HiVwnplFdiksEnvgGeLwqLhZH+aUq0FIPmlPAX81KnTVCGVphwJRFuy3bx1uV/nEnmMzHLoDi2ci1c3HvuRymUauyfpXvEYjo39UjJZJfkJfhmq6PdwbcbpBn7p4hRwUN3xYvzXdpzw0GqTevxAhUgc0h/cp8AxxRGuevmSfKoY4pTRseDi5w1ClPLfBBUPRz/rYaR61QVhaWCylDgQ9E9DKBC6VKKmmyCjUnkUZjSu4wD79BON7f2TrQqtRW/NgXq/go4gV5aayyZ9TXL9fim3G+4YFkFGgvMus2Ak2IZe0UAXqi+G0Q4dPfdmNs0zTV650RiSKl8JMBVOmK7x0WgqKw1do/clm4HPRQioRxVc9A+s1uhYYIAfuvFSyT5pTNSFRHJJ9Vzjofh/5GEZFVFU1JGtJaAtVCLNDXXBVMhnzapo/WIeogSjiaU49V7Jo=; _gcl_au=1.1.972464647.1701767376; _gid=GA1.2.1986565027.1701767380; _ga=GA1.1.36437792.1701767380; _abck=B8A6A3677BD459196B4E7EDCB1EA3AFD~0~YAAQvwVaaMR51w6MAQAA/XRAOQvpHcALAqyXONqM20hOantqFkPJAoXoTRVheRxUI1QGuOGg2XNvOml0H5lBqJSf08HbR+MZRxZbsURBveY8JaKFLxtoKff+CgkhoxkK0OZ4kBI6ks45SMdkH2J/x1DrZsx8EDCHKLDxDlfb6AKpRBipc/lSuUnh4mqAi8Yz6Itxs1HQ32NnaK53CcUiaXbh6UMLVKbf0Cespmq+xPBu/KylZwzO1CXDnECyueSzoCOZPQQ2zaDrb+VfhMnDtn7OpIBSZqVEdPVCWJ5nJ/OwHt1KzhcneNvpr0V9g/1yz3BpjH1KvhXs9KVJb9im/lvCiL6KNRqcL9RYQA2BZL6AHgO0vPHVhevW7lWux5/64pFg1rFYYi1up6GI0+SobXqdTjJ4MtSM~-1~-1~-1; test=naukri.com; jd=301123501324; __gads=ID=1951cc4ec56bdda8:T=1701767592:RT=1701768627:S=ALNI_MbK7bg-yvNF09qHpiKel_Zm0rI9-Q; __gpi=UID=00000ca5456630c8:T=1701767592:RT=1701768627:S=ALNI_Mbq5q_fmGF8lmKMuZgK-_CrO1V1oQ; bm_sv=8CFEFD09E50BBD00025A2A267E945A95~YAAQvwVaaO8I2A6MAQAA50tRORZJExSM5wE5eVZkAxrgjiLIRL/NlPyjYoo7om0ZjdV9xt6n+8EnHFOm2pq5PKdoh9NkiMzGTrmdyOGONMRNGiLkXNsWdIRQv0xoZCiTJDc6A/4ITJLN66UARWBGnko/eRaiAmNjntWbW9jruYl3WFryjWZmikNImxrdOs7JWlvoHvpdxIWCiqniozK9SqUA9w2IZBwm9Lf+f0fBFMPPCaL5EaWBLBR4RRkSxWNtAA==~1; HOWTORT=cl=1701768435811&r=https^%^3A^%^2F^%^2Fwww.naukri.com^%^2Fvalue-at-risk-jobs-4^%^3Fk^%^3Dvalue^%^2Bat^%^2Brisk&nu=https^%^3A^%^2F^%^2Fwww.naukri.com^%^2Fvalue-at-risk-jobs-4&ul=1701768490156&hd=1701768490678; _ga_K2YBNZVRLL=GS1.1.1701767380.1.1.1701768490.7.0.0',\n",
        "    'dnt': '1',\n",
        "    'gid': 'LOCATION,INDUSTRY,EDUCATION,FAREA_ROLE',\n",
        "    'referer': 'https://www.naukri.com/value-at-risk-jobs?k=value^%^20at^%^20risk',\n",
        "    'sec-ch-ua': '^\\\\^Google',\n",
        "    'sec-ch-ua-mobile': '?0',\n",
        "    'sec-ch-ua-platform': '^\\\\^Windows^\\\\^',\n",
        "    'sec-fetch-dest': 'empty',\n",
        "    'sec-fetch-mode': 'cors',\n",
        "    'sec-fetch-site': 'same-origin',\n",
        "    'systemid': 'Naukri',\n",
        "    'user-agent': 'Mozilla/5.0 (Windows NT 10.0; Win64; x64) AppleWebKit/537.36 (KHTML, like Gecko) Chrome/119.0.0.0 Safari/537.36',\n",
        "}\n",
        "\n",
        "params = (\n",
        "    ('noOfResults', '20'),\n",
        "    ('urlType', 'search_by_keyword'),\n",
        "    ('searchType', 'adv'),\n",
        "    ('keyword', 'value^%^20at^%^20risk'),\n",
        "    ('pageNo', '1'),\n",
        "    ('k', 'value^%^20at^%^20risk'),\n",
        "    ('seoKey', 'value-at-risk-jobs'),\n",
        "    ('src', 'jobsearchDesk'),\n",
        "    ('latLong', '28.3532874_77.3329581'),\n",
        ")\n",
        "\n",
        "response = requests.get('https://www.naukri.com/jobapi/v3/search', headers=headers, params=params)\n",
        "\n",
        "#NB. Original query string below. It seems impossible to parse and\n",
        "#reproduce query strings 100% accurately so the one below is given\n",
        "#in case the reproduced version is not \"correct\".\n",
        "# response = requests.get('https://www.naukri.com/jobapi/v3/search?noOfResults=20&urlType=search_by_keyword&searchType=adv&keyword=value^%^20at^%^20risk&pageNo=1&k=value^%^20at^%^20risk&seoKey=value-at-risk-jobs&src=jobsearchDesk&latLong=28.3532874_77.3329581', headers=headers)\n"
      ],
      "metadata": {
        "id": "272CY3K0UE8h"
      },
      "execution_count": 94,
      "outputs": []
    },
    {
      "cell_type": "code",
      "source": [],
      "metadata": {
        "id": "jTShtOGdrrbB"
      },
      "execution_count": 121,
      "outputs": []
    },
    {
      "cell_type": "code",
      "source": [
        "response.status_code"
      ],
      "metadata": {
        "colab": {
          "base_uri": "https://localhost:8080/"
        },
        "id": "xeWpXVFTUE6V",
        "outputId": "667c2944-97a4-444d-b7ff-c9617d7e1993"
      },
      "execution_count": 95,
      "outputs": [
        {
          "output_type": "execute_result",
          "data": {
            "text/plain": [
              "200"
            ]
          },
          "metadata": {},
          "execution_count": 95
        }
      ]
    },
    {
      "cell_type": "code",
      "source": [
        "response"
      ],
      "metadata": {
        "colab": {
          "base_uri": "https://localhost:8080/"
        },
        "id": "xqfHjpvzrMcY",
        "outputId": "f646a505-5df7-4e5f-903c-e9279757d755"
      },
      "execution_count": 136,
      "outputs": [
        {
          "output_type": "execute_result",
          "data": {
            "text/plain": [
              "<Response [200]>"
            ]
          },
          "metadata": {},
          "execution_count": 136
        }
      ]
    },
    {
      "cell_type": "code",
      "source": [
        "import requests\n",
        "\n",
        "headers = {\n",
        "    'authority': 'www.naukri.com',\n",
        "    'accept': 'application/json',\n",
        "    'accept-language': 'en-US,en;q=0.9',\n",
        "    'appid': '109',\n",
        "    'clientid': 'd3skt0p',\n",
        "    'content-type': 'application/json',\n",
        "    'cookie': '_t_s=direct; _t_ds=289d71e41701767559-834289d71e4-0289d71e4; _t_us=656EE987; test=naukri.com; _t_s=direct; _t_r=1030^%^2F^%^2F; persona=default; _t_ds=289d71e41701767559-834289d71e4-0289d71e4; bm_sz=4D378FE801706E844BDAF43C244EBD0E~YAAQvwVaaHl31w6MAQAAljpAORaLohUqpydew49Q9V7aSirKzu8pWAXnUz8OfQRGA8Zh2ILdzzc2955QdV9R19aY66Dgxeatttv4Enhj4yiQBz7La7x3ekjgqWnoZplz+9ELt2AsUVJJrKX3oK5AWLayq49/iDed5kzMswIBzCzE1isfz3zGA5H53IEd3gKCLEf8r2q2sMciER3auPcaDTRSBW8mYLh6g7JbXeVFX7Y1C+LYOqNOmErlcCVwVLqoFjtHnjkt27b3VqleGMs6HgH+NFGTdLn7rjnORqBJ75OSHRk=~3223604~3225156; _gcl_au=1.1.972464647.1701767376; _gid=GA1.2.1986565027.1701767380; _ga=GA1.1.36437792.1701767380; _abck=B8A6A3677BD459196B4E7EDCB1EA3AFD~0~YAAQvwVaaMR51w6MAQAA/XRAOQvpHcALAqyXONqM20hOantqFkPJAoXoTRVheRxUI1QGuOGg2XNvOml0H5lBqJSf08HbR+MZRxZbsURBveY8JaKFLxtoKff+CgkhoxkK0OZ4kBI6ks45SMdkH2J/x1DrZsx8EDCHKLDxDlfb6AKpRBipc/lSuUnh4mqAi8Yz6Itxs1HQ32NnaK53CcUiaXbh6UMLVKbf0Cespmq+xPBu/KylZwzO1CXDnECyueSzoCOZPQQ2zaDrb+VfhMnDtn7OpIBSZqVEdPVCWJ5nJ/OwHt1KzhcneNvpr0V9g/1yz3BpjH1KvhXs9KVJb9im/lvCiL6KNRqcL9RYQA2BZL6AHgO0vPHVhevW7lWux5/64pFg1rFYYi1up6GI0+SobXqdTjJ4MtSM~-1~-1~-1; test=naukri.com; jd=101023501560; __gads=ID=1951cc4ec56bdda8:T=1701767592:RT=1701774508:S=ALNI_MbK7bg-yvNF09qHpiKel_Zm0rI9-Q; __gpi=UID=00000ca5456630c8:T=1701767592:RT=1701774508:S=ALNI_Mbq5q_fmGF8lmKMuZgK-_CrO1V1oQ; HOWTORT=ul=1701774742897&r=https^%^3A^%^2F^%^2Fwww.naukri.com^%^2Fvalue-at-risk-jobs-2^%^3Fk^%^3Dvalue^%^2Bat^%^2Brisk^%^26nignbevent_src^%^3DjobsearchDeskGNB&hd=1701774743161; _ga_K2YBNZVRLL=GS1.1.1701774319.2.1.1701774743.60.0.0; ak_bmsc=E6AF97C81FFF71389977C3C48EABA5CD~000000000000000000000000000000~YAAQPm0/F/14XgeMAQAADb2wORaf/ZHn7gHFhDHpyqmz//vUdxHjNDKkYPo8fIGdVXZouKRLDN18oGI9XBXmxl2Ba8WXqEMYj9R+rXiKXgcvDGZIg86L/3IbRh0ZOsT0+his+kSdJW6dUnHgBS80FhCVFZe39+7YAcw9lSr5HJxTpU3Lx4DzY3bOJjgjjP6V9VF8NkHm+nx8vnmB9jPs9x7PkrGsGc9KPE9Gvn33Q8ds1W5MYLisLWJLEI2DmA8JKIYTc9oKDj28z6SdSFyET5VjwwJhQWNGFvnYRbBzokMyLJyMplfO/r173oBCXluXhS+9D5KqFFAhqIklY6Y2S+cSdvslCssgWgX+NzYc+oAnB53CkAphxX8oOWt460L8N82eUBEnH6IQ376HeTEJAeSMQS65y1BFO6CX/8qI0GaFzqlibe3dgWsh3ZAcKUUXgDtTXBpXeS6dhAmnqJXjJRFu1apd4xkuYfDCIcNG0uO0cmE8SoiA3gIuB39J1sPExME=',\n",
        "    'dnt': '1',\n",
        "    'gid': 'LOCATION,INDUSTRY,EDUCATION,FAREA_ROLE',\n",
        "    'referer': 'https://www.naukri.com/value-at-risk-jobs-2?k=value+at+risk&nignbevent_src=jobsearchDeskGNB',\n",
        "    'sec-ch-ua': '^\\\\^Google',\n",
        "    'sec-ch-ua-mobile': '?0',\n",
        "    'sec-ch-ua-platform': '^\\\\^Windows^\\\\^',\n",
        "    'sec-fetch-dest': 'empty',\n",
        "    'sec-fetch-mode': 'cors',\n",
        "    'sec-fetch-site': 'same-origin',\n",
        "    'systemid': 'Naukri',\n",
        "    'user-agent': 'Mozilla/5.0 (Windows NT 10.0; Win64; x64) AppleWebKit/537.36 (KHTML, like Gecko) Chrome/119.0.0.0 Safari/537.36',\n",
        "}\n",
        "\n",
        "params = (\n",
        "    ('noOfResults', '20'),\n",
        "    ('urlType', 'search_by_keyword'),\n",
        "    ('searchType', 'adv'),\n",
        "    ('keyword', 'value^%^20at^%^20risk'),\n",
        "    ('pageNo', '3'),\n",
        "    ('k', 'value^%^20at^%^20risk'),\n",
        "    ('nignbevent_src', 'jobsearchDeskGNB'),\n",
        "    ('seoKey', 'value-at-risk-jobs-2'),\n",
        "    ('src', 'jobsearchDesk'),\n",
        "    # ('latLong', '28.4524544_77.3062656'),\n",
        ")\n",
        "\n",
        "responsed = requests.get('https://www.naukri.com/jobapi/v3/search', headers=headers, params=params)\n",
        "\n",
        "#NB. Original query string below. It seems impossible to parse and\n",
        "#reproduce query strings 100% accurately so the one below is given\n",
        "#in case the reproduced version is not \"correct\".\n",
        "# response = requests.get('https://www.naukri.com/jobapi/v3/search?noOfResults=20&urlType=search_by_keyword&searchType=adv&keyword=value^%^20at^%^20risk&pageNo=2&k=value^%^20at^%^20risk&nignbevent_src=jobsearchDeskGNB&seoKey=value-at-risk-jobs-2&src=jobsearchDesk&latLong=28.4524544_77.3062656', headers=headers)\n"
      ],
      "metadata": {
        "id": "CkVgt-dCsWbg"
      },
      "execution_count": 134,
      "outputs": []
    },
    {
      "cell_type": "code",
      "source": [
        "response.json().keys()"
      ],
      "metadata": {
        "colab": {
          "base_uri": "https://localhost:8080/"
        },
        "id": "OGDO1a3LWWUI",
        "outputId": "e436e73a-9480-48a4-80a3-9d36f29917d2"
      },
      "execution_count": 97,
      "outputs": [
        {
          "output_type": "execute_result",
          "data": {
            "text/plain": [
              "dict_keys(['noOfJobs', 'clusters', 'jobDetails', 'fatFooter', 'suggesterModel', 'seo', 'bellyFilters', 'sid', 'isLoggedIn', 'variantName', 'clusterOrder', 'internshipSRP'])"
            ]
          },
          "metadata": {},
          "execution_count": 97
        }
      ]
    },
    {
      "cell_type": "code",
      "source": [
        "main_file=responsed.json()['jobDetails']"
      ],
      "metadata": {
        "id": "TuzMLVAZUEyN"
      },
      "execution_count": 125,
      "outputs": []
    },
    {
      "cell_type": "code",
      "source": [
        "main_file[0]['companyName'] # company name\n",
        "main_file[0]['title'] # job title\n",
        "f\"www.naukri.com{main_file[0]['jdURL']}\"  # url : main_file[0]['jdURL']\n",
        "main_file[0]['tagsAndSkills'] #skills\n",
        "main_file[0]['footerPlaceholderLabel']  # days ago posted\n",
        "main_file[0]['placeholders'][2]['label'] #location\n",
        "main_file[0]['placeholders'][0]['label'] # work_ex or  experience\n",
        "main_file[0]['placeholders'][1]['label'] # salary"
      ],
      "metadata": {
        "colab": {
          "base_uri": "https://localhost:8080/",
          "height": 35
        },
        "id": "vNNt0kbZYDN5",
        "outputId": "4db9393f-a29c-4a99-a781-305aad330bc0"
      },
      "execution_count": 128,
      "outputs": [
        {
          "output_type": "execute_result",
          "data": {
            "text/plain": [
              "'3-7 Lacs PA'"
            ],
            "application/vnd.google.colaboratory.intrinsic+json": {
              "type": "string"
            }
          },
          "metadata": {},
          "execution_count": 128
        }
      ]
    },
    {
      "cell_type": "code",
      "source": [
        "job=[]\n",
        "company=[]\n",
        "skills=[]\n",
        "salary=[]\n",
        "location= []\n",
        "experience=[]\n",
        "url=[]\n",
        "for i in main_file :\n",
        "    # job title\n",
        "  job.append(i['title'] )\n",
        "  # company\n",
        "  company.append( i['companyName'] )\n",
        "  # skillset\n",
        "  skills.append(i['tagsAndSkills'] )\n",
        "  # salary\n",
        "  salary.append( i['placeholders'][1]['label'] )\n",
        "  # location\n",
        "  location.append( i['placeholders'][2]['label'] )\n",
        "  # experience\n",
        "  experience.append( i['placeholders'][0]['label'] )\n",
        "  # link for more details\n",
        "  url.append( f\"www.naukri.com{i['jdURL']}\")\n",
        "  #dataframe\n",
        "  data=  pd.DataFrame({'title':job , 'skills':skills ,'company':company,\n",
        "          ' salary ': salary, 'location':location,\n",
        "          'experience': experience,'link':url,})"
      ],
      "metadata": {
        "id": "6U5psBsDUEqi"
      },
      "execution_count": 137,
      "outputs": []
    },
    {
      "cell_type": "code",
      "source": [
        "data"
      ],
      "metadata": {
        "id": "ul7cdb98lnvm"
      },
      "execution_count": null,
      "outputs": []
    },
    {
      "cell_type": "code",
      "source": [
        "data.to_excel(\"jobs.xlsx\")"
      ],
      "metadata": {
        "id": "vsaqei3jtMTq"
      },
      "execution_count": 141,
      "outputs": []
    },
    {
      "cell_type": "code",
      "execution_count": 131,
      "metadata": {
        "id": "50N2s6jxMEny"
      },
      "outputs": [],
      "source": []
    }
  ]
}