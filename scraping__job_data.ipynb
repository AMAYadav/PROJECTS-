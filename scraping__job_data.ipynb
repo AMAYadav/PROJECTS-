{
  "nbformat": 4,
  "nbformat_minor": 0,
  "metadata": {
    "colab": {
      "name": "scraping _job_data.ipynb",
      "provenance": [],
      "collapsed_sections": [],
      "authorship_tag": "ABX9TyNn19+k1zaDgmwByItcP6Ss",
      "include_colab_link": true
    },
    "kernelspec": {
      "name": "python3",
      "display_name": "Python 3"
    },
    "language_info": {
      "name": "python"
    }
  },
  "cells": [
    {
      "cell_type": "markdown",
      "metadata": {
        "id": "view-in-github",
        "colab_type": "text"
      },
      "source": [
        "<a href=\"https://colab.research.google.com/github/AMAYadav/PROJECTS-/blob/main/scraping__job_data.ipynb\" target=\"_parent\"><img src=\"https://colab.research.google.com/assets/colab-badge.svg\" alt=\"Open In Colab\"/></a>"
      ]
    },
    {
      "cell_type": "code",
      "execution_count": 1,
      "metadata": {
        "id": "fpa140GKu7Fb",
        "colab": {
          "base_uri": "https://localhost:8080/",
          "height": 35
        },
        "outputId": "43acd1d5-6b2d-40bd-a123-9969f6e5b6c4"
      },
      "outputs": [
        {
          "output_type": "execute_result",
          "data": {
            "application/vnd.google.colaboratory.intrinsic+json": {
              "type": "string"
            },
            "text/plain": [
              "'https://github.com/campusx-official/image-2-recipe-data-collector/blob/main/image-2-recipe-scraper.ipynb'"
            ]
          },
          "metadata": {},
          "execution_count": 1
        }
      ],
      "source": [
        "'https://github.com/campusx-official/image-2-recipe-data-collector/blob/main/image-2-recipe-scraper.ipynb'\n",
        "\n",
        "'https://www.naukri.com/quant-analyst-jobs?cityTypeGid=6&cityTypeGid=51&cityTypeGid=72&cityTypeGid=73&cityTypeGid=97&cityTypeGid=134&cityTypeGid=135&cityTypeGid=138&cityTypeGid=139&cityTypeGid=183&cityTypeGid=213&cityTypeGid=220&cityTypeGid=350&cityTypeGid=9508&cityTypeGid=9509&ctcFilter=0to3&ctcFilter=3to6&ctcFilter=6to10&ctcFilter=10to15'\n",
        "\n",
        "'https://github.com/campusx-official/image-2-recipe-data-collector/blob/main/image-downloader.ipynb'\n",
        "\n",
        "'https://github.com/campusx-official/image-2-recipe-data-collector/blob/main/image-2-recipe-scraper.ipynb'\n"
      ]
    },
    {
      "cell_type": "code",
      "source": [
        ""
      ],
      "metadata": {
        "id": "-scBD1pDGurh"
      },
      "execution_count": null,
      "outputs": []
    },
    {
      "cell_type": "code",
      "source": [
        "import pandas as pd\n",
        "import requests\n",
        "from bs4 import BeautifulSoup"
      ],
      "metadata": {
        "id": "jdrsJE6Rl0rb"
      },
      "execution_count": 2,
      "outputs": []
    },
    {
      "cell_type": "code",
      "source": [
        "LINKEDIN ='https://www.linkedin.com/jobs/quantitative-analyst-jobs/?originalSubdomain=in'\n",
        "headers = {     'user-agent': 'Mozilla/5.0 (Macintosh; Intel Mac OS X 10_11_6) AppleWebKit/537.36 (KHTML, like Gecko) Chrome/56.0.2924.87 Safari/537.36',     'referer': 'https://linkedin.com',     'accept': 'text/html,application/xhtml+xml,application/xml;q=0.9,image/webp,image/apng,*/*;q=0.8',     'accept-encoding': 'gzip, deflate, br',     'accept-language': 'en-US,en;q=0.8',     'cache-control': 'no-cache',     'pragma': 'no-cache',     'upgrade-insecure-requests': '1',      }\n",
        "\n",
        "source=requests.get('https://www.naukri.com/quant-analyst-jobs?cityTypeGid=6&cityTypeGid=51&cityTypeGid=72&cityTypeGid=73&cityTypeGid=97&cityTypeGid=134&cityTypeGid=135&cityTypeGid=138&cityTypeGid=139&cityTypeGid=183&cityTypeGid=213&cityTypeGid=220&cityTypeGid=350&cityTypeGid=9508&cityTypeGid=9509&ctcFilter=0to3&ctcFilter=3to6&ctcFilter=6to10&ctcFilter=10to15',headers=headers)\n",
        "source"
      ],
      "metadata": {
        "colab": {
          "base_uri": "https://localhost:8080/"
        },
        "id": "1VkuypfEleWJ",
        "outputId": "b144c531-fbe0-4dc0-e955-a2093fbc7694"
      },
      "execution_count": 20,
      "outputs": [
        {
          "output_type": "execute_result",
          "data": {
            "text/plain": [
              "<Response [200]>"
            ]
          },
          "metadata": {},
          "execution_count": 20
        }
      ]
    },
    {
      "cell_type": "code",
      "source": [
        "print(source.text)"
      ],
      "metadata": {
        "colab": {
          "base_uri": "https://localhost:8080/"
        },
        "id": "nmwlXsX2lFYi",
        "outputId": "7c1c1c7d-96ec-48c5-bd24-2c2af288d804"
      },
      "execution_count": 21,
      "outputs": [
        {
          "output_type": "stream",
          "name": "stdout",
          "text": [
            "<!DOCTYPE html> <html lang=\"en\"> <head> <meta http-equiv=\"X-UA-Compatible\" content=\"IE=Edge\" /> <meta name=\"viewport\" content=\"width=device-width,initial-scale=1.0, maximum-scale=1.0, minimum-scale=1.0, user-scalable=no\" /> <link rel=\"dns-prefetch preconnect\" href=\"//static.naukri.com\"> <link rel=\"dns-prefetch preconnect\" href=\"//img.naukri.com\"> <link rel=\"dns-prefetch preconnect\" href=\"//logs.naukri.com\"> <link rel=\"dns-prefetch preconnect\" href=\"//lg.naukri.com\"> <link rel=\"dns-prefetch\" href=\"https://www.googletagmanager.com\" /> <base href=\"//www.naukri.com\" /> <link rel=\"manifest\" href=\"./manifest.json\"> <link rel=\"preload\" as=\"style\" href=\"//static.naukri.com/s/7/109/c/main.c4adc96b.min.css\"/> <link rel=\"preload\" as=\"script\" href=\"//static.naukri.com/s/7/109/j/main.1c14fb1e.min.js\"> <script>\n",
            "        window.ipAddress = \"www.naukri.com\";\n",
            "        window.DEBUG = true;\n",
            "        window.appId = 135;\n",
            "                    var isCrawler = false;\n",
            "                            var ucBrowser = false;\n",
            "            </script>   <style type=\"text/css\"> .splScrn{ height: 100%; } body{margin:0} .nkIcon { width: 9rem; margin: auto; position: relative; padding-top: 95px; } #circleG { width: 9rem; margin: auto } .circleG { background-color: #2DABE2; float: left; height: 14px; margin: 5px; width: 14px; animation-name: bounce_circleG; -o-animation-name: bounce_circleG; -ms-animation-name: bounce_circleG; -webkit-animation-name: bounce_circleG; -moz-animation-name: bounce_circleG; animation-duration: 1.8s; -o-animation-duration: 1.8s; -ms-animation-duration: 1.8s; -webkit-animation-duration: 1.8s; -moz-animation-duration: 1.8s; animation-iteration-count: infinite; -o-animation-iteration-count: infinite; -ms-animation-iteration-count: infinite; -webkit-animation-iteration-count: infinite; -moz-animation-iteration-count: infinite; animation-direction: normal; -o-animation-direction: normal; -ms-animation-direction: normal; -webkit-animation-direction: normal; -moz-animation-direction: normal; border-radius: 50%; -o-border-radius: 50%; -ms-border-radius: 50%; -webkit-border-radius: 50%; -moz-border-radius: 50% } #root, body, html { height: 100% } #circleG_1 { animation-delay: .45s; -o-animation-delay: .45s; -ms-animation-delay: .45s; -webkit-animation-delay: .45s; -moz-animation-delay: .45s } #circleG_2 { animation-delay: .65s; -o-animation-delay: .65s; -ms-animation-delay: .65s; -webkit-animation-delay: .65s; -moz-animation-delay: .65s } #circleG_3 { animation-delay: .85s; -o-animation-delay: .85s; -ms-animation-delay: .85s; -webkit-animation-delay: .85s; -moz-animation-delay: .85s } #circleG_4 { animation-delay: 1.05s; -o-animation-delay: 1.05s; -ms-animation-delay: 1.05s; -webkit-animation-delay: 1.05s; -moz-animation-delay: 1.05s } #circleG_5 { animation-delay: 1.25s; -o-animation-delay: 1.25s; -ms-animation-delay: 1.25s; -webkit-animation-delay: 1.25s; -moz-animation-delay: 1.25s } @keyframes bounce_circleG { 50% { width: 10px; height: 10px; margin: 7px; background-color: rgba(12, 109, 182, 0) } } </style> <script >bazadebezolkohpepadr=\"871998886\"</script><script type=\"text/javascript\" src=\"https://www.naukri.com/akam/11/33f9a483\"  defer></script></head> <body>  <noscript> <iframe src=\"https://www.googletagmanager.com/ns.html?id=GTM-NX744H\"height=\"0\" width=\"0\" style=\"display:none;visibility:hidden\"></iframe> </noscript>  <div id=\"root\"> <div class=\"splScrn\"> <div class=\"row top\"> <div class=\"nkIcon\"><svg xmlns=\"http://www.w3.org/2000/svg\" viewBox=\"0 0 315 315\"><style type=\"text/css\"> .st0{fill:#2DABE2;} .st1{fill:#0C6DB6;} .st2{fill:#EC2227;} .st3{fill:#444444;} .st4{fill-rule:evenodd;clip-rule:evenodd;fill:#EC2227;} .st5{fill-rule:evenodd;clip-rule:evenodd;fill:#0C6DB6;} </style><path class=\"st0\" d=\"M0 200.8h10v4.6c1.5-1.9 3-3.2 4.5-4 1.5-0.8 3.4-1.2 5.6-1.2 3 0 5.3 0.9 7 2.7 1.7 1.8 2.5 4.5 2.5 8.2v17.8H18.8v-15.4c0-1.8-0.3-3-1-3.7 -0.7-0.7-1.6-1.1-2.7-1.1 -1.3 0-2.4 0.5-3.2 1.5 -0.8 1-1.2 2.8-1.2 5.3v13.4H0V200.8z\"/><path class=\"st0\" d=\"M45.8 209.9l-10.3-1.1c0.4-1.8 0.9-3.2 1.7-4.2 0.7-1 1.8-1.9 3.2-2.7 1-0.5 2.3-1 4.1-1.3 1.7-0.3 3.6-0.4 5.6-0.4 3.2 0 5.8 0.2 7.8 0.5 2 0.4 3.6 1.1 4.9 2.3 0.9 0.8 1.6 1.9 2.2 3.4 0.5 1.5 0.8 2.8 0.8 4.2v12.4c0 1.3 0.1 2.4 0.3 3.1 0.2 0.7 0.5 1.7 1.1 2.9H56.9c-0.4-0.7-0.7-1.3-0.8-1.6 -0.1-0.4-0.2-1-0.4-1.8 -1.4 1.4-2.8 2.3-4.2 2.9 -1.9 0.8-4.1 1.2-6.6 1.2 -3.3 0-5.9-0.8-7.6-2.3 -1.7-1.5-2.6-3.5-2.6-5.7 0-2.1 0.6-3.9 1.9-5.2 1.2-1.4 3.6-2.4 6.9-3.1 4-0.8 6.6-1.4 7.8-1.7 1.2-0.3 2.5-0.8 3.8-1.3 0-1.3-0.3-2.2-0.8-2.8 -0.5-0.5-1.5-0.8-2.9-0.8 -1.8 0-3.1 0.3-4 0.8C46.8 207.8 46.2 208.6 45.8 209.9zM55.1 215.5c-1.5 0.5-3 1-4.6 1.4 -2.2 0.6-3.6 1.2-4.1 1.7 -0.6 0.6-0.9 1.2-0.9 2 0 0.8 0.3 1.5 0.9 2.1 0.6 0.5 1.5 0.8 2.6 0.8 1.2 0 2.3-0.3 3.3-0.9 1-0.6 1.8-1.3 2.2-2.1 0.4-0.8 0.6-1.9 0.6-3.3V215.5z\"/><path class=\"st0\" d=\"M101.6 228.8h-10v-4.5c-1.5 1.9-3 3.2-4.5 4 -1.5 0.8-3.4 1.2-5.6 1.2 -3 0-5.3-0.9-6.9-2.7 -1.7-1.8-2.5-4.5-2.5-8.2v-17.8h10.8v15.4c0 1.8 0.3 3 1 3.7 0.7 0.7 1.6 1.1 2.7 1.1 1.3 0 2.3-0.5 3.2-1.5 0.8-1 1.2-2.8 1.2-5.3v-13.5h10.7V228.8z\"/><path class=\"st0\" d=\"M108.1 190.1h11v20l8-9.3h13.2l-10 9.8 10.6 18.2h-12.1l-5.7-11.2 -4 3.9v7.3h-11V190.1z\"/><path class=\"st0\" d=\"M144.2 200.8h10v4.6c1-2 2-3.4 3-4.1 1-0.7 2.3-1.1 3.8-1.1 1.6 0 3.3 0.5 5.2 1.5l-3.3 7.6c-1.3-0.5-2.3-0.8-3-0.8 -1.4 0-2.5 0.6-3.3 1.7 -1.1 1.6-1.7 4.7-1.7 9.2v9.4h-10.8V200.8z\"/><path class=\"st0\" d=\"M168.5 190.1h10.7v7.3h-10.7V190.1zM168.5 200.8h10.7v28h-10.7V200.8z\"/><path class=\"st1\" d=\"M216.1 217.8l10.2 1.2c-0.6 2.1-1.5 4-2.8 5.5 -1.3 1.6-2.9 2.8-4.9 3.6 -2 0.9-4.5 1.3-7.6 1.3 -3 0-5.4-0.3-7.4-0.8 -2-0.6-3.7-1.4-5.1-2.7 -1.4-1.2-2.5-2.7-3.3-4.4 -0.8-1.7-1.2-3.9-1.2-6.6 0-2.9 0.5-5.3 1.5-7.2 0.7-1.4 1.7-2.7 3-3.8 1.2-1.1 2.5-1.9 3.9-2.5 2.1-0.9 4.8-1.3 8-1.3 4.6 0 8.1 0.8 10.5 2.5 2.4 1.6 4.1 4 5.1 7.2l-10.1 1.3c-0.3-1.2-0.9-2.1-1.7-2.7 -0.8-0.6-2-0.9-3.4-0.9 -1.8 0-3.2 0.6-4.3 1.9 -1.1 1.3-1.6 3.2-1.6 5.8 0 2.3 0.5 4 1.6 5.2 1.1 1.2 2.5 1.8 4.2 1.8 1.4 0 2.6-0.4 3.5-1.1C214.9 220.4 215.7 219.3 216.1 217.8z\"/><path class=\"st1\" d=\"M230 214.9c0-4.3 1.4-7.8 4.3-10.6 2.9-2.8 6.8-4.2 11.7-4.2 5.6 0 9.8 1.6 12.7 4.9 2.3 2.6 3.5 5.8 3.5 9.7 0 4.3-1.4 7.8-4.3 10.6 -2.9 2.8-6.8 4.1-11.9 4.1 -4.5 0-8.1-1.1-10.9-3.4C231.7 223.2 230 219.5 230 214.9zM240.7 214.8c0 2.5 0.5 4.3 1.5 5.5 1 1.2 2.3 1.8 3.8 1.8 1.5 0 2.8-0.6 3.8-1.8 1-1.2 1.5-3.1 1.5-5.7 0-2.4-0.5-4.2-1.5-5.4 -1-1.2-2.2-1.8-3.7-1.8 -1.6 0-2.9 0.6-3.9 1.8C241.2 210.5 240.7 212.4 240.7 214.8z\"/><path class=\"st1\" d=\"M267.4 200.8h10v4.1c1.4-1.7 2.9-2.9 4.4-3.6 1.5-0.7 3.2-1.1 5.3-1.1 2.2 0 4 0.4 5.3 1.2 1.3 0.8 2.4 2 3.2 3.5 1.7-1.8 3.2-3.1 4.6-3.7 1.4-0.7 3.1-1 5.1-1 3 0 5.3 0.9 7 2.7 1.7 1.8 2.5 4.6 2.5 8.4v17.6h-10.8v-16c0-1.3-0.2-2.2-0.7-2.8 -0.7-1-1.6-1.4-2.7-1.4 -1.3 0-2.3 0.5-3 1.4 -0.8 0.9-1.2 2.4-1.2 4.4v14.5h-10.8v-15.4c0-1.2-0.1-2.1-0.2-2.5 -0.2-0.7-0.6-1.3-1.2-1.7 -0.6-0.4-1.2-0.6-2-0.6 -1.2 0-2.3 0.5-3 1.4 -0.8 0.9-1.2 2.5-1.2 4.6v14.3h-10.8V200.8z\"/><circle class=\"st2\" cx=\"187.7\" cy=\"224.2\" r=\"4.6\"/><path class=\"st3\" d=\"M163.1 251.5v-11.3h2.3v11.3H163.1z\"/><path class=\"st3\" d=\"M175 251.5h-2.2v-4.2c0-0.9 0-1.5-0.1-1.7 -0.1-0.3-0.2-0.5-0.4-0.6 -0.2-0.1-0.5-0.2-0.8-0.2 -0.4 0-0.7 0.1-1 0.3 -0.3 0.2-0.5 0.5-0.6 0.8 -0.1 0.3-0.2 1-0.2 1.9v3.7h-2.2v-8.2h2v1.2c0.7-0.9 1.6-1.4 2.7-1.4 0.5 0 0.9 0.1 1.3 0.3 0.4 0.2 0.7 0.4 0.9 0.7 0.2 0.3 0.3 0.6 0.4 0.9 0.1 0.3 0.1 0.8 0.1 1.5V251.5z\"/><path class=\"st3\" d=\"M184.7 251.5h-2v-1.2c-0.3 0.5-0.7 0.8-1.2 1 -0.5 0.2-0.9 0.3-1.4 0.3 -0.9 0-1.7-0.4-2.4-1.1 -0.7-0.8-1-1.8-1-3.2 0-1.4 0.3-2.4 1-3.2 0.7-0.7 1.5-1.1 2.5-1.1 0.9 0 1.7 0.4 2.4 1.1v-4.1h2.2V251.5zM178.9 247.2c0 0.9 0.1 1.5 0.4 1.9 0.3 0.6 0.8 0.8 1.5 0.8 0.5 0 0.9-0.2 1.3-0.6 0.4-0.4 0.5-1.1 0.5-1.9 0-0.9-0.2-1.6-0.5-2 -0.3-0.4-0.8-0.6-1.3-0.6 -0.5 0-0.9 0.2-1.3 0.6C179.1 245.8 178.9 246.4 178.9 247.2z\"/><path class=\"st3\" d=\"M186.8 242.2v-2h2.2v2H186.8zM186.8 251.5v-8.2h2.2v8.2H186.8z\"/><path class=\"st3\" d=\"M192.8 245.8l-2-0.4c0.2-0.8 0.6-1.4 1.1-1.8 0.5-0.4 1.3-0.6 2.4-0.6 1 0 1.7 0.1 2.2 0.3 0.5 0.2 0.8 0.5 1 0.9 0.2 0.4 0.3 1 0.3 1.9l0 2.5c0 0.7 0 1.2 0.1 1.6 0.1 0.3 0.2 0.7 0.4 1.1h-2.1c-0.1-0.1-0.1-0.4-0.2-0.6 0-0.1-0.1-0.2-0.1-0.3 -0.4 0.4-0.8 0.6-1.2 0.8 -0.4 0.2-0.9 0.3-1.3 0.3 -0.8 0-1.5-0.2-2-0.7 -0.5-0.5-0.7-1-0.7-1.7 0-0.5 0.1-0.9 0.3-1.2 0.2-0.4 0.5-0.6 0.9-0.8 0.4-0.2 1-0.4 1.7-0.5 1-0.2 1.7-0.4 2.1-0.5v-0.2c0-0.4-0.1-0.7-0.3-0.9 -0.2-0.2-0.6-0.3-1.2-0.3 -0.4 0-0.7 0.1-0.9 0.2C193.1 245.1 193 245.4 192.8 245.8zM195.7 247.5c-0.3 0.1-0.7 0.2-1.3 0.3 -0.6 0.1-1 0.3-1.2 0.4 -0.3 0.2-0.4 0.5-0.4 0.8 0 0.3 0.1 0.6 0.3 0.8 0.2 0.2 0.5 0.3 0.9 0.3 0.4 0 0.8-0.1 1.1-0.4 0.3-0.2 0.4-0.4 0.5-0.7 0.1-0.2 0.1-0.5 0.1-1.1V247.5z\"/><path class=\"st3\" d=\"M199.9 240.2h2.2v1.5c0 0.6-0.1 1.1-0.2 1.5 -0.1 0.4-0.3 0.7-0.6 1 -0.3 0.3-0.7 0.5-1.1 0.7l-0.4-0.9c0.4-0.1 0.7-0.3 0.9-0.6 0.2-0.3 0.3-0.6 0.3-1h-1V240.2z\"/><path class=\"st3\" d=\"M203 249.1l2.2-0.3c0.1 0.4 0.3 0.7 0.6 1 0.3 0.2 0.7 0.3 1.2 0.3 0.6 0 1-0.1 1.3-0.3 0.2-0.1 0.3-0.3 0.3-0.6 0-0.2-0.1-0.3-0.2-0.4 -0.1-0.1-0.3-0.2-0.7-0.3 -1.7-0.4-2.8-0.7-3.3-1.1 -0.6-0.4-1-1.1-1-1.8 0-0.7 0.3-1.3 0.8-1.8 0.6-0.5 1.4-0.7 2.6-0.7 1.1 0 1.9 0.2 2.5 0.5 0.5 0.4 0.9 0.9 1.1 1.6l-2 0.4c-0.1-0.3-0.3-0.6-0.5-0.7 -0.2-0.2-0.6-0.3-1-0.3 -0.6 0-1 0.1-1.2 0.2 -0.2 0.1-0.2 0.3-0.2 0.4 0 0.2 0.1 0.3 0.2 0.4 0.2 0.1 0.9 0.3 2 0.6 1.2 0.3 2 0.6 2.4 1 0.5 0.4 0.7 0.9 0.7 1.6 0 0.8-0.3 1.4-0.9 1.9 -0.6 0.5-1.6 0.8-2.8 0.8 -1.1 0-2-0.2-2.6-0.7C203.6 250.5 203.2 249.9 203 249.1z\"/><path class=\"st3\" d=\"M216.9 251.5v-11.3h2.2l4.6 7.5v-7.5h2.1v11.3h-2.3l-4.5-7.4v7.4H216.9z\"/><path class=\"st3\" d=\"M227.8 247.3c0-0.7 0.2-1.4 0.5-2.1 0.4-0.7 0.9-1.2 1.5-1.5 0.6-0.4 1.4-0.5 2.2-0.5 1.2 0 2.2 0.4 3 1.2 0.8 0.8 1.2 1.8 1.2 3 0 1.2-0.4 2.3-1.2 3.1 -0.8 0.8-1.8 1.2-3 1.2 -0.7 0-1.5-0.2-2.1-0.5 -0.7-0.3-1.2-0.8-1.6-1.5C228 249 227.8 248.2 227.8 247.3zM230 247.4c0 0.8 0.2 1.4 0.6 1.9 0.4 0.4 0.9 0.6 1.4 0.6 0.6 0 1-0.2 1.4-0.6 0.4-0.4 0.6-1.1 0.6-1.9 0-0.8-0.2-1.4-0.6-1.8 -0.4-0.4-0.9-0.6-1.4-0.6 -0.6 0-1 0.2-1.4 0.6C230.2 245.9 230 246.6 230 247.4z\"/><path class=\"st3\" d=\"M237.9 251.5v-2.2h2.2v2.2H237.9z\"/><path class=\"st3\" d=\"M247.4 251.5h-2.2v-8.2c-0.8 0.7-1.7 1.3-2.8 1.6v-2c0.6-0.2 1.2-0.5 1.8-1.1 0.7-0.5 1.1-1.1 1.4-1.8h1.8V251.5z\"/><path class=\"st3\" d=\"M259.5 240.2h2.3v7.1c0 0.9-0.1 1.7-0.2 2.2 -0.2 0.7-0.6 1.2-1.2 1.6 -0.6 0.4-1.3 0.6-2.3 0.6 -1.1 0-2-0.3-2.6-0.9 -0.6-0.6-0.9-1.5-0.9-2.7l2.1-0.2c0 0.6 0.1 1.1 0.3 1.4 0.2 0.4 0.6 0.6 1.1 0.6 0.5 0 0.9-0.1 1.1-0.4 0.2-0.3 0.3-0.9 0.3-1.8V240.2z\"/><path class=\"st3\" d=\"M263.7 247.3c0-0.7 0.2-1.4 0.5-2.1 0.4-0.7 0.9-1.2 1.5-1.5 0.6-0.4 1.4-0.5 2.2-0.5 1.2 0 2.2 0.4 3 1.2 0.8 0.8 1.2 1.8 1.2 3 0 1.2-0.4 2.3-1.2 3.1 -0.8 0.8-1.8 1.2-3 1.2 -0.7 0-1.5-0.2-2.1-0.5 -0.7-0.3-1.2-0.8-1.6-1.5C263.9 249 263.7 248.2 263.7 247.3zM265.9 247.4c0 0.8 0.2 1.4 0.6 1.9 0.4 0.4 0.9 0.6 1.4 0.6 0.6 0 1-0.2 1.4-0.6 0.4-0.4 0.6-1.1 0.6-1.9 0-0.8-0.2-1.4-0.6-1.8 -0.4-0.4-0.9-0.6-1.4-0.6 -0.6 0-1 0.2-1.4 0.6C266.1 245.9 265.9 246.6 265.9 247.4z\"/><path class=\"st3\" d=\"M273.7 251.5v-11.3h2.2v4.1c0.7-0.8 1.5-1.1 2.4-1.1 1 0 1.8 0.4 2.5 1.1 0.7 0.7 1 1.8 1 3.1 0 1.4-0.3 2.5-1 3.2 -0.7 0.8-1.5 1.1-2.4 1.1 -0.5 0-0.9-0.1-1.4-0.3 -0.5-0.2-0.8-0.6-1.2-1v1.2H273.7zM275.9 247.2c0 0.8 0.1 1.5 0.4 1.9 0.4 0.6 0.9 0.9 1.5 0.9 0.5 0 0.9-0.2 1.2-0.6 0.3-0.4 0.5-1 0.5-1.9 0-0.9-0.2-1.6-0.5-2 -0.3-0.4-0.8-0.6-1.3-0.6 -0.5 0-0.9 0.2-1.3 0.6C276.1 245.8 275.9 246.4 275.9 247.2z\"/><path class=\"st3\" d=\"M287.3 247.8l2.2-0.2c0.1 0.7 0.4 1.3 0.8 1.6 0.4 0.4 1 0.5 1.6 0.5 0.7 0 1.3-0.2 1.7-0.5 0.4-0.3 0.6-0.7 0.6-1.1 0-0.3-0.1-0.5-0.2-0.7 -0.2-0.2-0.4-0.3-0.8-0.5 -0.3-0.1-0.9-0.3-1.8-0.5 -1.2-0.3-2.1-0.7-2.6-1.1 -0.7-0.6-1-1.4-1-2.3 0-0.6 0.2-1.1 0.5-1.6 0.3-0.5 0.8-0.9 1.4-1.1 0.6-0.3 1.4-0.4 2.2-0.4 1.4 0 2.5 0.3 3.2 0.9 0.7 0.6 1.1 1.4 1.1 2.5l-2.3 0.1c-0.1-0.6-0.3-1-0.6-1.3 -0.3-0.3-0.8-0.4-1.4-0.4 -0.7 0-1.2 0.1-1.6 0.4 -0.2 0.2-0.4 0.4-0.4 0.7 0 0.3 0.1 0.5 0.3 0.7 0.3 0.2 1 0.5 2.1 0.8 1.1 0.3 1.9 0.5 2.5 0.8 0.5 0.3 0.9 0.7 1.2 1.1 0.3 0.5 0.5 1.1 0.5 1.8 0 0.6-0.2 1.3-0.5 1.8 -0.4 0.6-0.9 1-1.5 1.3 -0.7 0.3-1.5 0.4-2.5 0.4 -1.4 0-2.5-0.3-3.3-1C287.9 250 287.4 249.1 287.3 247.8z\"/><path class=\"st3\" d=\"M298.4 242.2v-2h2.2v2H298.4zM298.4 251.5v-8.2h2.2v8.2H298.4z\"/><path class=\"st3\" d=\"M306.5 243.3v1.7H305v3.3c0 0.7 0 1.1 0 1.2 0 0.1 0.1 0.2 0.2 0.3 0.1 0.1 0.2 0.1 0.4 0.1 0.2 0 0.5-0.1 0.9-0.2l0.2 1.7c-0.5 0.2-1.1 0.3-1.7 0.3 -0.4 0-0.7-0.1-1.1-0.2 -0.3-0.1-0.5-0.3-0.7-0.5 -0.1-0.2-0.2-0.5-0.3-0.8 0-0.3-0.1-0.8-0.1-1.5V245h-1v-1.7h1v-1.6l2.2-1.3v2.9H306.5z\"/><path class=\"st3\" d=\"M312.7 248.9l2.2 0.4c-0.3 0.8-0.7 1.4-1.3 1.8 -0.6 0.4-1.3 0.6-2.2 0.6 -1.4 0-2.5-0.5-3.2-1.4 -0.5-0.7-0.8-1.7-0.8-2.8 0-1.4 0.4-2.4 1.1-3.2 0.7-0.8 1.6-1.2 2.7-1.2 1.2 0 2.2 0.4 2.9 1.2 0.7 0.8 1 2 1 3.7h-5.4c0 0.6 0.2 1.1 0.5 1.5 0.3 0.4 0.7 0.5 1.2 0.5 0.3 0 0.6-0.1 0.9-0.3C312.4 249.6 312.6 249.3 312.7 248.9zM312.8 246.7c0-0.6-0.2-1.1-0.5-1.4 -0.3-0.3-0.7-0.5-1.1-0.5 -0.5 0-0.9 0.2-1.2 0.5 -0.3 0.3-0.5 0.8-0.5 1.4H312.8z\"/><path class=\"st4\" d=\"M129.9 64c-0.5 0.7-1 1.4-1.5 2.2 1.5 0 2.3-0.8 3.6-1 0.7 1.2-1.4 1.4-1.4 2.7 1.4 0.1 2.9-1.6 3.6-0.5 0.3 1-1.8 1.6-2.2 2.7 0.4 0.2 2.5-0.1 3.6 0 2.1 6.7-3.5 11.9-8.9 12.3 -8.5 0.7-15.6-8-9.9-15.2C119.2 64.2 124.5 62.2 129.9 64z\"/><path class=\"st5\" d=\"M200.2 165.1c-0.3 0.8-2.1 0.2-3.1 0 -7-1.5-15.1-3.9-22-6 -15.9-5-30.8-11.1-42.5-21.3 -6.2-5.4-12.5-13.3-11.6-24.7 0.2-2.6 1.2-4.7 1.7-7 0.4-2 0.3-3.7 0.7-5.3 2.6-10.2 10.4-18.1 18.4-23.9 9.1-6.7 20.5-13 35.1-12.6 -3.5 2.3-7.6 4-10.9 6.5 4.4-0.9 10-2.2 15-1 -12.5 6.7-25.2 13.2-32.9 25.6 -2.4 3.8-5 9.8-4.4 15 0.3 2.8 2.2 6 3.9 8.7 10.8 17.9 29.8 28.3 49.6 37 -8.7-1.3-17.5-4.6-25.9-7 -0.2 0-0.2-0.2-0.5-0.2 7.5 5.5 16.3 10.7 25.6 14.5C197.6 163.9 199.3 163.9 200.2 165.1zM163 72.7c-1.3 0.4-2.6 1.9-3.9 2.9 -7.4 5.9-15.7 14.4-16.4 25.9 -0.1 1.4-0.3 2.9 0.5 4.3 1.5-9.9 7.4-16 13.3-21.5 6-5.6 13.6-9.8 21-14C172.2 70.2 167.1 71.4 163 72.7zM133 136.8c14.9 13.1 38.8 20.7 59.2 26.1 0.4 0.1 0.6-0.3 0-0.2 -6.8-3.3-13.8-7.1-19.8-11.1 -2.1-1.4-4-3.3-6-4.3 -1.1-0.6-2.7-0.7-3.9-1.2 -3.6-1.5-6.9-3.2-10.4-4.8 -13.6-6.6-26.1-14.7-29.7-31.4C120.1 122.5 126.3 130.9 133 136.8z\"/></svg></div> </div> <div id=\"circleG\"> <div id=\"circleG_1\" class=\"circleG\"></div> <div id=\"circleG_2\" class=\"circleG\"></div> <div id=\"circleG_3\" class=\"circleG\"></div> <div id=\"circleG_4\" class=\"circleG\"></div> <div id=\"circleG_5\" class=\"circleG\"></div> </div> </div> </div> <link rel=\"stylesheet\" type=\"text/css\" href=\"//static.naukri.com/s/7/109/c/main.c4adc96b.min.css\" media=\"all\"/>  <script id=\"ubScript\"> (function() { var queuedSuperProps = []; var queuedEvents = []; window.ub = { track: function(eventName, eventProps) { queuedEvents.push([eventName, eventProps]) }, register: function(properties) { queuedSuperProps.push(properties); } };\n",
            "            var script = document.createElement(\"script\"); script.async = true;script.trackTdsCookie=true,script.fingerprint=false,script.src = \"//static.naukri.com/s/0/1/j/ub_v1.11.min.js\";script.onload = function() { ub.init({\n",
            "                   trackTdsCookie : true, beaconUrl : \"https://logs.naukri.com/uba\", bulkBeaconUrl : \"https://logs.naukri.com/collectorapi/v1/uba/bulk\", queuedEvents:queuedEvents, queuedSuperProps:queuedSuperProps,  tenantId:'1' , autoTrack:false, blackList: \n",
            "                []\n",
            "            }); };document.head.appendChild(script);}()); ub.register({ appId:109, pageName: \"jobsearch\",  tenantId:'1' , }); </script>   <script>\n",
            "    //hack of IE and safari bug : Super expression must either be null or a function, not undefined\n",
            "    if (typeof HTMLElement !== 'function') {\n",
            "        var _HTMLElement = function() {};\n",
            "        _HTMLElement.prototype = HTMLElement.prototype;\n",
            "        HTMLElement = _HTMLElement;\n",
            "    }\n",
            "    </script> <script src=\"//static.naukri.com/s/7/109/j/vendors~main.d50bdf96.min.js\" type=\"text/javascript\" defer></script> <script src=\"//static.naukri.com/s/7/109/j/main.1c14fb1e.min.js\" type=\"text/javascript\" defer></script> <script type=\"text/javascript\" src=\"//static.naukri.com/s/0/0/j/nLoggerJB_v3.0.min.js\"></script> <script type=\"text/javascript\">\n",
            "   window.nLogger && nLogger.init({ \"tag\": \"revamped_srp\", \"nLogger\": { \"beaconUrl\": \"https:\\/\\/lg.naukri.com\\/uba\", \"eventName\": \"newMonkError\", \"deviceType\": \"SERVER\" }, \"boomerang\": { \"logBW\": false, \"beaconUrl\": \"https:\\/\\/lg.naukri.com\\/uba\", \"imageURL\": \"\\/\\/static.naukri.com\\/s\\/0\\/0\\/i\\/\", \"eventName\": \"newMonkPerformance\", \"deviceType\": \"SERVER\" }, \"tenantId\": 1, \"appId\": 109, \"userIP\": \"2045974146\" });\n",
            " </script> <script type=\"text/javascript\">\n",
            "   (function(w, d, s, l, i) {\n",
            "     w[l] = w[l] || [];\n",
            "     w[l].push({\n",
            "         'gtm.start': new Date().getTime(),\n",
            "         event: 'gtm.js'\n",
            "     });\n",
            "     var f = d.getElementsByTagName(s)[0],\n",
            "         j = d.createElement(s),\n",
            "         dl = l != 'dataLayer' ? '&l=' + l : '';\n",
            "     j.defer = 'defer';\n",
            "     j.src =\n",
            "         'https://www.googletagmanager.com/gtm.js?id=' + i + dl;\n",
            "     f.parentNode.insertBefore(j, f);\n",
            "   })(window, document, 'script', 'dataLayer', 'GTM-NX744H');\n",
            " </script> <script defer src='https://www.googletagservices.com/tag/js/gpt.js'></script> <script>\n",
            "          var googletag = googletag || {};\n",
            "          googletag.cmd = googletag.cmd || [];  \n",
            "    </script> <noscript><img src=\"https://www.naukri.com/akam/11/pixel_33f9a483?a=dD03OTAzODJmYzQwNzlhODJhODQ2YzQ4M2I3NTJiMmM0ZTM1NjMyZDJkJmpzPW9mZg==\" style=\"visibility: hidden; position: absolute; left: -999px; top: -999px;\" /></noscript><script type=\"text/javascript\"  src=\"/Rkg8/nfF7/XV3/dMn/tIfA/iVYOQkfDaS3S/LloSAg/L0ZgM/Wg_aC0\"></script></body> </html>\n"
          ]
        }
      ]
    },
    {
      "cell_type": "code",
      "source": [
        "# !pip install selenium bs4\n",
        "\n",
        "# !apt-get update\n",
        "\n",
        "# !apt install chromium-chromedriver\n",
        "\n",
        "\n",
        "# from selenium import webdriver\n",
        "# from selenium.webdriver.common.by import By\n",
        "# from bs4 import BeautifulSoup\n",
        "# import pandas as pd\n",
        "\n",
        "\n",
        "\n",
        "# import sys\n",
        "# sys.path.insert(0,'/usr/lib/chromium-browser/chromedriver')\n",
        "# options = webdriver.ChromeOptions()\n",
        "# options.add_argument('--headless')\n",
        "# options.add_argument('--no-sandbox')\n",
        "# options.add_argument('--disable-dev-shm-usage')\n",
        "\n",
        "# # options = Options()\n",
        "# user_agent = 'Mozilla/5.0 (X11; Linux x86_64) AppleWebKit/537.36 (KHTML, like Gecko) Chrome/33.0.1750.517 Safari/537.36'\n",
        "# options.add_argument('user-agent={0}'.format(user_agent))\n",
        "\n",
        "\n",
        "\n",
        "# driver = webdriver.Chrome('chromedriver',options=options)\n",
        "driver.get('https://www.naukri.com/quant-analyst-jobs?cityTypeGid=6&cityTypeGid=51&cityTypeGid=72&cityTypeGid=73&cityTypeGid=97&cityTypeGid=134&cityTypeGid=135&cityTypeGid=138&cityTypeGid=139&cityTypeGid=183&cityTypeGid=213&cityTypeGid=220&cityTypeGid=350&cityTypeGid=9508&cityTypeGid=9509&ctcFilter=0to3&ctcFilter=3to6&ctcFilter=6to10&ctcFilter=10to15')"
      ],
      "metadata": {
        "id": "r61Ehhb5lr6r"
      },
      "execution_count": 22,
      "outputs": []
    },
    {
      "cell_type": "code",
      "source": [
        "print(driver.page_source)"
      ],
      "metadata": {
        "id": "DEg9qy-Rlr-s"
      },
      "execution_count": null,
      "outputs": []
    },
    {
      "cell_type": "code",
      "source": [
        "soup=BeautifulSoup(driver.page_source,'lxml')\n",
        "\n",
        "# 4774*20\n"
      ],
      "metadata": {
        "id": "ECHzRoOKlsB4"
      },
      "execution_count": 193,
      "outputs": []
    },
    {
      "cell_type": "code",
      "source": [
        "# dimenasions-- # 4774*20 (pages*container per page)\n",
        "\n",
        "\n",
        "##creating pages for the scraping\n",
        "naukrilink=[]\n",
        "for i in range(1,4774):\n",
        "  resources='https://www.naukri.com/quant-analyst-jobs-{}?cityTypeGid=6&cityTypeGid=51&cityTypeGid=72&cityTypeGid=73&cityTypeGid=97&cityTypeGid=134&cityTypeGid=135&cityTypeGid=138&cityTypeGid=139&cityTypeGid=183&cityTypeGid=213&cityTypeGid=220&cityTypeGid=350&cityTypeGid=9508&cityTypeGid=9509&ctcFilter=0to3&ctcFilter=3to6&ctcFilter=6to10&ctcFilter=10to15'.format(i)\n",
        "  naukrilink.append(resources) \n",
        "\n",
        "##creating soup object for each and every page of naukri.com\n",
        "for i in naukrilink:\n",
        "  driver.get(i)\n",
        "  soup=BeautifulSoup(driver.page_source,'lxml')   "
      ],
      "metadata": {
        "id": "mqtrYpt_BaiS"
      },
      "execution_count": null,
      "outputs": []
    },
    {
      "cell_type": "code",
      "source": [
        ""
      ],
      "metadata": {
        "id": "HshnAiA4F5pB"
      },
      "execution_count": 200,
      "outputs": []
    },
    {
      "cell_type": "code",
      "source": [
        "# element of single container\n",
        "\n",
        "A=soup.find_all('article',{'class':'jobTuple bgWhite br4 mb-8'})\n",
        "\n",
        "# comapny page on naukri.com for eliboratedexpilnations\n",
        "A[0].find('a',class_='title fw500 ellipsis').get('href')\n",
        "# results = soup.find(class_='list')\n",
        "# job_elems = results.find_all('article',class_='jobTuple bgWhite br4 mb-8')\n",
        "\n",
        "# job_elems "
      ],
      "metadata": {
        "id": "71pKRPdgsFie"
      },
      "execution_count": 67,
      "outputs": []
    },
    {
      "cell_type": "code",
      "source": [
        ""
      ],
      "metadata": {
        "colab": {
          "base_uri": "https://localhost:8080/",
          "height": 35
        },
        "id": "1qvoCeTwvr3K",
        "outputId": "24ba7d37-a6dc-4bd1-c29c-44eef3ab6318"
      },
      "execution_count": 201,
      "outputs": [
        {
          "output_type": "execute_result",
          "data": {
            "application/vnd.google.colaboratory.intrinsic+json": {
              "type": "string"
            },
            "text/plain": [
              "'https://www.naukri.com/job-listings-quant-analyst-equity-data-science-mumbai-1-to-4-years-100122500498?src=jobsearchDesk&sid=16420980555789406&xp=1&px=1'"
            ]
          },
          "metadata": {},
          "execution_count": 201
        }
      ]
    },
    {
      "cell_type": "code",
      "source": [
        "len(A)\n",
        "\n",
        "\n",
        "colab=[]\n",
        "for a in A :\n",
        "  # print(a)\n",
        "  colab.append(a.find('a',class_='title fw500 ellipsis').get('href'))\n",
        "\n",
        "colab"
      ],
      "metadata": {
        "id": "pRWHnXxNtu5q"
      },
      "execution_count": null,
      "outputs": []
    },
    {
      "cell_type": "code",
      "source": [
        "# print(A[0])\n",
        "\n",
        "# df = pd.DataFrame(columns=['Company_website','Company_Name','Job_title','Experience','Salary','Location','Days_ago'])\n",
        "\n",
        "\n",
        "\n",
        "Company_website=[]\n",
        "Company_Name=[]\n",
        "Job_title=[]\n",
        "Experience=[]\n",
        "Salary=[]\n",
        "Location=[]\n",
        "Days_ago=[]\n",
        "Skills=[]\n",
        "for a in A:\n",
        "  Company_website.append(a.find('a',class_='title fw500 ellipsis').get('href'))  ## company website on naukri.com site\n",
        "  Company_Name.append(a.find('a',class_=\"subTitle ellipsis fleft\").text )  #company name\n",
        "  Job_title.append(a.find('a', class_=\"title fw500 ellipsis\").text)  ## Job title \n",
        "  Experience.append(a.find('li',class_=\"fleft grey-text br2 placeHolderLi experience\").text)  ##exprience asked by the company  for the job\n",
        "  Salary.append(a.find('li',class_=\"fleft grey-text br2 placeHolderLi salary\").text)    ##salary offered by the company  for the job\n",
        "  # a.find('span',class_=\"ellipsis fleft fs12 lh16 \").text  ## experience\n",
        "  Location.append(a.find('li',class_=\"fleft grey-text br2 placeHolderLi location\").text ) ## location of the job\n",
        "  Days_ago.append(a.find('span',class_=\"fleft fw500\").text)  ##no of days job posted ago\n",
        "  # for li in a.find('ul',class_=\"tags has-description\").find_all('li'):    ##skills asked by the company\n",
        "  #   Skills.append(li.text)\n",
        "\n",
        "\n",
        "df=pd.DataFrame({'Company_website':Company_website,'Company_Name':Company_Name,'Job_title':Job_title,'Experience':Experience,'Salary':Salary,'Location':Location,'Days_ago':Days_ago},columns=['Company_website','Company_Name','Job_title','Experience','Salary','Location','Days_ago'])\n",
        "# df.append({'Company_website':Company_website,'Company_Name':Company_Name,'Job_title':Job_title,'Experience':Experience,'Salary':Salary,'Location':Location,'Days_ago':Days_ago},ignore_index = True)\n",
        "# df[ignore_index = True]\n",
        "df\n",
        "\n"
      ],
      "metadata": {
        "colab": {
          "base_uri": "https://localhost:8080/",
          "height": 1000
        },
        "id": "pHuWWeLBuHOU",
        "outputId": "1d933db4-0daa-49b2-cd37-f821ec5dbb00"
      },
      "execution_count": 271,
      "outputs": [
        {
          "output_type": "execute_result",
          "data": {
            "text/html": [
              "\n",
              "  <div id=\"df-a729287d-c667-452e-8783-4476ea95542b\">\n",
              "    <div class=\"colab-df-container\">\n",
              "      <div>\n",
              "<style scoped>\n",
              "    .dataframe tbody tr th:only-of-type {\n",
              "        vertical-align: middle;\n",
              "    }\n",
              "\n",
              "    .dataframe tbody tr th {\n",
              "        vertical-align: top;\n",
              "    }\n",
              "\n",
              "    .dataframe thead th {\n",
              "        text-align: right;\n",
              "    }\n",
              "</style>\n",
              "<table border=\"1\" class=\"dataframe\">\n",
              "  <thead>\n",
              "    <tr style=\"text-align: right;\">\n",
              "      <th></th>\n",
              "      <th>Company_website</th>\n",
              "      <th>Company_Name</th>\n",
              "      <th>Job_title</th>\n",
              "      <th>Experience</th>\n",
              "      <th>Salary</th>\n",
              "      <th>Location</th>\n",
              "      <th>Days_ago</th>\n",
              "    </tr>\n",
              "  </thead>\n",
              "  <tbody>\n",
              "    <tr>\n",
              "      <th>0</th>\n",
              "      <td>https://www.naukri.com/job-listings-quant-anal...</td>\n",
              "      <td>Equity Data Science</td>\n",
              "      <td>Quant Analyst</td>\n",
              "      <td>1-4 Yrs</td>\n",
              "      <td>Not disclosed</td>\n",
              "      <td>Mumbai</td>\n",
              "      <td>3 Days Ago</td>\n",
              "    </tr>\n",
              "    <tr>\n",
              "      <th>1</th>\n",
              "      <td>https://www.naukri.com/job-listings-quant-anal...</td>\n",
              "      <td>AdviserLogic</td>\n",
              "      <td>Quant Analyst</td>\n",
              "      <td>1-2 Yrs</td>\n",
              "      <td>Not disclosed</td>\n",
              "      <td>Mumbai</td>\n",
              "      <td>30+ Days Ago</td>\n",
              "    </tr>\n",
              "    <tr>\n",
              "      <th>2</th>\n",
              "      <td>https://www.naukri.com/job-listings-senior-qua...</td>\n",
              "      <td>Morningstar</td>\n",
              "      <td>Senior Quant Analyst - Model validation</td>\n",
              "      <td>3-6 Yrs</td>\n",
              "      <td>Not disclosed</td>\n",
              "      <td>Mumbai</td>\n",
              "      <td>30+ Days Ago</td>\n",
              "    </tr>\n",
              "    <tr>\n",
              "      <th>3</th>\n",
              "      <td>https://www.naukri.com/job-listings-quant-anal...</td>\n",
              "      <td>Morningstar</td>\n",
              "      <td>Quant Analyst - Model validation</td>\n",
              "      <td>1-2 Yrs</td>\n",
              "      <td>Not disclosed</td>\n",
              "      <td>Mumbai</td>\n",
              "      <td>30+ Days Ago</td>\n",
              "    </tr>\n",
              "    <tr>\n",
              "      <th>4</th>\n",
              "      <td>https://www.naukri.com/job-listings-senior-qua...</td>\n",
              "      <td>AdviserLogic</td>\n",
              "      <td>Senior Quant Analyst - Model validation</td>\n",
              "      <td>3-6 Yrs</td>\n",
              "      <td>Not disclosed</td>\n",
              "      <td>Mumbai</td>\n",
              "      <td>30+ Days Ago</td>\n",
              "    </tr>\n",
              "    <tr>\n",
              "      <th>5</th>\n",
              "      <td>https://www.naukri.com/job-listings-quant-anal...</td>\n",
              "      <td>AdviserLogic</td>\n",
              "      <td>Quant Analyst - Model validation</td>\n",
              "      <td>1-2 Yrs</td>\n",
              "      <td>Not disclosed</td>\n",
              "      <td>Mumbai</td>\n",
              "      <td>30+ Days Ago</td>\n",
              "    </tr>\n",
              "    <tr>\n",
              "      <th>6</th>\n",
              "      <td>https://www.naukri.com/job-listings-quant-anal...</td>\n",
              "      <td>Morningstar</td>\n",
              "      <td>Quant Analyst</td>\n",
              "      <td>1-2 Yrs</td>\n",
              "      <td>Not disclosed</td>\n",
              "      <td>Mumbai</td>\n",
              "      <td>30+ Days Ago</td>\n",
              "    </tr>\n",
              "    <tr>\n",
              "      <th>7</th>\n",
              "      <td>https://www.naukri.com/job-listings-analyst-da...</td>\n",
              "      <td>BNY Mellon</td>\n",
              "      <td>Analyst - DataMgmt Quant Analysis</td>\n",
              "      <td>2-3 Yrs</td>\n",
              "      <td>Not disclosed</td>\n",
              "      <td>Pune</td>\n",
              "      <td>30+ Days Ago</td>\n",
              "    </tr>\n",
              "    <tr>\n",
              "      <th>8</th>\n",
              "      <td>https://www.naukri.com/job-listings-avp-analys...</td>\n",
              "      <td>Black Turtle India Pvt Ltd</td>\n",
              "      <td>AVP / Analyst - Quant - Bank</td>\n",
              "      <td>3-8 Yrs</td>\n",
              "      <td>Not disclosed</td>\n",
              "      <td>Noida</td>\n",
              "      <td>PREFERRED</td>\n",
              "    </tr>\n",
              "    <tr>\n",
              "      <th>9</th>\n",
              "      <td>https://www.naukri.com/job-listings-sranalyst-...</td>\n",
              "      <td>BNY Mellon</td>\n",
              "      <td>SrAnalyst - Data Mgt Quant Analysis</td>\n",
              "      <td>3-5 Yrs</td>\n",
              "      <td>Not disclosed</td>\n",
              "      <td>Pune</td>\n",
              "      <td>30+ Days Ago</td>\n",
              "    </tr>\n",
              "    <tr>\n",
              "      <th>10</th>\n",
              "      <td>https://www.naukri.com/job-listings-sranalyst-...</td>\n",
              "      <td>BNY Mellon</td>\n",
              "      <td>SrAnalyst - DataMgt Quant Analysis</td>\n",
              "      <td>2-5 Yrs</td>\n",
              "      <td>Not disclosed</td>\n",
              "      <td>Pune</td>\n",
              "      <td>30+ Days Ago</td>\n",
              "    </tr>\n",
              "    <tr>\n",
              "      <th>11</th>\n",
              "      <td>https://www.naukri.com/job-listings-quant-anal...</td>\n",
              "      <td>iRage Broking Services</td>\n",
              "      <td>Quant Analyst High Frequency Trading</td>\n",
              "      <td>2-5 Yrs</td>\n",
              "      <td>Not disclosed</td>\n",
              "      <td>Mumbai</td>\n",
              "      <td>30+ Days Ago</td>\n",
              "    </tr>\n",
              "    <tr>\n",
              "      <th>12</th>\n",
              "      <td>https://www.naukri.com/job-listings-analyst-da...</td>\n",
              "      <td>BNY Mellon</td>\n",
              "      <td>Analyst - Data Mgmt Quant Analysis</td>\n",
              "      <td>2-3 Yrs</td>\n",
              "      <td>Not disclosed</td>\n",
              "      <td>Pune</td>\n",
              "      <td>30+ Days Ago</td>\n",
              "    </tr>\n",
              "    <tr>\n",
              "      <th>13</th>\n",
              "      <td>https://www.naukri.com/job-listings-c-develope...</td>\n",
              "      <td>Altran Technologies India Private Limited.</td>\n",
              "      <td>C Developer</td>\n",
              "      <td>3-8 Yrs</td>\n",
              "      <td>Not disclosed</td>\n",
              "      <td>Noida, Gurgaon/Gurugram, Bangalore/Bengaluru(W...</td>\n",
              "      <td>PREMIUM</td>\n",
              "    </tr>\n",
              "    <tr>\n",
              "      <th>14</th>\n",
              "      <td>https://www.naukri.com/job-listings-embedded-c...</td>\n",
              "      <td>Capgemini Engineering</td>\n",
              "      <td>Embedded C Developer - 1 To 2 years</td>\n",
              "      <td>1-2 Yrs</td>\n",
              "      <td>2,50,000 - 3,75,000 PA.</td>\n",
              "      <td>Bangalore/Bengaluru</td>\n",
              "      <td>HOT JOB</td>\n",
              "    </tr>\n",
              "    <tr>\n",
              "      <th>15</th>\n",
              "      <td>https://www.naukri.com/job-listings-python-dja...</td>\n",
              "      <td>Adamas Tech consulting pvt Ltd</td>\n",
              "      <td>Python &amp; Django Developer</td>\n",
              "      <td>4-9 Yrs</td>\n",
              "      <td>6,00,000 - 16,00,000 PA.</td>\n",
              "      <td>Kolkata, Bangalore/Bengaluru</td>\n",
              "      <td>HOT JOB</td>\n",
              "    </tr>\n",
              "    <tr>\n",
              "      <th>16</th>\n",
              "      <td>https://www.naukri.com/job-listings-python-dev...</td>\n",
              "      <td>aRKe Software Solutions (Sister Concern of Cha...</td>\n",
              "      <td>Python Developer</td>\n",
              "      <td>2-4 Yrs</td>\n",
              "      <td>3,00,000 - 7,00,000 PA.</td>\n",
              "      <td>Delhi / NCR(Kirti Nagar Industrial Area)(WFH d...</td>\n",
              "      <td>HOT JOB</td>\n",
              "    </tr>\n",
              "    <tr>\n",
              "      <th>17</th>\n",
              "      <td>https://www.naukri.com/job-listings-sr-data-sc...</td>\n",
              "      <td>Siemens</td>\n",
              "      <td>Sr. Data Scientist</td>\n",
              "      <td>3-8 Yrs</td>\n",
              "      <td>Not disclosed</td>\n",
              "      <td>Bangalore/Bengaluru</td>\n",
              "      <td>Few Hours Ago</td>\n",
              "    </tr>\n",
              "    <tr>\n",
              "      <th>18</th>\n",
              "      <td>https://www.naukri.com/job-listings-data-scien...</td>\n",
              "      <td>Siemens</td>\n",
              "      <td>Data Scientist /AI Developer</td>\n",
              "      <td>2-6 Yrs</td>\n",
              "      <td>Not disclosed</td>\n",
              "      <td>Mumbai, Bangalore/Bengaluru</td>\n",
              "      <td>Few Hours Ago</td>\n",
              "    </tr>\n",
              "  </tbody>\n",
              "</table>\n",
              "</div>\n",
              "      <button class=\"colab-df-convert\" onclick=\"convertToInteractive('df-a729287d-c667-452e-8783-4476ea95542b')\"\n",
              "              title=\"Convert this dataframe to an interactive table.\"\n",
              "              style=\"display:none;\">\n",
              "        \n",
              "  <svg xmlns=\"http://www.w3.org/2000/svg\" height=\"24px\"viewBox=\"0 0 24 24\"\n",
              "       width=\"24px\">\n",
              "    <path d=\"M0 0h24v24H0V0z\" fill=\"none\"/>\n",
              "    <path d=\"M18.56 5.44l.94 2.06.94-2.06 2.06-.94-2.06-.94-.94-2.06-.94 2.06-2.06.94zm-11 1L8.5 8.5l.94-2.06 2.06-.94-2.06-.94L8.5 2.5l-.94 2.06-2.06.94zm10 10l.94 2.06.94-2.06 2.06-.94-2.06-.94-.94-2.06-.94 2.06-2.06.94z\"/><path d=\"M17.41 7.96l-1.37-1.37c-.4-.4-.92-.59-1.43-.59-.52 0-1.04.2-1.43.59L10.3 9.45l-7.72 7.72c-.78.78-.78 2.05 0 2.83L4 21.41c.39.39.9.59 1.41.59.51 0 1.02-.2 1.41-.59l7.78-7.78 2.81-2.81c.8-.78.8-2.07 0-2.86zM5.41 20L4 18.59l7.72-7.72 1.47 1.35L5.41 20z\"/>\n",
              "  </svg>\n",
              "      </button>\n",
              "      \n",
              "  <style>\n",
              "    .colab-df-container {\n",
              "      display:flex;\n",
              "      flex-wrap:wrap;\n",
              "      gap: 12px;\n",
              "    }\n",
              "\n",
              "    .colab-df-convert {\n",
              "      background-color: #E8F0FE;\n",
              "      border: none;\n",
              "      border-radius: 50%;\n",
              "      cursor: pointer;\n",
              "      display: none;\n",
              "      fill: #1967D2;\n",
              "      height: 32px;\n",
              "      padding: 0 0 0 0;\n",
              "      width: 32px;\n",
              "    }\n",
              "\n",
              "    .colab-df-convert:hover {\n",
              "      background-color: #E2EBFA;\n",
              "      box-shadow: 0px 1px 2px rgba(60, 64, 67, 0.3), 0px 1px 3px 1px rgba(60, 64, 67, 0.15);\n",
              "      fill: #174EA6;\n",
              "    }\n",
              "\n",
              "    [theme=dark] .colab-df-convert {\n",
              "      background-color: #3B4455;\n",
              "      fill: #D2E3FC;\n",
              "    }\n",
              "\n",
              "    [theme=dark] .colab-df-convert:hover {\n",
              "      background-color: #434B5C;\n",
              "      box-shadow: 0px 1px 3px 1px rgba(0, 0, 0, 0.15);\n",
              "      filter: drop-shadow(0px 1px 2px rgba(0, 0, 0, 0.3));\n",
              "      fill: #FFFFFF;\n",
              "    }\n",
              "  </style>\n",
              "\n",
              "      <script>\n",
              "        const buttonEl =\n",
              "          document.querySelector('#df-a729287d-c667-452e-8783-4476ea95542b button.colab-df-convert');\n",
              "        buttonEl.style.display =\n",
              "          google.colab.kernel.accessAllowed ? 'block' : 'none';\n",
              "\n",
              "        async function convertToInteractive(key) {\n",
              "          const element = document.querySelector('#df-a729287d-c667-452e-8783-4476ea95542b');\n",
              "          const dataTable =\n",
              "            await google.colab.kernel.invokeFunction('convertToInteractive',\n",
              "                                                     [key], {});\n",
              "          if (!dataTable) return;\n",
              "\n",
              "          const docLinkHtml = 'Like what you see? Visit the ' +\n",
              "            '<a target=\"_blank\" href=https://colab.research.google.com/notebooks/data_table.ipynb>data table notebook</a>'\n",
              "            + ' to learn more about interactive tables.';\n",
              "          element.innerHTML = '';\n",
              "          dataTable['output_type'] = 'display_data';\n",
              "          await google.colab.output.renderOutput(dataTable, element);\n",
              "          const docLink = document.createElement('div');\n",
              "          docLink.innerHTML = docLinkHtml;\n",
              "          element.appendChild(docLink);\n",
              "        }\n",
              "      </script>\n",
              "    </div>\n",
              "  </div>\n",
              "  "
            ],
            "text/plain": [
              "                                      Company_website  ...       Days_ago\n",
              "0   https://www.naukri.com/job-listings-quant-anal...  ...     3 Days Ago\n",
              "1   https://www.naukri.com/job-listings-quant-anal...  ...   30+ Days Ago\n",
              "2   https://www.naukri.com/job-listings-senior-qua...  ...   30+ Days Ago\n",
              "3   https://www.naukri.com/job-listings-quant-anal...  ...   30+ Days Ago\n",
              "4   https://www.naukri.com/job-listings-senior-qua...  ...   30+ Days Ago\n",
              "5   https://www.naukri.com/job-listings-quant-anal...  ...   30+ Days Ago\n",
              "6   https://www.naukri.com/job-listings-quant-anal...  ...   30+ Days Ago\n",
              "7   https://www.naukri.com/job-listings-analyst-da...  ...   30+ Days Ago\n",
              "8   https://www.naukri.com/job-listings-avp-analys...  ...      PREFERRED\n",
              "9   https://www.naukri.com/job-listings-sranalyst-...  ...   30+ Days Ago\n",
              "10  https://www.naukri.com/job-listings-sranalyst-...  ...   30+ Days Ago\n",
              "11  https://www.naukri.com/job-listings-quant-anal...  ...   30+ Days Ago\n",
              "12  https://www.naukri.com/job-listings-analyst-da...  ...   30+ Days Ago\n",
              "13  https://www.naukri.com/job-listings-c-develope...  ...        PREMIUM\n",
              "14  https://www.naukri.com/job-listings-embedded-c...  ...        HOT JOB\n",
              "15  https://www.naukri.com/job-listings-python-dja...  ...        HOT JOB\n",
              "16  https://www.naukri.com/job-listings-python-dev...  ...        HOT JOB\n",
              "17  https://www.naukri.com/job-listings-sr-data-sc...  ...  Few Hours Ago\n",
              "18  https://www.naukri.com/job-listings-data-scien...  ...  Few Hours Ago\n",
              "\n",
              "[19 rows x 7 columns]"
            ]
          },
          "metadata": {},
          "execution_count": 271
        }
      ]
    },
    {
      "cell_type": "code",
      "source": [
        "df.Salary"
      ],
      "metadata": {
        "colab": {
          "base_uri": "https://localhost:8080/"
        },
        "id": "hCnQAbkOS2Jb",
        "outputId": "c3493455-e481-4549-eb67-aae78edabe76"
      },
      "execution_count": 265,
      "outputs": [
        {
          "output_type": "execute_result",
          "data": {
            "text/plain": [
              "0    [Not disclosed, Not disclosed, Not disclosed, ...\n",
              "Name: Salary, dtype: object"
            ]
          },
          "metadata": {},
          "execution_count": 265
        }
      ]
    },
    {
      "cell_type": "code",
      "source": [
        "# print(A[0].find('a', class_=\"title fw500 ellipsis\").text)"
      ],
      "metadata": {
        "colab": {
          "base_uri": "https://localhost:8080/"
        },
        "id": "BCqjU31pL-66",
        "outputId": "cffb24f6-6ef1-450b-a9f2-891007e9e3e4"
      },
      "execution_count": 239,
      "outputs": [
        {
          "output_type": "stream",
          "name": "stdout",
          "text": [
            "Quant Analyst\n"
          ]
        }
      ]
    },
    {
      "cell_type": "code",
      "source": [
        "https://www.naukri.com/quant-analyst-jobs-\n",
        "2\n",
        "?cityTypeGid=6&cityTypeGid=51&cityTypeGid=72&cityTypeGid=73&cityTypeGid=97&cityTypeGid=134&cityTypeGid=135&cityTypeGid=138&cityTypeGid=139&cityTypeGid=183&cityTypeGid=213&cityTypeGid=220&cityTypeGid=350&cityTypeGid=9508&cityTypeGid=9509&ctcFilter=0to3&ctcFilter=3to6&ctcFilter=6to10&ctcFilter=10to15"
      ],
      "metadata": {
        "id": "GvnTyrynuvEj"
      },
      "execution_count": 132,
      "outputs": []
    },
    {
      "cell_type": "code",
      "source": [
        "# zz=soup.find('article',{'class':'jobTuple bgWhite br4 mb-8'}).find('a', class_=\"title fw500 ellipsis\") \n",
        "# zz"
      ],
      "metadata": {
        "colab": {
          "base_uri": "https://localhost:8080/",
          "height": 183
        },
        "id": "Nl9SSaO0siKU",
        "outputId": "2968113d-1b80-414e-86cc-ca8f6e48f999"
      },
      "execution_count": 209,
      "outputs": [
        {
          "output_type": "error",
          "ename": "AttributeError",
          "evalue": "ignored",
          "traceback": [
            "\u001b[0;31m---------------------------------------------------------------------------\u001b[0m",
            "\u001b[0;31mAttributeError\u001b[0m                            Traceback (most recent call last)",
            "\u001b[0;32m<ipython-input-209-b63fa0dce2f2>\u001b[0m in \u001b[0;36m<module>\u001b[0;34m()\u001b[0m\n\u001b[0;32m----> 1\u001b[0;31m \u001b[0mzz\u001b[0m\u001b[0;34m=\u001b[0m\u001b[0msoup\u001b[0m\u001b[0;34m.\u001b[0m\u001b[0mfind\u001b[0m\u001b[0;34m(\u001b[0m\u001b[0;34m'article'\u001b[0m\u001b[0;34m,\u001b[0m\u001b[0;34m{\u001b[0m\u001b[0;34m'class'\u001b[0m\u001b[0;34m:\u001b[0m\u001b[0;34m'jobTuple bgWhite br4 mb-8'\u001b[0m\u001b[0;34m}\u001b[0m\u001b[0;34m)\u001b[0m\u001b[0;34m.\u001b[0m\u001b[0mfind\u001b[0m\u001b[0;34m(\u001b[0m\u001b[0;34m'a'\u001b[0m\u001b[0;34m,\u001b[0m \u001b[0mclass_\u001b[0m\u001b[0;34m=\u001b[0m\u001b[0;34m\"title fw500 ellipsis\"\u001b[0m\u001b[0;34m)\u001b[0m\u001b[0;34m\u001b[0m\u001b[0;34m\u001b[0m\u001b[0m\n\u001b[0m\u001b[1;32m      2\u001b[0m \u001b[0mzz\u001b[0m\u001b[0;34m\u001b[0m\u001b[0;34m\u001b[0m\u001b[0m\n",
            "\u001b[0;31mAttributeError\u001b[0m: 'NoneType' object has no attribute 'find'"
          ]
        }
      ]
    },
    {
      "cell_type": "code",
      "source": [
        ""
      ],
      "metadata": {
        "colab": {
          "base_uri": "https://localhost:8080/",
          "height": 35
        },
        "id": "CwucD2qu4-uo",
        "outputId": "f9bae9b6-9750-4de0-9869-0a387ace9eb5"
      },
      "execution_count": 229,
      "outputs": [
        {
          "output_type": "execute_result",
          "data": {
            "application/vnd.google.colaboratory.intrinsic+json": {
              "type": "string"
            },
            "text/plain": [
              "'Quant Analyst'"
            ]
          },
          "metadata": {},
          "execution_count": 229
        }
      ]
    },
    {
      "cell_type": "code",
      "source": [
        "# a.text  ==----JOB TITLE----\n",
        "# a.get('href') # ==----LINK----"
      ],
      "metadata": {
        "id": "I03e195osuxT"
      },
      "execution_count": 208,
      "outputs": []
    },
    {
      "cell_type": "code",
      "source": [
        "# A[0].find('a',class_='subTitle ellipsis fleft').text.strip()  ##job title\n",
        "# A[0].find('a',class_='subTitle ellipsis fleft').get('href')  ##job search for the particular jobs on naukri.com"
      ],
      "metadata": {
        "colab": {
          "base_uri": "https://localhost:8080/",
          "height": 35
        },
        "id": "m4Dlzqsdwbcb",
        "outputId": "11249a8c-8fd1-4669-e393-d5ba5901a738"
      },
      "execution_count": 213,
      "outputs": [
        {
          "output_type": "execute_result",
          "data": {
            "application/vnd.google.colaboratory.intrinsic+json": {
              "type": "string"
            },
            "text/plain": [
              "'https://www.naukri.com/equity-data-science-jobs-careers-5963986'"
            ]
          },
          "metadata": {},
          "execution_count": 213
        }
      ]
    },
    {
      "cell_type": "code",
      "source": [
        "print(A[0])"
      ],
      "metadata": {
        "colab": {
          "base_uri": "https://localhost:8080/"
        },
        "id": "kR4xcfiXw_LM",
        "outputId": "1e139f66-a254-4c20-bca3-fc46fbd259a8"
      },
      "execution_count": 86,
      "outputs": [
        {
          "output_type": "stream",
          "name": "stdout",
          "text": [
            "<article class=\"jobTuple bgWhite br4 mb-8\" data-job-id=\"100122500498\"><div class=\"jobTupleHeader\"><div class=\"info fleft\"><a class=\"title fw500 ellipsis\" href=\"https://www.naukri.com/job-listings-quant-analyst-equity-data-science-mumbai-1-to-4-years-100122500498?src=jobsearchDesk&amp;sid=16420980555789406&amp;xp=1&amp;px=1\" target=\"_blank\" title=\"Quant Analyst\">Quant Analyst</a><div class=\"mt-7 companyInfo subheading lh16\"><a class=\"subTitle ellipsis fleft\" href=\"https://www.naukri.com/equity-data-science-jobs-careers-5963986\" target=\"_blank\" title=\"Equity Data Science\">Equity Data Science</a></div><ul class=\"mt-7\"><li class=\"fleft grey-text br2 placeHolderLi experience\"><i class=\"fleft icon-16 lh16 mr-4 naukicon naukicon-experience\"></i><span class=\"ellipsis fleft fs12 lh16 \" title=\"1-4 Yrs \">1-4 Yrs</span></li><li class=\"fleft grey-text br2 placeHolderLi salary\"><i class=\"fleft icon-16 lh16 mr-4 naukicon naukicon-rupee\"></i><span class=\"ellipsis fleft fs12 lh16 \" title=\"Not disclosed \">Not disclosed</span></li><li class=\"fleft grey-text br2 placeHolderLi location\"><i class=\"fleft icon-16 lh16 mr-4 naukicon naukicon-location\"></i><span class=\"ellipsis fleft fs12 lh16 \" title=\"Mumbai \">Mumbai</span></li></ul></div></div><div class=\"job-description fs12 grey-text\"><i class=\"fleft icon-16 lh16 mr-4 naukicon naukicon-desc\"></i> Responsibilities: Will work closely with CIO s, PM s, analysts and traders at top globa...</div><ul class=\"tags has-description\"><li class=\"fleft fs12 grey-text lh16 dot\">Quant Analyst</li><li class=\"fleft fs12 grey-text lh16 dot\">R</li><li class=\"fleft fs12 grey-text lh16 dot\">Problem Solving</li><li class=\"fleft fs12 grey-text lh16 dot\">Data Analysis</li><li class=\"fleft fs12 grey-text lh16 dot\">Financial Markets</li><li class=\"fleft fs12 grey-text lh16 dot\">Python</li></ul><div class=\"jobTupleFooter mt-20\"><div class=\"type br2 fleft grey\"><i class=\"fleft mr-4 fs11 naukicon naukicon-history\"></i><span class=\"fleft fw500\">3 Days Ago</span></div><div class=\"saveJobContainer fright grey-text save\"><i class=\"fleft mr-4 icon-16 lh16 naukicon naukicon-save\"></i><span class=\"saveSpn fs12\">save</span></div></div></article>\n"
          ]
        }
      ]
    },
    {
      "cell_type": "code",
      "source": [
        ""
      ],
      "metadata": {
        "colab": {
          "base_uri": "https://localhost:8080/",
          "height": 35
        },
        "id": "b_oG-iICxyZo",
        "outputId": "9639c54f-a0ce-4fac-c541-bb4310bae68c"
      },
      "execution_count": 219,
      "outputs": [
        {
          "output_type": "execute_result",
          "data": {
            "application/vnd.google.colaboratory.intrinsic+json": {
              "type": "string"
            },
            "text/plain": [
              "'Mumbai'"
            ]
          },
          "metadata": {},
          "execution_count": 219
        }
      ]
    },
    {
      "cell_type": "code",
      "source": [
        "#expectations\n",
        "A[0].find('li',class_=\"fleft fs12 grey-text lh16 dot\").text\n",
        "\n",
        "A[0].find('ul',class_=\"tags has-description\")\n",
        "# .find('li',class_=\"fleft fs12 grey-text lh16 dot\").text\n",
        "# A[0]"
      ],
      "metadata": {
        "colab": {
          "base_uri": "https://localhost:8080/"
        },
        "id": "GNyNzZFm0QmP",
        "outputId": "87a2ce2e-1bdf-4971-9571-1f2ebb069894"
      },
      "execution_count": 107,
      "outputs": [
        {
          "output_type": "execute_result",
          "data": {
            "text/plain": [
              "<ul class=\"tags has-description\"><li class=\"fleft fs12 grey-text lh16 dot\">Quant Analyst</li><li class=\"fleft fs12 grey-text lh16 dot\">R</li><li class=\"fleft fs12 grey-text lh16 dot\">Problem Solving</li><li class=\"fleft fs12 grey-text lh16 dot\">Data Analysis</li><li class=\"fleft fs12 grey-text lh16 dot\">Financial Markets</li><li class=\"fleft fs12 grey-text lh16 dot\">Python</li></ul>"
            ]
          },
          "metadata": {},
          "execution_count": 107
        }
      ]
    },
    {
      "cell_type": "code",
      "source": [
        "# ddd=A[0].find('ul',class_=\"tags has-description\").find_all('li')\n",
        "# jackass=[]\n",
        "# for li in ddd:\n",
        "#     jackass.append(li.text)\n",
        "# jackass\n",
        "\n",
        "# A[0].find('ul',class_=\"tags has-description\").find_all('li')\n"
      ],
      "metadata": {
        "colab": {
          "base_uri": "https://localhost:8080/"
        },
        "id": "d9pkvbEO2RnG",
        "outputId": "3d37bf3f-fe30-4e4a-a4bc-47d08a327c49"
      },
      "execution_count": 225,
      "outputs": [
        {
          "output_type": "stream",
          "name": "stdout",
          "text": [
            "Quant Analyst\n",
            "R\n",
            "Problem Solving\n",
            "Data Analysis\n",
            "Financial Markets\n",
            "Python\n"
          ]
        }
      ]
    },
    {
      "cell_type": "code",
      "source": [
        "ddd.get_text().replace(\"\", \"\").strip()"
      ],
      "metadata": {
        "colab": {
          "base_uri": "https://localhost:8080/",
          "height": 35
        },
        "id": "MMhMhjsd2jBP",
        "outputId": "d1388654-5c46-4c74-dc98-288464100666"
      },
      "execution_count": 121,
      "outputs": [
        {
          "output_type": "execute_result",
          "data": {
            "application/vnd.google.colaboratory.intrinsic+json": {
              "type": "string"
            },
            "text/plain": [
              "'Quant AnalystRProblem SolvingData AnalysisFinancial MarketsPython'"
            ]
          },
          "metadata": {},
          "execution_count": 121
        }
      ]
    },
    {
      "cell_type": "code",
      "source": [
        "A[0].find('ul',class_=\"tags has-description\").find('li',class_=\"fleft fs12 grey-text lh16 dot\").text"
      ],
      "metadata": {
        "colab": {
          "base_uri": "https://localhost:8080/",
          "height": 35
        },
        "id": "-QxV3tFk1k3d",
        "outputId": "a83b1be0-3973-4f18-c9af-2b973c61c5cf"
      },
      "execution_count": 126,
      "outputs": [
        {
          "output_type": "execute_result",
          "data": {
            "application/vnd.google.colaboratory.intrinsic+json": {
              "type": "string"
            },
            "text/plain": [
              "'Quant Analyst'"
            ]
          },
          "metadata": {},
          "execution_count": 126
        }
      ]
    },
    {
      "cell_type": "code",
      "source": [
        "A[0].find('ul',class_=\"tags has-description\").find('li',class_=\"fleft fs12 grey-text lh16 dot\").text"
      ],
      "metadata": {
        "colab": {
          "base_uri": "https://localhost:8080/",
          "height": 35
        },
        "id": "NBXMAQfr3vpj",
        "outputId": "11a65931-b7a3-406c-9b8a-d36aeeb9d52c"
      },
      "execution_count": 128,
      "outputs": [
        {
          "output_type": "execute_result",
          "data": {
            "application/vnd.google.colaboratory.intrinsic+json": {
              "type": "string"
            },
            "text/plain": [
              "'Quant Analyst'"
            ]
          },
          "metadata": {},
          "execution_count": 128
        }
      ]
    },
    {
      "cell_type": "code",
      "source": [
        "# A[0].find('span',class_=\"fleft fw500\").text  ##no of days job posted ago"
      ],
      "metadata": {
        "colab": {
          "base_uri": "https://localhost:8080/",
          "height": 35
        },
        "id": "0GXaui2n4AUP",
        "outputId": "71cadda5-4e56-4556-b543-61d7f7178f23"
      },
      "execution_count": 132,
      "outputs": [
        {
          "output_type": "execute_result",
          "data": {
            "application/vnd.google.colaboratory.intrinsic+json": {
              "type": "string"
            },
            "text/plain": [
              "'3 Days Ago'"
            ]
          },
          "metadata": {},
          "execution_count": 132
        }
      ]
    },
    {
      "cell_type": "code",
      "source": [
        ""
      ],
      "metadata": {
        "id": "smuqsuS34_33"
      },
      "execution_count": 155,
      "outputs": []
    },
    {
      "cell_type": "code",
      "source": [
        ""
      ],
      "metadata": {
        "id": "EsfEd3186l5H"
      },
      "execution_count": 155,
      "outputs": []
    },
    {
      "cell_type": "code",
      "source": [
        ""
      ],
      "metadata": {
        "id": "B0-jKpEX60EI"
      },
      "execution_count": null,
      "outputs": []
    }
  ]
}