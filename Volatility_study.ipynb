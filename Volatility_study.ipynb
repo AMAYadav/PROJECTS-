{
  "nbformat": 4,
  "nbformat_minor": 0,
  "metadata": {
    "colab": {
      "name": "Volatility_study.ipynb",
      "provenance": [],
      "collapsed_sections": [],
      "mount_file_id": "1Pc2g-b56ZJJuNpZJNhjedL1H8SAAE6TM",
      "authorship_tag": "ABX9TyO6QVfQb4PjsH8HdoGpBoMI",
      "include_colab_link": true
    },
    "kernelspec": {
      "name": "python3",
      "display_name": "Python 3"
    },
    "language_info": {
      "name": "python"
    }
  },
  "cells": [
    {
      "cell_type": "markdown",
      "metadata": {
        "id": "view-in-github",
        "colab_type": "text"
      },
      "source": [
        "<a href=\"https://colab.research.google.com/github/AMAYadav/PROJECTS-/blob/main/Volatility_study.ipynb\" target=\"_parent\"><img src=\"https://colab.research.google.com/assets/colab-badge.svg\" alt=\"Open In Colab\"/></a>"
      ]
    },
    {
      "cell_type": "markdown",
      "source": [
        "\n",
        "# links "
      ],
      "metadata": {
        "id": "wIKHnUMzFfIA"
      }
    },
    {
      "cell_type": "code",
      "source": [
        "'https://www.analyticsvidhya.com/blog/2020/10/a-comprehensive-guide-to-feature-selection-using-wrapper-methods-in-python/'\n",
        "\n",
        "\n",
        "'http://rasbt.github.io/mlxtend/user_guide/feature_selection/ExhaustiveFeatureSelector/'\n",
        "\n",
        "\n",
        "'http://rasbt.github.io/mlxtend/user_guide/feature_selection/SequentialFeatureSelector/'"
      ],
      "metadata": {
        "colab": {
          "base_uri": "https://localhost:8080/",
          "height": 35
        },
        "id": "N_4j-IGgsKm_",
        "outputId": "80800085-df65-4f59-f152-f27ef89431b3"
      },
      "execution_count": 1,
      "outputs": [
        {
          "output_type": "execute_result",
          "data": {
            "application/vnd.google.colaboratory.intrinsic+json": {
              "type": "string"
            },
            "text/plain": [
              "'http://rasbt.github.io/mlxtend/user_guide/feature_selection/SequentialFeatureSelector/'"
            ]
          },
          "metadata": {},
          "execution_count": 1
        }
      ]
    },
    {
      "cell_type": "code",
      "execution_count": null,
      "metadata": {
        "id": "zc17U7jCsAN0",
        "colab": {
          "base_uri": "https://localhost:8080/"
        },
        "outputId": "b5456dd0-6ff9-480d-b266-cdac094549c4"
      },
      "outputs": [
        {
          "output_type": "stream",
          "name": "stdout",
          "text": [
            "\u001b[K     |████████████████████████████████| 6.4 MB 6.5 MB/s \n",
            "\u001b[K     |████████████████████████████████| 63 kB 980 kB/s \n",
            "\u001b[31mERROR: pip's dependency resolver does not currently take into account all the packages that are installed. This behaviour is the source of the following dependency conflicts.\n",
            "google-colab 1.0.0 requires requests~=2.23.0, but you have requests 2.27.1 which is incompatible.\n",
            "datascience 0.10.6 requires folium==0.2.1, but you have folium 0.8.3 which is incompatible.\u001b[0m\n",
            "\u001b[K     |████████████████████████████████| 40 kB 2.6 MB/s \n",
            "\u001b[?25h"
          ]
        }
      ],
      "source": [
        "!pip3 install yfinance --quiet\n",
        "!pip3 install quantstats --quiet\n",
        "!pip3 install quantstats --quiet\n",
        "%pip  install mlxtend --upgrade --quiet"
      ]
    },
    {
      "cell_type": "code",
      "source": [
        "'https://www.kaggle.com/rohanrao/nifty50-stock-market-data'"
      ],
      "metadata": {
        "id": "BA9TO1XdsLx_"
      },
      "execution_count": null,
      "outputs": []
    },
    {
      "cell_type": "code",
      "source": [
        "'https://www.kaggle.com/ritvik1909/time-series-analysis'"
      ],
      "metadata": {
        "id": "iUR1iHV0sLts"
      },
      "execution_count": null,
      "outputs": []
    },
    {
      "cell_type": "code",
      "source": [
        "'https://www.kaggle.com/rohanrao/a-modern-time-series-tutorial'  #Auto-ARIMAX"
      ],
      "metadata": {
        "id": "NWN42PT4016w"
      },
      "execution_count": null,
      "outputs": []
    },
    {
      "cell_type": "code",
      "source": [
        ""
      ],
      "metadata": {
        "id": "CpqFwdbn2Efe"
      },
      "execution_count": null,
      "outputs": []
    },
    {
      "cell_type": "code",
      "source": [
        "'https://www.youtube.com/watch?v=T8xEQI8XXGs'"
      ],
      "metadata": {
        "id": "LsG4SLOb2Epu"
      },
      "execution_count": null,
      "outputs": []
    },
    {
      "cell_type": "code",
      "source": [
        "# What does EQ, BE, BL,BT, GC and IL series stands for in NSE ?\n",
        "\"https://tradesmartonline.in/help/trading/what-does-eq-and-be-series-stand-for-in-nse/#:~:text=EQ%3A%20It%20stands%20for%20Equity,possible%20in%20addition%20to%20delivery.&text=Shares%20falling%20in%20the%20Trade,giving%20the%20delivery%20of%20shares.\"\n",
        "\n",
        "'''EQ: It stands for Equity. In this series intraday trading is possible in addition to delivery.\n",
        "\n",
        "  BE:  It stands for Book Entry. Shares falling in the Trade-to-Trade or T-segment are traded in this series and no intraday is allowed. This means trades can only be settled by accepting or giving the delivery of shares.\n",
        "\n",
        "  BL: This series is for facilitating block deals. Block deal is a trade, with a minimum quantity of 5 lakh shares or minimum value of Rs. 5 crore, executed through a single transaction, on the special “Block Deal window”. The window is opened for only 35 minutes in the morning from 9:15 to 9:50AM.\n",
        "\n",
        "  BT: This series provides an exit route to small investors having shares in the physical form with a cap of maximum 500 shares.\n",
        "\n",
        "  BZ: Stocks that are blacklisted for violation of exchange rules. This series stocks falls under Trade-to-Trade category and hence BTST (Buy Today Sell Tomorrow) and intraday is not allowed in such stocks.\n",
        "\n",
        "  GC –  This series allows Government Securities and Treasury Bills to be traded under this category.\n",
        "\n",
        "  IL –    This series allows only FIIs to trade among themselves. Permissible only in those securities where maximum permissible limit for FIIs is not breached.\"'"
      ],
      "metadata": {
        "id": "-giOo3ZW2ExR"
      },
      "execution_count": null,
      "outputs": []
    },
    {
      "cell_type": "code",
      "source": [
        "import pandas as pd\n",
        "import numpy as np\n",
        "import quantstats as qs\n",
        "qs.extend_pandas()\n",
        "\n",
        "\n",
        "import matplotlib as mpl\n",
        "import matplotlib.pyplot as plt\n",
        "%matplotlib inline\n",
        "# %matplotlib notebook\n",
        "import seaborn"
      ],
      "metadata": {
        "id": "0q_n5pX62E8a"
      },
      "execution_count": null,
      "outputs": []
    },
    {
      "cell_type": "markdown",
      "source": [
        "# New Section"
      ],
      "metadata": {
        "id": "zUJz0ibNFsdw"
      }
    },
    {
      "cell_type": "code",
      "source": [
        "import os\n",
        "os.environ['NIFTY_DATASET']= '/content/drive/MyDrive/NIFTY_DATASET'"
      ],
      "metadata": {
        "id": "4-5sbU0zFvKP"
      },
      "execution_count": null,
      "outputs": []
    },
    {
      "cell_type": "code",
      "source": [
        "%cd /content/drive/MyDrive/NIFTY_DATASET/DATASET/"
      ],
      "metadata": {
        "id": "SntKLksTHkdW"
      },
      "execution_count": null,
      "outputs": []
    },
    {
      "cell_type": "code",
      "source": [
        "!ls 'NIFTY DATASET.zip'"
      ],
      "metadata": {
        "id": "QnXN01gIHssf"
      },
      "execution_count": null,
      "outputs": []
    },
    {
      "cell_type": "code",
      "source": [
        "# !unzip 'NIFTY DATASET.zip' "
      ],
      "metadata": {
        "id": "VPqDtPweJZJR"
      },
      "execution_count": null,
      "outputs": []
    },
    {
      "cell_type": "code",
      "source": [
        "powergrid=pd.read_csv('/content/drive/MyDrive/NIFTY_DATASET/POWERGRID.csv',parse_dates=True)"
      ],
      "metadata": {
        "id": "3HbH7e_YMLAN"
      },
      "execution_count": null,
      "outputs": []
    },
    {
      "cell_type": "code",
      "source": [
        "powergrid.info()"
      ],
      "metadata": {
        "id": "Rg_hQI1elult"
      },
      "execution_count": null,
      "outputs": []
    },
    {
      "cell_type": "code",
      "source": [
        "powergrid.Date= pd.to_datetime(powergrid.Date)"
      ],
      "metadata": {
        "id": "Soly-uytQ6v2"
      },
      "execution_count": null,
      "outputs": []
    },
    {
      "cell_type": "code",
      "source": [
        "powergrid.info()"
      ],
      "metadata": {
        "id": "mo_BkWosj-i1"
      },
      "execution_count": null,
      "outputs": []
    },
    {
      "cell_type": "code",
      "source": [
        "powergrid"
      ],
      "metadata": {
        "id": "iuylYQS80wZ1"
      },
      "execution_count": null,
      "outputs": []
    },
    {
      "cell_type": "code",
      "source": [
        "powergrid.set_index('Date',inplace=True)"
      ],
      "metadata": {
        "id": "TfLz5HZdlO38"
      },
      "execution_count": null,
      "outputs": []
    },
    {
      "cell_type": "code",
      "source": [
        "powergrid.info()"
      ],
      "metadata": {
        "id": "qBtzj99QQZ06"
      },
      "execution_count": null,
      "outputs": []
    },
    {
      "cell_type": "code",
      "source": [
        "powergrid.iloc[:,3:].tail()"
      ],
      "metadata": {
        "id": "o8imK7Rdm16E"
      },
      "execution_count": null,
      "outputs": []
    },
    {
      "cell_type": "code",
      "source": [
        "powergrid.iloc[:,[3,5,7,11]].isna().sum()"
      ],
      "metadata": {
        "id": "lKQcJziAkNF3"
      },
      "execution_count": null,
      "outputs": []
    },
    {
      "cell_type": "code",
      "source": [
        "# nifty.iloc[:,[3,5,7,11]]"
      ],
      "metadata": {
        "id": "XxCGuyd6nYtr"
      },
      "execution_count": null,
      "outputs": []
    },
    {
      "cell_type": "code",
      "source": [
        "powergrid.iloc[:,3:10].describe().round(3)"
      ],
      "metadata": {
        "id": "klP3L18NmicT"
      },
      "execution_count": null,
      "outputs": []
    },
    {
      "cell_type": "code",
      "source": [
        "powergrid.iloc[:,2:8].plot(subplots=True,figsize=(18,8))[0]"
      ],
      "metadata": {
        "id": "Y7ACpirqzPOT"
      },
      "execution_count": null,
      "outputs": []
    },
    {
      "cell_type": "markdown",
      "source": [
        "# RESAMPLING"
      ],
      "metadata": {
        "id": "_3lJ7y9Gn-o9"
      }
    },
    {
      "cell_type": "markdown",
      "source": [
        "Monthly"
      ],
      "metadata": {
        "id": "y6vuSm2XnzEm"
      }
    },
    {
      "cell_type": "code",
      "source": [
        "powergrid_monthly=powergrid.resample('M')\\\n",
        ".last()\n",
        "powergrid_monthly"
      ],
      "metadata": {
        "id": "eJKgcfpBoZEm"
      },
      "execution_count": null,
      "outputs": []
    },
    {
      "cell_type": "code",
      "source": [
        "# powergrid_monthly.plot(legend=False)\n",
        "powergrid_monthly.iloc[:,2:8].plot(subplots=True,figsize=(20,8))[0]"
      ],
      "metadata": {
        "id": "rAiG9JNZy2-k"
      },
      "execution_count": null,
      "outputs": []
    },
    {
      "cell_type": "markdown",
      "source": [
        "Quarterly"
      ],
      "metadata": {
        "id": "lqDIeKYHoGJn"
      }
    },
    {
      "cell_type": "code",
      "source": [
        "powergrid_quarterly=powergrid.resample('Q')\\\n",
        ".last()\n",
        "powergrid_quarterly"
      ],
      "metadata": {
        "id": "QsQ_DfV7oZ0c"
      },
      "execution_count": null,
      "outputs": []
    },
    {
      "cell_type": "code",
      "source": [
        "powergrid_quarterly.iloc[:,2:8].plot(subplots=True,figsize=(20,8))[0]"
      ],
      "metadata": {
        "id": "dG-agFbS48Gb"
      },
      "execution_count": null,
      "outputs": []
    },
    {
      "cell_type": "code",
      "source": [
        "# #fiscal year wise sampling\n",
        "\n",
        "# nifty_quarterly_f=nifty.resample('Q-MAR')\\\n",
        "# .last()\n",
        "# nifty_quarterly_f"
      ],
      "metadata": {
        "id": "ItVVMAo8tt28"
      },
      "execution_count": null,
      "outputs": []
    },
    {
      "cell_type": "markdown",
      "source": [
        "Half Yearly"
      ],
      "metadata": {
        "id": "UFuODSKBoNiX"
      }
    },
    {
      "cell_type": "code",
      "source": [
        "powergrid_half_yearly=powergrid.resample('2Q')\\\n",
        ".last()\n",
        "powergrid_half_yearly"
      ],
      "metadata": {
        "id": "6y1NJ6N8obG5"
      },
      "execution_count": null,
      "outputs": []
    },
    {
      "cell_type": "code",
      "source": [
        "powergrid_half_yearly.iloc[:,2:8].plot(subplots=True,figsize=(20,8))[0]"
      ],
      "metadata": {
        "id": "1SyBkPO35C2j"
      },
      "execution_count": null,
      "outputs": []
    },
    {
      "cell_type": "markdown",
      "source": [
        "Yearly"
      ],
      "metadata": {
        "id": "KLaAmC9BoWE4"
      }
    },
    {
      "cell_type": "code",
      "source": [
        "powergrid_yearly=powergrid.resample('Y')\\\n",
        ".last()\n",
        "powergrid_yearly"
      ],
      "metadata": {
        "id": "P_M8uK8Uob6r"
      },
      "execution_count": null,
      "outputs": []
    },
    {
      "cell_type": "code",
      "source": [
        "powergrid_yearly.iloc[:,2:8]['Close'].plot(subplots=False,figsize=(20,8),ylabel='Price',xlabel='Yearly')"
      ],
      "metadata": {
        "id": "O8oCE3Pi5IpN"
      },
      "execution_count": null,
      "outputs": []
    },
    {
      "cell_type": "code",
      "source": [
        ""
      ],
      "metadata": {
        "id": "EwBP5w335r-i"
      },
      "execution_count": null,
      "outputs": []
    }
  ]
}