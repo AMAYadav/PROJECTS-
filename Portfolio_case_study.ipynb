{
  "nbformat": 4,
  "nbformat_minor": 0,
  "metadata": {
    "colab": {
      "name": "Portfolio_case_study.ipynb",
      "provenance": [],
      "collapsed_sections": [],
      "authorship_tag": "ABX9TyPakhruThh6TEA2b8H/S6YQ",
      "include_colab_link": true
    },
    "kernelspec": {
      "name": "python3",
      "display_name": "Python 3"
    },
    "language_info": {
      "name": "python"
    }
  },
  "cells": [
    {
      "cell_type": "markdown",
      "metadata": {
        "id": "view-in-github",
        "colab_type": "text"
      },
      "source": [
        "<a href=\"https://colab.research.google.com/github/AMAYadav/PROJECTS-/blob/main/Portfolio_case_study.ipynb\" target=\"_parent\"><img src=\"https://colab.research.google.com/assets/colab-badge.svg\" alt=\"Open In Colab\"/></a>"
      ]
    },
    {
      "cell_type": "code",
      "execution_count": 22,
      "metadata": {
        "colab": {
          "base_uri": "https://localhost:8080/"
        },
        "id": "BluNVD9tz006",
        "outputId": "cd522c99-cc91-4b1e-c764-f5f0c063fb14"
      },
      "outputs": [
        {
          "output_type": "stream",
          "name": "stdout",
          "text": [
            "Requirement already satisfied: yfinance in /usr/local/lib/python3.7/dist-packages (0.1.67)\n",
            "Requirement already satisfied: multitasking>=0.0.7 in /usr/local/lib/python3.7/dist-packages (from yfinance) (0.0.10)\n",
            "Requirement already satisfied: requests>=2.20 in /usr/local/lib/python3.7/dist-packages (from yfinance) (2.23.0)\n",
            "Requirement already satisfied: lxml>=4.5.1 in /usr/local/lib/python3.7/dist-packages (from yfinance) (4.6.5)\n",
            "Requirement already satisfied: numpy>=1.15 in /usr/local/lib/python3.7/dist-packages (from yfinance) (1.19.5)\n",
            "Requirement already satisfied: pandas>=0.24 in /usr/local/lib/python3.7/dist-packages (from yfinance) (1.1.5)\n",
            "Requirement already satisfied: pytz>=2017.2 in /usr/local/lib/python3.7/dist-packages (from pandas>=0.24->yfinance) (2018.9)\n",
            "Requirement already satisfied: python-dateutil>=2.7.3 in /usr/local/lib/python3.7/dist-packages (from pandas>=0.24->yfinance) (2.8.2)\n",
            "Requirement already satisfied: six>=1.5 in /usr/local/lib/python3.7/dist-packages (from python-dateutil>=2.7.3->pandas>=0.24->yfinance) (1.15.0)\n",
            "Requirement already satisfied: idna<3,>=2.5 in /usr/local/lib/python3.7/dist-packages (from requests>=2.20->yfinance) (2.10)\n",
            "Requirement already satisfied: certifi>=2017.4.17 in /usr/local/lib/python3.7/dist-packages (from requests>=2.20->yfinance) (2021.10.8)\n",
            "Requirement already satisfied: urllib3!=1.25.0,!=1.25.1,<1.26,>=1.21.1 in /usr/local/lib/python3.7/dist-packages (from requests>=2.20->yfinance) (1.24.3)\n",
            "Requirement already satisfied: chardet<4,>=3.0.2 in /usr/local/lib/python3.7/dist-packages (from requests>=2.20->yfinance) (3.0.4)\n"
          ]
        }
      ],
      "source": [
        "pip install yfinance"
      ]
    },
    {
      "cell_type": "code",
      "source": [
        "pip install nsetools"
      ],
      "metadata": {
        "colab": {
          "base_uri": "https://localhost:8080/"
        },
        "id": "Lr0pYLc50THi",
        "outputId": "c9799a6c-a82b-4201-d7e2-6b39600e28c6"
      },
      "execution_count": 23,
      "outputs": [
        {
          "output_type": "stream",
          "name": "stdout",
          "text": [
            "Requirement already satisfied: nsetools in /usr/local/lib/python3.7/dist-packages (1.0.11)\n",
            "Requirement already satisfied: dateutils in /usr/local/lib/python3.7/dist-packages (from nsetools) (0.6.12)\n",
            "Requirement already satisfied: six in /usr/local/lib/python3.7/dist-packages (from nsetools) (1.15.0)\n",
            "Requirement already satisfied: pytz in /usr/local/lib/python3.7/dist-packages (from dateutils->nsetools) (2018.9)\n",
            "Requirement already satisfied: python-dateutil in /usr/local/lib/python3.7/dist-packages (from dateutils->nsetools) (2.8.2)\n"
          ]
        }
      ]
    },
    {
      "cell_type": "code",
      "source": [
        "pip install pyfolio"
      ],
      "metadata": {
        "colab": {
          "base_uri": "https://localhost:8080/"
        },
        "id": "4gAxesss0ngH",
        "outputId": "95119011-34da-490c-c857-0accc8991ff2"
      },
      "execution_count": 24,
      "outputs": [
        {
          "output_type": "stream",
          "name": "stdout",
          "text": [
            "Requirement already satisfied: pyfolio in /usr/local/lib/python3.7/dist-packages (0.9.2)\n",
            "Requirement already satisfied: pytz>=2014.10 in /usr/local/lib/python3.7/dist-packages (from pyfolio) (2018.9)\n",
            "Requirement already satisfied: matplotlib>=1.4.0 in /usr/local/lib/python3.7/dist-packages (from pyfolio) (3.2.2)\n",
            "Requirement already satisfied: ipython>=3.2.3 in /usr/local/lib/python3.7/dist-packages (from pyfolio) (5.5.0)\n",
            "Requirement already satisfied: numpy>=1.11.1 in /usr/local/lib/python3.7/dist-packages (from pyfolio) (1.19.5)\n",
            "Requirement already satisfied: seaborn>=0.7.1 in /usr/local/lib/python3.7/dist-packages (from pyfolio) (0.11.2)\n",
            "Requirement already satisfied: scikit-learn>=0.16.1 in /usr/local/lib/python3.7/dist-packages (from pyfolio) (1.0.1)\n",
            "Requirement already satisfied: pandas>=0.18.1 in /usr/local/lib/python3.7/dist-packages (from pyfolio) (1.1.5)\n",
            "Requirement already satisfied: empyrical>=0.5.0 in /usr/local/lib/python3.7/dist-packages (from pyfolio) (0.5.5)\n",
            "Requirement already satisfied: scipy>=0.14.0 in /usr/local/lib/python3.7/dist-packages (from pyfolio) (1.4.1)\n",
            "Requirement already satisfied: pandas-datareader>=0.2 in /usr/local/lib/python3.7/dist-packages (from empyrical>=0.5.0->pyfolio) (0.9.0)\n",
            "Requirement already satisfied: setuptools>=18.5 in /usr/local/lib/python3.7/dist-packages (from ipython>=3.2.3->pyfolio) (57.4.0)\n",
            "Requirement already satisfied: prompt-toolkit<2.0.0,>=1.0.4 in /usr/local/lib/python3.7/dist-packages (from ipython>=3.2.3->pyfolio) (1.0.18)\n",
            "Requirement already satisfied: simplegeneric>0.8 in /usr/local/lib/python3.7/dist-packages (from ipython>=3.2.3->pyfolio) (0.8.1)\n",
            "Requirement already satisfied: decorator in /usr/local/lib/python3.7/dist-packages (from ipython>=3.2.3->pyfolio) (4.4.2)\n",
            "Requirement already satisfied: pexpect in /usr/local/lib/python3.7/dist-packages (from ipython>=3.2.3->pyfolio) (4.8.0)\n",
            "Requirement already satisfied: pygments in /usr/local/lib/python3.7/dist-packages (from ipython>=3.2.3->pyfolio) (2.6.1)\n",
            "Requirement already satisfied: traitlets>=4.2 in /usr/local/lib/python3.7/dist-packages (from ipython>=3.2.3->pyfolio) (5.1.1)\n",
            "Requirement already satisfied: pickleshare in /usr/local/lib/python3.7/dist-packages (from ipython>=3.2.3->pyfolio) (0.7.5)\n",
            "Requirement already satisfied: cycler>=0.10 in /usr/local/lib/python3.7/dist-packages (from matplotlib>=1.4.0->pyfolio) (0.11.0)\n",
            "Requirement already satisfied: kiwisolver>=1.0.1 in /usr/local/lib/python3.7/dist-packages (from matplotlib>=1.4.0->pyfolio) (1.3.2)\n",
            "Requirement already satisfied: pyparsing!=2.0.4,!=2.1.2,!=2.1.6,>=2.0.1 in /usr/local/lib/python3.7/dist-packages (from matplotlib>=1.4.0->pyfolio) (3.0.6)\n",
            "Requirement already satisfied: python-dateutil>=2.1 in /usr/local/lib/python3.7/dist-packages (from matplotlib>=1.4.0->pyfolio) (2.8.2)\n",
            "Requirement already satisfied: lxml in /usr/local/lib/python3.7/dist-packages (from pandas-datareader>=0.2->empyrical>=0.5.0->pyfolio) (4.6.5)\n",
            "Requirement already satisfied: requests>=2.19.0 in /usr/local/lib/python3.7/dist-packages (from pandas-datareader>=0.2->empyrical>=0.5.0->pyfolio) (2.23.0)\n",
            "Requirement already satisfied: wcwidth in /usr/local/lib/python3.7/dist-packages (from prompt-toolkit<2.0.0,>=1.0.4->ipython>=3.2.3->pyfolio) (0.2.5)\n",
            "Requirement already satisfied: six>=1.9.0 in /usr/local/lib/python3.7/dist-packages (from prompt-toolkit<2.0.0,>=1.0.4->ipython>=3.2.3->pyfolio) (1.15.0)\n",
            "Requirement already satisfied: urllib3!=1.25.0,!=1.25.1,<1.26,>=1.21.1 in /usr/local/lib/python3.7/dist-packages (from requests>=2.19.0->pandas-datareader>=0.2->empyrical>=0.5.0->pyfolio) (1.24.3)\n",
            "Requirement already satisfied: certifi>=2017.4.17 in /usr/local/lib/python3.7/dist-packages (from requests>=2.19.0->pandas-datareader>=0.2->empyrical>=0.5.0->pyfolio) (2021.10.8)\n",
            "Requirement already satisfied: idna<3,>=2.5 in /usr/local/lib/python3.7/dist-packages (from requests>=2.19.0->pandas-datareader>=0.2->empyrical>=0.5.0->pyfolio) (2.10)\n",
            "Requirement already satisfied: chardet<4,>=3.0.2 in /usr/local/lib/python3.7/dist-packages (from requests>=2.19.0->pandas-datareader>=0.2->empyrical>=0.5.0->pyfolio) (3.0.4)\n",
            "Requirement already satisfied: joblib>=0.11 in /usr/local/lib/python3.7/dist-packages (from scikit-learn>=0.16.1->pyfolio) (1.1.0)\n",
            "Requirement already satisfied: threadpoolctl>=2.0.0 in /usr/local/lib/python3.7/dist-packages (from scikit-learn>=0.16.1->pyfolio) (3.0.0)\n",
            "Requirement already satisfied: ptyprocess>=0.5 in /usr/local/lib/python3.7/dist-packages (from pexpect->ipython>=3.2.3->pyfolio) (0.7.0)\n"
          ]
        }
      ]
    },
    {
      "cell_type": "code",
      "source": [
        "pip install pyportfolioopt"
      ],
      "metadata": {
        "colab": {
          "base_uri": "https://localhost:8080/"
        },
        "id": "IIGb1r6l0ni_",
        "outputId": "f38789e6-b6dd-4b13-d5c5-242f97774ef3"
      },
      "execution_count": 25,
      "outputs": [
        {
          "output_type": "stream",
          "name": "stdout",
          "text": [
            "Requirement already satisfied: pyportfolioopt in /usr/local/lib/python3.7/dist-packages (1.5.1)\n",
            "Requirement already satisfied: numpy<2.0,>=1.12 in /usr/local/lib/python3.7/dist-packages (from pyportfolioopt) (1.19.5)\n",
            "Requirement already satisfied: scipy<2.0,>=1.3 in /usr/local/lib/python3.7/dist-packages (from pyportfolioopt) (1.4.1)\n",
            "Requirement already satisfied: cvxpy<2.0.0,>=1.1.10 in /usr/local/lib/python3.7/dist-packages (from pyportfolioopt) (1.1.17)\n",
            "Requirement already satisfied: pandas>=0.19 in /usr/local/lib/python3.7/dist-packages (from pyportfolioopt) (1.1.5)\n",
            "Requirement already satisfied: osqp>=0.4.1 in /usr/local/lib/python3.7/dist-packages (from cvxpy<2.0.0,>=1.1.10->pyportfolioopt) (0.6.2.post0)\n",
            "Requirement already satisfied: scs>=1.1.6 in /usr/local/lib/python3.7/dist-packages (from cvxpy<2.0.0,>=1.1.10->pyportfolioopt) (2.1.4)\n",
            "Requirement already satisfied: ecos>=2 in /usr/local/lib/python3.7/dist-packages (from cvxpy<2.0.0,>=1.1.10->pyportfolioopt) (2.0.7.post1)\n",
            "Requirement already satisfied: qdldl in /usr/local/lib/python3.7/dist-packages (from osqp>=0.4.1->cvxpy<2.0.0,>=1.1.10->pyportfolioopt) (0.1.5.post0)\n",
            "Requirement already satisfied: pytz>=2017.2 in /usr/local/lib/python3.7/dist-packages (from pandas>=0.19->pyportfolioopt) (2018.9)\n",
            "Requirement already satisfied: python-dateutil>=2.7.3 in /usr/local/lib/python3.7/dist-packages (from pandas>=0.19->pyportfolioopt) (2.8.2)\n",
            "Requirement already satisfied: six>=1.5 in /usr/local/lib/python3.7/dist-packages (from python-dateutil>=2.7.3->pandas>=0.19->pyportfolioopt) (1.15.0)\n"
          ]
        }
      ]
    },
    {
      "cell_type": "code",
      "source": [
        "import yfinance as yf\n",
        "import pyfolio as pf"
      ],
      "metadata": {
        "id": "fhfe6a2Q0nmU"
      },
      "execution_count": 26,
      "outputs": []
    },
    {
      "cell_type": "code",
      "source": [
        "import pandas as pd\n",
        "import numpy as np\n",
        "import matplotlib.pyplot as plt\n",
        "%matplotlib inline"
      ],
      "metadata": {
        "id": "jrrHbHAP0nui"
      },
      "execution_count": 27,
      "outputs": []
    },
    {
      "cell_type": "markdown",
      "source": [
        "#Parcing the industry lists\n"
      ],
      "metadata": {
        "id": "RoU1z2Mx3b0n"
      }
    },
    {
      "cell_type": "code",
      "source": [
        "import requests\n",
        "from bs4 import BeautifulSoup"
      ],
      "metadata": {
        "id": "9KBNAoKI3aaZ"
      },
      "execution_count": 28,
      "outputs": []
    },
    {
      "cell_type": "code",
      "source": [
        "webpage=requests.get('https://indiainvestmentgrid.gov.in/sectors').text"
      ],
      "metadata": {
        "id": "anxg7c8u3adr"
      },
      "execution_count": 112,
      "outputs": []
    },
    {
      "cell_type": "code",
      "source": [
        "soup=BeautifulSoup(webpage,'lxml')"
      ],
      "metadata": {
        "id": "lp0YpY6n3ajU"
      },
      "execution_count": 113,
      "outputs": []
    },
    {
      "cell_type": "code",
      "source": [
        "print(soup.prettify())"
      ],
      "metadata": {
        "id": "0UN29Huu3amW"
      },
      "execution_count": null,
      "outputs": []
    },
    {
      "cell_type": "code",
      "source": [
        "industry=soup.find_all('h3')"
      ],
      "metadata": {
        "id": "vzVLTndG5eTi"
      },
      "execution_count": 125,
      "outputs": []
    },
    {
      "cell_type": "code",
      "source": [
        "industry"
      ],
      "metadata": {
        "id": "8MlWd6aQCa4u"
      },
      "execution_count": null,
      "outputs": []
    },
    {
      "cell_type": "code",
      "source": [
        "sector=[]\n",
        "\n",
        "for i in industry:\n",
        "  sector.append(i.text.strip())"
      ],
      "metadata": {
        "id": "tagSyWPh6ob1"
      },
      "execution_count": 130,
      "outputs": []
    },
    {
      "cell_type": "code",
      "source": [
        "len(sector)"
      ],
      "metadata": {
        "colab": {
          "base_uri": "https://localhost:8080/"
        },
        "id": "obyaLcxO52L9",
        "outputId": "cb842121-c8ac-4bc4-d223-0c2624bd3eab"
      },
      "execution_count": 132,
      "outputs": [
        {
          "output_type": "execute_result",
          "data": {
            "text/plain": [
              "22"
            ]
          },
          "metadata": {},
          "execution_count": 132
        }
      ]
    },
    {
      "cell_type": "code",
      "source": [
        "sector\n",
        "\n",
        "\n",
        "df=pd.DataFrame({'Various Sectors':sector,\n",
        "    })"
      ],
      "metadata": {
        "id": "ihie1Wjv67gJ"
      },
      "execution_count": 134,
      "outputs": []
    },
    {
      "cell_type": "code",
      "source": [
        "df\n",
        "\n",
        "df = df.drop(labels=0, axis=0)"
      ],
      "metadata": {
        "id": "mooHWNXCDxxb"
      },
      "execution_count": 140,
      "outputs": []
    },
    {
      "cell_type": "code",
      "source": [
        "df=df.style.set_properties(**{'text-align': 'left'})"
      ],
      "metadata": {
        "id": "EjsP3rrhEyap"
      },
      "execution_count": 145,
      "outputs": []
    },
    {
      "cell_type": "code",
      "source": [
        "df"
      ],
      "metadata": {
        "colab": {
          "base_uri": "https://localhost:8080/",
          "height": 708
        },
        "id": "s6UJBVpOFWMZ",
        "outputId": "278703e0-4ccc-486a-b3f3-33bf4d9d2104"
      },
      "execution_count": 146,
      "outputs": [
        {
          "output_type": "execute_result",
          "data": {
            "text/html": [
              "<style  type=\"text/css\" >\n",
              "#T_9fd7c60e_5bce_11ec_b971_0242ac1c0002row0_col0,#T_9fd7c60e_5bce_11ec_b971_0242ac1c0002row1_col0,#T_9fd7c60e_5bce_11ec_b971_0242ac1c0002row2_col0,#T_9fd7c60e_5bce_11ec_b971_0242ac1c0002row3_col0,#T_9fd7c60e_5bce_11ec_b971_0242ac1c0002row4_col0,#T_9fd7c60e_5bce_11ec_b971_0242ac1c0002row5_col0,#T_9fd7c60e_5bce_11ec_b971_0242ac1c0002row6_col0,#T_9fd7c60e_5bce_11ec_b971_0242ac1c0002row7_col0,#T_9fd7c60e_5bce_11ec_b971_0242ac1c0002row8_col0,#T_9fd7c60e_5bce_11ec_b971_0242ac1c0002row9_col0,#T_9fd7c60e_5bce_11ec_b971_0242ac1c0002row10_col0,#T_9fd7c60e_5bce_11ec_b971_0242ac1c0002row11_col0,#T_9fd7c60e_5bce_11ec_b971_0242ac1c0002row12_col0,#T_9fd7c60e_5bce_11ec_b971_0242ac1c0002row13_col0,#T_9fd7c60e_5bce_11ec_b971_0242ac1c0002row14_col0,#T_9fd7c60e_5bce_11ec_b971_0242ac1c0002row15_col0,#T_9fd7c60e_5bce_11ec_b971_0242ac1c0002row16_col0,#T_9fd7c60e_5bce_11ec_b971_0242ac1c0002row17_col0,#T_9fd7c60e_5bce_11ec_b971_0242ac1c0002row18_col0,#T_9fd7c60e_5bce_11ec_b971_0242ac1c0002row19_col0,#T_9fd7c60e_5bce_11ec_b971_0242ac1c0002row20_col0{\n",
              "            text-align:  left;\n",
              "        }</style><table id=\"T_9fd7c60e_5bce_11ec_b971_0242ac1c0002\" class=\"dataframe\"><thead>    <tr>        <th class=\"blank level0\" ></th>        <th class=\"col_heading level0 col0\" >Various Sectors</th>    </tr></thead><tbody>\n",
              "                <tr>\n",
              "                        <th id=\"T_9fd7c60e_5bce_11ec_b971_0242ac1c0002level0_row0\" class=\"row_heading level0 row0\" >1</th>\n",
              "                        <td id=\"T_9fd7c60e_5bce_11ec_b971_0242ac1c0002row0_col0\" class=\"data row0 col0\" >Automotive</td>\n",
              "            </tr>\n",
              "            <tr>\n",
              "                        <th id=\"T_9fd7c60e_5bce_11ec_b971_0242ac1c0002level0_row1\" class=\"row_heading level0 row1\" >2</th>\n",
              "                        <td id=\"T_9fd7c60e_5bce_11ec_b971_0242ac1c0002row1_col0\" class=\"data row1 col0\" >BFSI</td>\n",
              "            </tr>\n",
              "            <tr>\n",
              "                        <th id=\"T_9fd7c60e_5bce_11ec_b971_0242ac1c0002level0_row2\" class=\"row_heading level0 row2\" >3</th>\n",
              "                        <td id=\"T_9fd7c60e_5bce_11ec_b971_0242ac1c0002row2_col0\" class=\"data row2 col0\" >Commercial Infrastructure</td>\n",
              "            </tr>\n",
              "            <tr>\n",
              "                        <th id=\"T_9fd7c60e_5bce_11ec_b971_0242ac1c0002level0_row3\" class=\"row_heading level0 row3\" >4</th>\n",
              "                        <td id=\"T_9fd7c60e_5bce_11ec_b971_0242ac1c0002row3_col0\" class=\"data row3 col0\" >Communication</td>\n",
              "            </tr>\n",
              "            <tr>\n",
              "                        <th id=\"T_9fd7c60e_5bce_11ec_b971_0242ac1c0002level0_row4\" class=\"row_heading level0 row4\" >5</th>\n",
              "                        <td id=\"T_9fd7c60e_5bce_11ec_b971_0242ac1c0002row4_col0\" class=\"data row4 col0\" >Defence</td>\n",
              "            </tr>\n",
              "            <tr>\n",
              "                        <th id=\"T_9fd7c60e_5bce_11ec_b971_0242ac1c0002level0_row5\" class=\"row_heading level0 row5\" >6</th>\n",
              "                        <td id=\"T_9fd7c60e_5bce_11ec_b971_0242ac1c0002row5_col0\" class=\"data row5 col0\" >Energy</td>\n",
              "            </tr>\n",
              "            <tr>\n",
              "                        <th id=\"T_9fd7c60e_5bce_11ec_b971_0242ac1c0002level0_row6\" class=\"row_heading level0 row6\" >7</th>\n",
              "                        <td id=\"T_9fd7c60e_5bce_11ec_b971_0242ac1c0002row6_col0\" class=\"data row6 col0\" >Food Processing & Agriculture</td>\n",
              "            </tr>\n",
              "            <tr>\n",
              "                        <th id=\"T_9fd7c60e_5bce_11ec_b971_0242ac1c0002level0_row7\" class=\"row_heading level0 row7\" >8</th>\n",
              "                        <td id=\"T_9fd7c60e_5bce_11ec_b971_0242ac1c0002row7_col0\" class=\"data row7 col0\" >Gems and Jewellery</td>\n",
              "            </tr>\n",
              "            <tr>\n",
              "                        <th id=\"T_9fd7c60e_5bce_11ec_b971_0242ac1c0002level0_row8\" class=\"row_heading level0 row8\" >9</th>\n",
              "                        <td id=\"T_9fd7c60e_5bce_11ec_b971_0242ac1c0002row8_col0\" class=\"data row8 col0\" >Information Technology</td>\n",
              "            </tr>\n",
              "            <tr>\n",
              "                        <th id=\"T_9fd7c60e_5bce_11ec_b971_0242ac1c0002level0_row9\" class=\"row_heading level0 row9\" >10</th>\n",
              "                        <td id=\"T_9fd7c60e_5bce_11ec_b971_0242ac1c0002row9_col0\" class=\"data row9 col0\" >Logistics</td>\n",
              "            </tr>\n",
              "            <tr>\n",
              "                        <th id=\"T_9fd7c60e_5bce_11ec_b971_0242ac1c0002level0_row10\" class=\"row_heading level0 row10\" >11</th>\n",
              "                        <td id=\"T_9fd7c60e_5bce_11ec_b971_0242ac1c0002row10_col0\" class=\"data row10 col0\" >Manufacturing</td>\n",
              "            </tr>\n",
              "            <tr>\n",
              "                        <th id=\"T_9fd7c60e_5bce_11ec_b971_0242ac1c0002level0_row11\" class=\"row_heading level0 row11\" >12</th>\n",
              "                        <td id=\"T_9fd7c60e_5bce_11ec_b971_0242ac1c0002row11_col0\" class=\"data row11 col0\" >Materials</td>\n",
              "            </tr>\n",
              "            <tr>\n",
              "                        <th id=\"T_9fd7c60e_5bce_11ec_b971_0242ac1c0002level0_row12\" class=\"row_heading level0 row12\" >13</th>\n",
              "                        <td id=\"T_9fd7c60e_5bce_11ec_b971_0242ac1c0002row12_col0\" class=\"data row12 col0\" >Media</td>\n",
              "            </tr>\n",
              "            <tr>\n",
              "                        <th id=\"T_9fd7c60e_5bce_11ec_b971_0242ac1c0002level0_row13\" class=\"row_heading level0 row13\" >14</th>\n",
              "                        <td id=\"T_9fd7c60e_5bce_11ec_b971_0242ac1c0002row13_col0\" class=\"data row13 col0\" >Oil & Gas</td>\n",
              "            </tr>\n",
              "            <tr>\n",
              "                        <th id=\"T_9fd7c60e_5bce_11ec_b971_0242ac1c0002level0_row14\" class=\"row_heading level0 row14\" >15</th>\n",
              "                        <td id=\"T_9fd7c60e_5bce_11ec_b971_0242ac1c0002row14_col0\" class=\"data row14 col0\" >Pharma, Biotech & Lifesciences</td>\n",
              "            </tr>\n",
              "            <tr>\n",
              "                        <th id=\"T_9fd7c60e_5bce_11ec_b971_0242ac1c0002level0_row15\" class=\"row_heading level0 row15\" >16</th>\n",
              "                        <td id=\"T_9fd7c60e_5bce_11ec_b971_0242ac1c0002row15_col0\" class=\"data row15 col0\" >Real Estate</td>\n",
              "            </tr>\n",
              "            <tr>\n",
              "                        <th id=\"T_9fd7c60e_5bce_11ec_b971_0242ac1c0002level0_row16\" class=\"row_heading level0 row16\" >17</th>\n",
              "                        <td id=\"T_9fd7c60e_5bce_11ec_b971_0242ac1c0002row16_col0\" class=\"data row16 col0\" >Retail</td>\n",
              "            </tr>\n",
              "            <tr>\n",
              "                        <th id=\"T_9fd7c60e_5bce_11ec_b971_0242ac1c0002level0_row17\" class=\"row_heading level0 row17\" >18</th>\n",
              "                        <td id=\"T_9fd7c60e_5bce_11ec_b971_0242ac1c0002row17_col0\" class=\"data row17 col0\" >Social Infrastructure</td>\n",
              "            </tr>\n",
              "            <tr>\n",
              "                        <th id=\"T_9fd7c60e_5bce_11ec_b971_0242ac1c0002level0_row18\" class=\"row_heading level0 row18\" >19</th>\n",
              "                        <td id=\"T_9fd7c60e_5bce_11ec_b971_0242ac1c0002row18_col0\" class=\"data row18 col0\" >Tourism</td>\n",
              "            </tr>\n",
              "            <tr>\n",
              "                        <th id=\"T_9fd7c60e_5bce_11ec_b971_0242ac1c0002level0_row19\" class=\"row_heading level0 row19\" >20</th>\n",
              "                        <td id=\"T_9fd7c60e_5bce_11ec_b971_0242ac1c0002row19_col0\" class=\"data row19 col0\" >Transport</td>\n",
              "            </tr>\n",
              "            <tr>\n",
              "                        <th id=\"T_9fd7c60e_5bce_11ec_b971_0242ac1c0002level0_row20\" class=\"row_heading level0 row20\" >21</th>\n",
              "                        <td id=\"T_9fd7c60e_5bce_11ec_b971_0242ac1c0002row20_col0\" class=\"data row20 col0\" >Water & Sanitation</td>\n",
              "            </tr>\n",
              "    </tbody></table>"
            ],
            "text/plain": [
              "<pandas.io.formats.style.Styler at 0x7f446088b390>"
            ]
          },
          "metadata": {},
          "execution_count": 146
        }
      ]
    },
    {
      "cell_type": "code",
      "source": [
        "# NIFTY AUTO (^CNXAUTO)\n",
        "# NIFTY ENERGY (^CNXENERGY) \n",
        "# NIFTY FMCG (^CNXFMCG) - Food Processing & Agriculture\n",
        "# NIFTY IT (^CNXIT) - information technology\n",
        "# \n",
        "# \n",
        "# \n",
        "# \n",
        "# \n",
        "# \n",
        "# \n",
        "# \n",
        "# \n",
        "# \n",
        "# \n",
        "# \n",
        "# \n",
        "# \n",
        "# \n",
        "# \n",
        "# \n",
        "# \n"
      ],
      "metadata": {
        "id": "VXGFWf9eGUyL"
      },
      "execution_count": 156,
      "outputs": []
    },
    {
      "cell_type": "code",
      "source": [
        ""
      ],
      "metadata": {
        "id": "k2hhbKd9GU1r"
      },
      "execution_count": 147,
      "outputs": []
    },
    {
      "cell_type": "code",
      "source": [
        ""
      ],
      "metadata": {
        "id": "i_5Pi0LZGWvu"
      },
      "execution_count": 156,
      "outputs": []
    }
  ]
}